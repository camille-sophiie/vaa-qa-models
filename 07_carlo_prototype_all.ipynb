{
 "cells": [
  {
   "cell_type": "code",
   "execution_count": null,
   "id": "72698908",
   "metadata": {},
   "outputs": [],
   "source": [
    "#load df_questions\n",
    "# join all tweets and create context vector for BERT\n",
    "# use Bert QA\n",
    "# missing column in df_questions "
   ]
  },
  {
   "cell_type": "markdown",
   "id": "bc79edec",
   "metadata": {},
   "source": [
    "## Import libraries"
   ]
  },
  {
   "cell_type": "code",
   "execution_count": 12,
   "id": "cdeaf5f8",
   "metadata": {},
   "outputs": [],
   "source": [
    "import pandas as pd\n",
    "import math\n",
    "from transformers import pipeline"
   ]
  },
  {
   "cell_type": "markdown",
   "id": "cb5dcd62",
   "metadata": {},
   "source": [
    "## Import tweet csv"
   ]
  },
  {
   "cell_type": "code",
   "execution_count": 13,
   "id": "351a0c70",
   "metadata": {},
   "outputs": [],
   "source": [
    "df = pd.read_csv(\"./csv/df_translated_tweets_clean.csv\")"
   ]
  },
  {
   "cell_type": "code",
   "execution_count": 16,
   "id": "bd0b9b07",
   "metadata": {},
   "outputs": [
    {
     "data": {
      "text/html": [
       "<div>\n",
       "<style scoped>\n",
       "    .dataframe tbody tr th:only-of-type {\n",
       "        vertical-align: middle;\n",
       "    }\n",
       "\n",
       "    .dataframe tbody tr th {\n",
       "        vertical-align: top;\n",
       "    }\n",
       "\n",
       "    .dataframe thead th {\n",
       "        text-align: right;\n",
       "    }\n",
       "</style>\n",
       "<table border=\"1\" class=\"dataframe\">\n",
       "  <thead>\n",
       "    <tr style=\"text-align: right;\">\n",
       "      <th></th>\n",
       "      <th>Unnamed: 0</th>\n",
       "      <th>tweets</th>\n",
       "      <th>likes</th>\n",
       "      <th>time</th>\n",
       "      <th>politician_id</th>\n",
       "      <th>language</th>\n",
       "      <th>translated_tweets</th>\n",
       "    </tr>\n",
       "  </thead>\n",
       "  <tbody>\n",
       "    <tr>\n",
       "      <th>0</th>\n",
       "      <td>0</td>\n",
       "      <td>Alors que le Conseil fédéral annonce des défic...</td>\n",
       "      <td>5</td>\n",
       "      <td>2022-09-14 08:08:53+00:00</td>\n",
       "      <td>CarloSommaruga</td>\n",
       "      <td>((0, 253, 'FRENCH', 'fr'),)</td>\n",
       "      <td>While the Federal Council is announcing budget...</td>\n",
       "    </tr>\n",
       "    <tr>\n",
       "      <th>1</th>\n",
       "      <td>1</td>\n",
       "      <td>Les excédents du fonds AVS pour 2020 et 2021 s...</td>\n",
       "      <td>0</td>\n",
       "      <td>2022-08-26 12:28:02+00:00</td>\n",
       "      <td>CarloSommaruga</td>\n",
       "      <td>((0, 185, 'FRENCH', 'fr'),)</td>\n",
       "      <td>The surplus of the AVS fund for 2020 and 2021 ...</td>\n",
       "    </tr>\n",
       "    <tr>\n",
       "      <th>2</th>\n",
       "      <td>2</td>\n",
       "      <td>Es ist pikant, dass ein Fakejournalist, aber e...</td>\n",
       "      <td>4</td>\n",
       "      <td>2022-08-26 12:22:12+00:00</td>\n",
       "      <td>CarloSommaruga</td>\n",
       "      <td>((0, 244, 'GERMAN', 'de'),)</td>\n",
       "      <td>It is piqued that a fake journalist, but a rea...</td>\n",
       "    </tr>\n",
       "    <tr>\n",
       "      <th>3</th>\n",
       "      <td>3</td>\n",
       "      <td>Les statuts permettent l’élection directe et p...</td>\n",
       "      <td>2</td>\n",
       "      <td>2022-08-22 05:44:51+00:00</td>\n",
       "      <td>CarloSommaruga</td>\n",
       "      <td>((0, 288, 'FRENCH', 'fr'),)</td>\n",
       "      <td>The statutes allow for direct election and by ...</td>\n",
       "    </tr>\n",
       "    <tr>\n",
       "      <th>4</th>\n",
       "      <td>4</td>\n",
       "      <td>Les Suisses et Suissesses sont un peuple de lo...</td>\n",
       "      <td>5</td>\n",
       "      <td>2022-08-21 06:23:55+00:00</td>\n",
       "      <td>CarloSommaruga</td>\n",
       "      <td>((0, 104, 'FRENCH', 'fr'),)</td>\n",
       "      <td>The Swiss are a people of tenants, and they re...</td>\n",
       "    </tr>\n",
       "    <tr>\n",
       "      <th>...</th>\n",
       "      <td>...</td>\n",
       "      <td>...</td>\n",
       "      <td>...</td>\n",
       "      <td>...</td>\n",
       "      <td>...</td>\n",
       "      <td>...</td>\n",
       "      <td>...</td>\n",
       "    </tr>\n",
       "    <tr>\n",
       "      <th>1605</th>\n",
       "      <td>1605</td>\n",
       "      <td>Comment le premier parti de suisse peut-il pro...</td>\n",
       "      <td>2</td>\n",
       "      <td>2015-12-08 17:13:38+00:00</td>\n",
       "      <td>CarloSommaruga</td>\n",
       "      <td>((0, 123, 'FRENCH', 'fr'),)</td>\n",
       "      <td>How can the first Swiss party propose so much ...</td>\n",
       "    </tr>\n",
       "    <tr>\n",
       "      <th>1606</th>\n",
       "      <td>1606</td>\n",
       "      <td>CH-EU:73% des entreprises craignent que résili...</td>\n",
       "      <td>0</td>\n",
       "      <td>2015-12-08 10:03:12+00:00</td>\n",
       "      <td>CarloSommaruga</td>\n",
       "      <td>((0, 120, 'FRENCH', 'fr'),)</td>\n",
       "      <td>CH-EU:73% of companies fear that termination o...</td>\n",
       "    </tr>\n",
       "    <tr>\n",
       "      <th>1607</th>\n",
       "      <td>1607</td>\n",
       "      <td>Suisse: De 2009 à 2014, le nombre de jeunes pr...</td>\n",
       "      <td>0</td>\n",
       "      <td>2015-12-07 08:51:27+00:00</td>\n",
       "      <td>CarloSommaruga</td>\n",
       "      <td>((0, 119, 'FRENCH', 'fr'),)</td>\n",
       "      <td>Switzerland: From 2009 to 2014, the number of ...</td>\n",
       "    </tr>\n",
       "    <tr>\n",
       "      <th>1608</th>\n",
       "      <td>1608</td>\n",
       "      <td>Suisse-UE: Clause de sauvegarde unilatérale: P...</td>\n",
       "      <td>1</td>\n",
       "      <td>2015-12-05 15:58:37+00:00</td>\n",
       "      <td>CarloSommaruga</td>\n",
       "      <td>((0, 118, 'FRENCH', 'fr'),)</td>\n",
       "      <td>Switzerland-EU: Unilateral safeguard clause: P...</td>\n",
       "    </tr>\n",
       "    <tr>\n",
       "      <th>1609</th>\n",
       "      <td>1609</td>\n",
       "      <td>PS Suisse - réaliste garant des libertés indiv...</td>\n",
       "      <td>1</td>\n",
       "      <td>2015-12-05 13:53:08+00:00</td>\n",
       "      <td>CarloSommaruga</td>\n",
       "      <td>((0, 142, 'FRENCH', 'fr'),)</td>\n",
       "      <td>PS Switzerland - realistic guarantor of indivi...</td>\n",
       "    </tr>\n",
       "  </tbody>\n",
       "</table>\n",
       "<p>1610 rows × 7 columns</p>\n",
       "</div>"
      ],
      "text/plain": [
       "      Unnamed: 0                                             tweets  likes  \\\n",
       "0              0  Alors que le Conseil fédéral annonce des défic...      5   \n",
       "1              1  Les excédents du fonds AVS pour 2020 et 2021 s...      0   \n",
       "2              2  Es ist pikant, dass ein Fakejournalist, aber e...      4   \n",
       "3              3  Les statuts permettent l’élection directe et p...      2   \n",
       "4              4  Les Suisses et Suissesses sont un peuple de lo...      5   \n",
       "...          ...                                                ...    ...   \n",
       "1605        1605  Comment le premier parti de suisse peut-il pro...      2   \n",
       "1606        1606  CH-EU:73% des entreprises craignent que résili...      0   \n",
       "1607        1607  Suisse: De 2009 à 2014, le nombre de jeunes pr...      0   \n",
       "1608        1608  Suisse-UE: Clause de sauvegarde unilatérale: P...      1   \n",
       "1609        1609  PS Suisse - réaliste garant des libertés indiv...      1   \n",
       "\n",
       "                           time   politician_id                     language  \\\n",
       "0     2022-09-14 08:08:53+00:00  CarloSommaruga  ((0, 253, 'FRENCH', 'fr'),)   \n",
       "1     2022-08-26 12:28:02+00:00  CarloSommaruga  ((0, 185, 'FRENCH', 'fr'),)   \n",
       "2     2022-08-26 12:22:12+00:00  CarloSommaruga  ((0, 244, 'GERMAN', 'de'),)   \n",
       "3     2022-08-22 05:44:51+00:00  CarloSommaruga  ((0, 288, 'FRENCH', 'fr'),)   \n",
       "4     2022-08-21 06:23:55+00:00  CarloSommaruga  ((0, 104, 'FRENCH', 'fr'),)   \n",
       "...                         ...             ...                          ...   \n",
       "1605  2015-12-08 17:13:38+00:00  CarloSommaruga  ((0, 123, 'FRENCH', 'fr'),)   \n",
       "1606  2015-12-08 10:03:12+00:00  CarloSommaruga  ((0, 120, 'FRENCH', 'fr'),)   \n",
       "1607  2015-12-07 08:51:27+00:00  CarloSommaruga  ((0, 119, 'FRENCH', 'fr'),)   \n",
       "1608  2015-12-05 15:58:37+00:00  CarloSommaruga  ((0, 118, 'FRENCH', 'fr'),)   \n",
       "1609  2015-12-05 13:53:08+00:00  CarloSommaruga  ((0, 142, 'FRENCH', 'fr'),)   \n",
       "\n",
       "                                      translated_tweets  \n",
       "0     While the Federal Council is announcing budget...  \n",
       "1     The surplus of the AVS fund for 2020 and 2021 ...  \n",
       "2     It is piqued that a fake journalist, but a rea...  \n",
       "3     The statutes allow for direct election and by ...  \n",
       "4     The Swiss are a people of tenants, and they re...  \n",
       "...                                                 ...  \n",
       "1605  How can the first Swiss party propose so much ...  \n",
       "1606  CH-EU:73% of companies fear that termination o...  \n",
       "1607  Switzerland: From 2009 to 2014, the number of ...  \n",
       "1608  Switzerland-EU: Unilateral safeguard clause: P...  \n",
       "1609  PS Switzerland - realistic guarantor of indivi...  \n",
       "\n",
       "[1610 rows x 7 columns]"
      ]
     },
     "execution_count": 16,
     "metadata": {},
     "output_type": "execute_result"
    }
   ],
   "source": [
    "df"
   ]
  },
  {
   "cell_type": "markdown",
   "id": "5f0a0f1f",
   "metadata": {},
   "source": [
    "## Join all tweets"
   ]
  },
  {
   "cell_type": "code",
   "execution_count": 15,
   "id": "3bb9ed11",
   "metadata": {},
   "outputs": [],
   "source": [
    "#join all tweets\n",
    "\n",
    "context_tweets = []\n",
    "for i in range(len(df)):\n",
    "    context_tweets.append(df.iloc[i]['translated_tweets'])\n",
    "\n",
    "#join all the context tweets\n",
    "context_tweets_all = ' '.join(context_tweets)     "
   ]
  },
  {
   "cell_type": "markdown",
   "id": "e789b476",
   "metadata": {},
   "source": [
    "## Test on one tweet"
   ]
  },
  {
   "cell_type": "code",
   "execution_count": 17,
   "id": "5c0a12fe",
   "metadata": {},
   "outputs": [],
   "source": [
    "question_paternity_leave = \"Would you like to introduce a paternity leave? \"\n",
    "qa_model = pipeline(\"question-answering\", model = \"srcocotero/bert-large-qa\")\n",
    "#qa_model(question = question_paternity_leave, context = context_tweets_all)"
   ]
  },
  {
   "cell_type": "code",
   "execution_count": 217,
   "id": "a601a6b6",
   "metadata": {},
   "outputs": [
    {
     "data": {
      "text/plain": [
       "'eral Council ? Of course not ! Proportional opening measures to avoid '"
      ]
     },
     "execution_count": 217,
     "metadata": {},
     "output_type": "execute_result"
    }
   ],
   "source": [
    "context_tweets_all[40530:40600]"
   ]
  },
  {
   "cell_type": "markdown",
   "id": "0b2722eb",
   "metadata": {},
   "source": [
    "## Import Questions"
   ]
  },
  {
   "cell_type": "code",
   "execution_count": 18,
   "id": "33c0211e",
   "metadata": {},
   "outputs": [],
   "source": [
    "df_questions = pd.read_csv('./csv/carlo_questions_keywords.csv', sep=';', encoding='latin-1')"
   ]
  },
  {
   "cell_type": "code",
   "execution_count": 19,
   "id": "2f880897",
   "metadata": {},
   "outputs": [],
   "source": [
    "df_questions[\"question\"] = df_questions['question'].str[4:-2]\n",
    "df_questions.loc[df_questions['smartvote_answers'] >= 3, 'binary_smarvote_answer'] = 0\n",
    "df_questions.loc[df_questions['smartvote_answers'] <= 2, 'binary_smarvote_answer'] = 1"
   ]
  },
  {
   "cell_type": "code",
   "execution_count": 25,
   "id": "e0653b71",
   "metadata": {},
   "outputs": [
    {
     "data": {
      "text/plain": [
       "{'score': 0.43162935972213745, 'start': 136646, 'end': 136647, 'answer': '.'}"
      ]
     },
     "execution_count": 25,
     "metadata": {},
     "output_type": "execute_result"
    }
   ],
   "source": [
    "df_questions['huggingface_answers'][0]"
   ]
  },
  {
   "cell_type": "markdown",
   "id": "5824a4aa",
   "metadata": {},
   "source": [
    "## Run huggingface model"
   ]
  },
  {
   "cell_type": "code",
   "execution_count": 21,
   "id": "297ea9b8",
   "metadata": {},
   "outputs": [],
   "source": [
    "def qa(question_smartvote):\n",
    "    return qa_model(question = question_smartvote , context = context_tweets_all)"
   ]
  },
  {
   "cell_type": "code",
   "execution_count": 241,
   "id": "2f99ecb6",
   "metadata": {},
   "outputs": [],
   "source": []
  },
  {
   "cell_type": "code",
   "execution_count": 268,
   "id": "575bf182",
   "metadata": {},
   "outputs": [],
   "source": [
    "# saved to csv\n",
    "#df_questions.to_csv(\"questions_model.csv\")"
   ]
  },
  {
   "cell_type": "code",
   "execution_count": null,
   "id": "3ac48162",
   "metadata": {},
   "outputs": [
    {
     "name": "stderr",
     "output_type": "stream",
     "text": [
      "/home/ec2-user/anaconda3/envs/amazonei_mxnet_p36/lib/python3.6/site-packages/numpy/core/_asarray.py:83: VisibleDeprecationWarning: Creating an ndarray from ragged nested sequences (which is a list-or-tuple of lists-or-tuples-or ndarrays with different lengths or shapes) is deprecated. If you meant to do this, you must specify 'dtype=object' when creating the ndarray\n",
      "  return array(a, dtype, copy=False, order=order)\n"
     ]
    }
   ],
   "source": [
    "#gonna take long!!\n",
    "df_questions[\"huggingface_answers\"] = df_questions[\"Simplified question\"].apply(qa)\n"
   ]
  },
  {
   "cell_type": "code",
   "execution_count": 27,
   "id": "b2bd464b",
   "metadata": {},
   "outputs": [],
   "source": [
    "df_questions.to_csv(\"./csv/questions/df_questions_context_all.csv\" )\n"
   ]
  },
  {
   "cell_type": "code",
   "execution_count": null,
   "id": "7a1cca5c",
   "metadata": {},
   "outputs": [],
   "source": []
  }
 ],
 "metadata": {
  "kernelspec": {
   "display_name": "conda_amazonei_mxnet_p36",
   "language": "python",
   "name": "conda_amazonei_mxnet_p36"
  },
  "language_info": {
   "codemirror_mode": {
    "name": "ipython",
    "version": 3
   },
   "file_extension": ".py",
   "mimetype": "text/x-python",
   "name": "python",
   "nbconvert_exporter": "python",
   "pygments_lexer": "ipython3",
   "version": "3.6.13"
  }
 },
 "nbformat": 4,
 "nbformat_minor": 5
}
