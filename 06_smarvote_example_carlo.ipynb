{
 "cells": [
  {
   "cell_type": "code",
   "execution_count": null,
   "id": "8b4000c4",
   "metadata": {},
   "outputs": [],
   "source": []
  },
  {
   "cell_type": "markdown",
   "id": "44fe8cbe",
   "metadata": {},
   "source": [
    "Questions for Jose: \n",
    "- what are we going to do with the empty sets (tweets not assigned to topics)?\n",
    "    -not classifying, we put into a big context vector\n",
    "- how are we going to compare the QA models to the real answers ?\n",
    "- after finish the prototype: manually take Youtube data . youtube, no api search available, manually finding videos, might not be as good as twitter\n",
    "- what to do when QA doesn't give answers, like in the examples\n"
   ]
  },
  {
   "cell_type": "markdown",
   "id": "8b512872",
   "metadata": {},
   "source": [
    "-empty sets are not the focus, optimisation for future work\n",
    "- 1. further explore model\n",
    "- then 2ways, more politicians in the same party, or increase data sources of politicians\n",
    "- once we add all the topics to carlo and finish protoype, then meet with Luis\n",
    "- mention in thesis, that odd number, you be neutral\n",
    "- 100 tweets, manually label the answers to compare answers with QA answer, F1 score, evaluation, https://scikit-learn.org/stable/modules/generated/sklearn.metrics.f1_score.html, perhaps use binary (0-1), or 1-3 etc\n",
    "- once prototype\n",
    "\n",
    "To do: \n",
    "- 1. simplify questions\n",
    "- 2. run algorithms on simplifed questions\n",
    "- 3. label own answers and algorithms answer with positive or negative (0 or 1) \n",
    "- 4. evaluate the results with F1\n",
    "- \n",
    "-find another language detector model\n",
    "- simplify english wordings, check results using F1, then meet with Luis and Jose \n",
    "\n",
    "Writing: \n",
    "- simple past (passive), reffering particular study, no 'I' and 'we' \n",
    "- no page limit, avg 30pages\n",
    "\n"
   ]
  },
  {
   "cell_type": "markdown",
   "id": "99ebc22d",
   "metadata": {},
   "source": [
    "# Install and import libraries"
   ]
  },
  {
   "cell_type": "code",
   "execution_count": 1,
   "id": "35792684",
   "metadata": {},
   "outputs": [
    {
     "name": "stdout",
     "output_type": "stream",
     "text": [
      "Looking in indexes: https://pypi.org/simple, https://pip.repos.neuron.amazonaws.com\n",
      "Requirement already satisfied: pandas in /home/ec2-user/anaconda3/envs/amazonei_mxnet_p36/lib/python3.6/site-packages (1.1.5)\n",
      "Requirement already satisfied: python-dateutil>=2.7.3 in /home/ec2-user/anaconda3/envs/amazonei_mxnet_p36/lib/python3.6/site-packages (from pandas) (2.8.1)\n",
      "Requirement already satisfied: pytz>=2017.2 in /home/ec2-user/anaconda3/envs/amazonei_mxnet_p36/lib/python3.6/site-packages (from pandas) (2021.1)\n",
      "Requirement already satisfied: numpy>=1.15.4 in /home/ec2-user/anaconda3/envs/amazonei_mxnet_p36/lib/python3.6/site-packages (from pandas) (1.19.5)\n",
      "Requirement already satisfied: six>=1.5 in /home/ec2-user/anaconda3/envs/amazonei_mxnet_p36/lib/python3.6/site-packages (from python-dateutil>=2.7.3->pandas) (1.15.0)\n",
      "Looking in indexes: https://pypi.org/simple, https://pip.repos.neuron.amazonaws.com\n",
      "Requirement already satisfied: tweepy in /home/ec2-user/anaconda3/envs/amazonei_mxnet_p36/lib/python3.6/site-packages (4.6.0)\n",
      "Requirement already satisfied: requests-oauthlib<2,>=1.2.0 in /home/ec2-user/anaconda3/envs/amazonei_mxnet_p36/lib/python3.6/site-packages (from tweepy) (1.3.1)\n",
      "Requirement already satisfied: oauthlib<4,>=3.2.0 in /home/ec2-user/anaconda3/envs/amazonei_mxnet_p36/lib/python3.6/site-packages (from tweepy) (3.2.1)\n",
      "Requirement already satisfied: requests<3,>=2.27.0 in /home/ec2-user/anaconda3/envs/amazonei_mxnet_p36/lib/python3.6/site-packages (from tweepy) (2.27.1)\n",
      "Requirement already satisfied: idna<4,>=2.5 in /home/ec2-user/anaconda3/envs/amazonei_mxnet_p36/lib/python3.6/site-packages (from requests<3,>=2.27.0->tweepy) (3.1)\n",
      "Requirement already satisfied: urllib3<1.27,>=1.21.1 in /home/ec2-user/anaconda3/envs/amazonei_mxnet_p36/lib/python3.6/site-packages (from requests<3,>=2.27.0->tweepy) (1.26.8)\n",
      "Requirement already satisfied: certifi>=2017.4.17 in /home/ec2-user/anaconda3/envs/amazonei_mxnet_p36/lib/python3.6/site-packages (from requests<3,>=2.27.0->tweepy) (2021.5.30)\n",
      "Requirement already satisfied: charset-normalizer~=2.0.0 in /home/ec2-user/anaconda3/envs/amazonei_mxnet_p36/lib/python3.6/site-packages (from requests<3,>=2.27.0->tweepy) (2.0.12)\n",
      "Looking in indexes: https://pypi.org/simple, https://pip.repos.neuron.amazonaws.com\n",
      "Requirement already satisfied: pycld2 in /home/ec2-user/anaconda3/envs/amazonei_mxnet_p36/lib/python3.6/site-packages (0.41)\n",
      "Looking in indexes: https://pypi.org/simple, https://pip.repos.neuron.amazonaws.com\n",
      "Requirement already satisfied: tqdm in /home/ec2-user/anaconda3/envs/amazonei_mxnet_p36/lib/python3.6/site-packages (4.63.0)\n",
      "Requirement already satisfied: importlib-resources in /home/ec2-user/anaconda3/envs/amazonei_mxnet_p36/lib/python3.6/site-packages (from tqdm) (5.4.0)\n",
      "Requirement already satisfied: zipp>=3.1.0 in /home/ec2-user/anaconda3/envs/amazonei_mxnet_p36/lib/python3.6/site-packages (from importlib-resources->tqdm) (3.4.0)\n",
      "Looking in indexes: https://pypi.org/simple, https://pip.repos.neuron.amazonaws.com\n",
      "Requirement already satisfied: transformers in /home/ec2-user/anaconda3/envs/amazonei_mxnet_p36/lib/python3.6/site-packages (4.18.0)\n",
      "Requirement already satisfied: regex!=2019.12.17 in /home/ec2-user/anaconda3/envs/amazonei_mxnet_p36/lib/python3.6/site-packages (from transformers) (2022.3.15)\n",
      "Requirement already satisfied: importlib-metadata in /home/ec2-user/anaconda3/envs/amazonei_mxnet_p36/lib/python3.6/site-packages (from transformers) (4.8.3)\n",
      "Requirement already satisfied: pyyaml>=5.1 in /home/ec2-user/anaconda3/envs/amazonei_mxnet_p36/lib/python3.6/site-packages (from transformers) (5.4.1)\n",
      "Requirement already satisfied: dataclasses in /home/ec2-user/anaconda3/envs/amazonei_mxnet_p36/lib/python3.6/site-packages (from transformers) (0.8)\n",
      "Requirement already satisfied: huggingface-hub<1.0,>=0.1.0 in /home/ec2-user/anaconda3/envs/amazonei_mxnet_p36/lib/python3.6/site-packages (from transformers) (0.4.0)\n",
      "Requirement already satisfied: tokenizers!=0.11.3,<0.13,>=0.11.1 in /home/ec2-user/anaconda3/envs/amazonei_mxnet_p36/lib/python3.6/site-packages (from transformers) (0.12.1)\n",
      "Requirement already satisfied: filelock in /home/ec2-user/anaconda3/envs/amazonei_mxnet_p36/lib/python3.6/site-packages (from transformers) (3.0.12)\n",
      "Requirement already satisfied: numpy>=1.17 in /home/ec2-user/anaconda3/envs/amazonei_mxnet_p36/lib/python3.6/site-packages (from transformers) (1.19.5)\n",
      "Requirement already satisfied: sacremoses in /home/ec2-user/anaconda3/envs/amazonei_mxnet_p36/lib/python3.6/site-packages (from transformers) (0.0.53)\n",
      "Requirement already satisfied: packaging>=20.0 in /home/ec2-user/anaconda3/envs/amazonei_mxnet_p36/lib/python3.6/site-packages (from transformers) (21.3)\n",
      "Requirement already satisfied: tqdm>=4.27 in /home/ec2-user/anaconda3/envs/amazonei_mxnet_p36/lib/python3.6/site-packages (from transformers) (4.63.0)\n",
      "Requirement already satisfied: requests in /home/ec2-user/anaconda3/envs/amazonei_mxnet_p36/lib/python3.6/site-packages (from transformers) (2.27.1)\n",
      "Requirement already satisfied: typing-extensions>=3.7.4.3 in /home/ec2-user/anaconda3/envs/amazonei_mxnet_p36/lib/python3.6/site-packages (from huggingface-hub<1.0,>=0.1.0->transformers) (3.7.4.3)\n",
      "Requirement already satisfied: pyparsing!=3.0.5,>=2.0.2 in /home/ec2-user/anaconda3/envs/amazonei_mxnet_p36/lib/python3.6/site-packages (from packaging>=20.0->transformers) (2.4.7)\n",
      "Requirement already satisfied: importlib-resources in /home/ec2-user/anaconda3/envs/amazonei_mxnet_p36/lib/python3.6/site-packages (from tqdm>=4.27->transformers) (5.4.0)\n",
      "Requirement already satisfied: zipp>=0.5 in /home/ec2-user/anaconda3/envs/amazonei_mxnet_p36/lib/python3.6/site-packages (from importlib-metadata->transformers) (3.4.0)\n",
      "Requirement already satisfied: idna<4,>=2.5 in /home/ec2-user/anaconda3/envs/amazonei_mxnet_p36/lib/python3.6/site-packages (from requests->transformers) (3.1)\n",
      "Requirement already satisfied: charset-normalizer~=2.0.0 in /home/ec2-user/anaconda3/envs/amazonei_mxnet_p36/lib/python3.6/site-packages (from requests->transformers) (2.0.12)\n",
      "Requirement already satisfied: certifi>=2017.4.17 in /home/ec2-user/anaconda3/envs/amazonei_mxnet_p36/lib/python3.6/site-packages (from requests->transformers) (2021.5.30)\n",
      "Requirement already satisfied: urllib3<1.27,>=1.21.1 in /home/ec2-user/anaconda3/envs/amazonei_mxnet_p36/lib/python3.6/site-packages (from requests->transformers) (1.26.8)\n",
      "Requirement already satisfied: six in /home/ec2-user/anaconda3/envs/amazonei_mxnet_p36/lib/python3.6/site-packages (from sacremoses->transformers) (1.15.0)\n",
      "Requirement already satisfied: click in /home/ec2-user/anaconda3/envs/amazonei_mxnet_p36/lib/python3.6/site-packages (from sacremoses->transformers) (7.1.2)\n",
      "Requirement already satisfied: joblib in /home/ec2-user/anaconda3/envs/amazonei_mxnet_p36/lib/python3.6/site-packages (from sacremoses->transformers) (1.0.1)\n"
     ]
    }
   ],
   "source": [
    "!pip install pandas\n",
    "!pip install tweepy\n",
    "!pip install pycld2\n",
    "!pip install tqdm\n",
    "!pip install transformers\n",
    "!pip install sentencepiece"
   ]
  },
  {
   "cell_type": "code",
   "execution_count": 91,
   "id": "3cfbdebd",
   "metadata": {},
   "outputs": [],
   "source": [
    "import tweepy\n",
    "import pandas as pd\n",
    "import re\n",
    "import pycld2 as cld2\n",
    "from transformers import pipeline\n",
    "from tqdm import tqdm"
   ]
  },
  {
   "cell_type": "markdown",
   "id": "86d6a948",
   "metadata": {},
   "source": [
    "# Get the tweets"
   ]
  },
  {
   "cell_type": "code",
   "execution_count": 92,
   "id": "9b516047",
   "metadata": {},
   "outputs": [],
   "source": [
    "#run keys notebook\n",
    "%run ./twitter_keys.ipynb"
   ]
  },
  {
   "cell_type": "code",
   "execution_count": 93,
   "id": "fd7429fc",
   "metadata": {},
   "outputs": [],
   "source": [
    "# OAuth process, using the keys and tokens\n",
    "auth = tweepy.OAuthHandler(consumer_key, consumer_secret)\n",
    "auth.set_access_token(access_token, access_token_secret)\n",
    "api = tweepy.API(auth, wait_on_rate_limit=True)\n",
    "auth.set_access_token(access_token, access_token_secret)"
   ]
  },
  {
   "cell_type": "code",
   "execution_count": 94,
   "id": "19b14da3",
   "metadata": {},
   "outputs": [],
   "source": [
    "#initialise lists for future df\n",
    "tweets =[]\n",
    "likes= []\n",
    "time=[]\n",
    "politician_id=[]"
   ]
  },
  {
   "cell_type": "code",
   "execution_count": 95,
   "id": "ccdf810b",
   "metadata": {},
   "outputs": [
    {
     "name": "stderr",
     "output_type": "stream",
     "text": [
      "Unexpected parameter: id\n",
      "Unexpected parameter: id\n",
      "Unexpected parameter: id\n",
      "Unexpected parameter: id\n",
      "Unexpected parameter: id\n",
      "Unexpected parameter: id\n",
      "Unexpected parameter: id\n",
      "Unexpected parameter: id\n",
      "Unexpected parameter: id\n",
      "Unexpected parameter: id\n",
      "Unexpected parameter: id\n",
      "Unexpected parameter: id\n",
      "Unexpected parameter: id\n",
      "Unexpected parameter: id\n",
      "Unexpected parameter: id\n",
      "Unexpected parameter: id\n",
      "Unexpected parameter: id\n",
      "Unexpected parameter: id\n",
      "Unexpected parameter: id\n",
      "Unexpected parameter: id\n",
      "Unexpected parameter: id\n",
      "Unexpected parameter: id\n",
      "Unexpected parameter: id\n",
      "Unexpected parameter: id\n",
      "Unexpected parameter: id\n",
      "Unexpected parameter: id\n",
      "Unexpected parameter: id\n",
      "Unexpected parameter: id\n",
      "Unexpected parameter: id\n",
      "Unexpected parameter: id\n",
      "Unexpected parameter: id\n",
      "Unexpected parameter: id\n",
      "Unexpected parameter: id\n",
      "Unexpected parameter: id\n",
      "Unexpected parameter: id\n",
      "Unexpected parameter: id\n",
      "Unexpected parameter: id\n",
      "Unexpected parameter: id\n",
      "Unexpected parameter: id\n",
      "Unexpected parameter: id\n",
      "Unexpected parameter: id\n",
      "Unexpected parameter: id\n",
      "Unexpected parameter: id\n",
      "Unexpected parameter: id\n",
      "Unexpected parameter: id\n",
      "Unexpected parameter: id\n",
      "Unexpected parameter: id\n",
      "Unexpected parameter: id\n",
      "Unexpected parameter: id\n",
      "Unexpected parameter: id\n",
      "Unexpected parameter: id\n",
      "Unexpected parameter: id\n",
      "Unexpected parameter: id\n",
      "Unexpected parameter: id\n",
      "Unexpected parameter: id\n",
      "Unexpected parameter: id\n",
      "Unexpected parameter: id\n",
      "Unexpected parameter: id\n",
      "Unexpected parameter: id\n",
      "Unexpected parameter: id\n",
      "Unexpected parameter: id\n",
      "Unexpected parameter: id\n",
      "Unexpected parameter: id\n",
      "Unexpected parameter: id\n",
      "Unexpected parameter: id\n",
      "Unexpected parameter: id\n",
      "Unexpected parameter: id\n",
      "Unexpected parameter: id\n",
      "Unexpected parameter: id\n",
      "Unexpected parameter: id\n",
      "Unexpected parameter: id\n",
      "Unexpected parameter: id\n",
      "Unexpected parameter: id\n",
      "Unexpected parameter: id\n",
      "Unexpected parameter: id\n",
      "Unexpected parameter: id\n",
      "Unexpected parameter: id\n",
      "Unexpected parameter: id\n",
      "Unexpected parameter: id\n",
      "Unexpected parameter: id\n",
      "Unexpected parameter: id\n",
      "Unexpected parameter: id\n",
      "Unexpected parameter: id\n",
      "Unexpected parameter: id\n",
      "Unexpected parameter: id\n",
      "Unexpected parameter: id\n",
      "Unexpected parameter: id\n",
      "Unexpected parameter: id\n",
      "Unexpected parameter: id\n",
      "Unexpected parameter: id\n",
      "Unexpected parameter: id\n",
      "Unexpected parameter: id\n",
      "Unexpected parameter: id\n",
      "Unexpected parameter: id\n",
      "Unexpected parameter: id\n",
      "Unexpected parameter: id\n",
      "Unexpected parameter: id\n",
      "Unexpected parameter: id\n",
      "Unexpected parameter: id\n",
      "Unexpected parameter: id\n",
      "Unexpected parameter: id\n",
      "Unexpected parameter: id\n",
      "Unexpected parameter: id\n",
      "Unexpected parameter: id\n",
      "Unexpected parameter: id\n",
      "Unexpected parameter: id\n",
      "Unexpected parameter: id\n",
      "Unexpected parameter: id\n",
      "Unexpected parameter: id\n",
      "Unexpected parameter: id\n",
      "Unexpected parameter: id\n",
      "Unexpected parameter: id\n",
      "Unexpected parameter: id\n",
      "Unexpected parameter: id\n",
      "Unexpected parameter: id\n",
      "Unexpected parameter: id\n",
      "Unexpected parameter: id\n",
      "Unexpected parameter: id\n",
      "Unexpected parameter: id\n",
      "Unexpected parameter: id\n",
      "Unexpected parameter: id\n",
      "Unexpected parameter: id\n",
      "Unexpected parameter: id\n",
      "Unexpected parameter: id\n",
      "Unexpected parameter: id\n",
      "Unexpected parameter: id\n",
      "Unexpected parameter: id\n",
      "Unexpected parameter: id\n",
      "Unexpected parameter: id\n",
      "Unexpected parameter: id\n",
      "Unexpected parameter: id\n",
      "Unexpected parameter: id\n",
      "Unexpected parameter: id\n",
      "Unexpected parameter: id\n",
      "Unexpected parameter: id\n",
      "Unexpected parameter: id\n",
      "Unexpected parameter: id\n",
      "Unexpected parameter: id\n",
      "Unexpected parameter: id\n",
      "Unexpected parameter: id\n",
      "Unexpected parameter: id\n",
      "Unexpected parameter: id\n",
      "Unexpected parameter: id\n",
      "Unexpected parameter: id\n",
      "Unexpected parameter: id\n",
      "Unexpected parameter: id\n",
      "Unexpected parameter: id\n",
      "Unexpected parameter: id\n",
      "Unexpected parameter: id\n",
      "Unexpected parameter: id\n",
      "Unexpected parameter: id\n",
      "Unexpected parameter: id\n",
      "Unexpected parameter: id\n",
      "Unexpected parameter: id\n",
      "Unexpected parameter: id\n",
      "Unexpected parameter: id\n",
      "Unexpected parameter: id\n",
      "Unexpected parameter: id\n",
      "Unexpected parameter: id\n",
      "Unexpected parameter: id\n",
      "Unexpected parameter: id\n",
      "Unexpected parameter: id\n",
      "Unexpected parameter: id\n"
     ]
    }
   ],
   "source": [
    "for i in tweepy.Cursor(api.user_timeline, id=\"CarloSommaruga\", tweet_mode=\"extended\").items():\n",
    "    tweets.append(i.full_text)\n",
    "    likes.append(i.favorite_count)\n",
    "    time.append(i.created_at)\n",
    "    politician_id.append(i.user.screen_name)"
   ]
  },
  {
   "cell_type": "code",
   "execution_count": 293,
   "id": "f27c562a",
   "metadata": {},
   "outputs": [],
   "source": [
    "df = pd.DataFrame({\"tweets\": tweets, \"likes\": likes, \"time\":time, \"politician_id\":politician_id})"
   ]
  },
  {
   "cell_type": "code",
   "execution_count": 309,
   "id": "70c11ecc",
   "metadata": {},
   "outputs": [
    {
     "data": {
      "text/html": [
       "<div>\n",
       "<style scoped>\n",
       "    .dataframe tbody tr th:only-of-type {\n",
       "        vertical-align: middle;\n",
       "    }\n",
       "\n",
       "    .dataframe tbody tr th {\n",
       "        vertical-align: top;\n",
       "    }\n",
       "\n",
       "    .dataframe thead th {\n",
       "        text-align: right;\n",
       "    }\n",
       "</style>\n",
       "<table border=\"1\" class=\"dataframe\">\n",
       "  <thead>\n",
       "    <tr style=\"text-align: right;\">\n",
       "      <th></th>\n",
       "      <th>Unnamed: 0</th>\n",
       "      <th>tweets</th>\n",
       "      <th>likes</th>\n",
       "      <th>time</th>\n",
       "      <th>politician_id</th>\n",
       "    </tr>\n",
       "  </thead>\n",
       "  <tbody>\n",
       "    <tr>\n",
       "      <th>0</th>\n",
       "      <td>0</td>\n",
       "      <td>Alors que le Conseil fédéral annonce des défic...</td>\n",
       "      <td>5</td>\n",
       "      <td>2022-09-14 08:08:53+00:00</td>\n",
       "      <td>CarloSommaruga</td>\n",
       "    </tr>\n",
       "    <tr>\n",
       "      <th>1</th>\n",
       "      <td>8</td>\n",
       "      <td>@HenrietteLevy Les excédents du fonds AVS pour...</td>\n",
       "      <td>0</td>\n",
       "      <td>2022-08-26 12:28:02+00:00</td>\n",
       "      <td>CarloSommaruga</td>\n",
       "    </tr>\n",
       "    <tr>\n",
       "      <th>2</th>\n",
       "      <td>9</td>\n",
       "      <td>@feusl Es ist pikant, dass ein Fakejournalist,...</td>\n",
       "      <td>4</td>\n",
       "      <td>2022-08-26 12:22:12+00:00</td>\n",
       "      <td>CarloSommaruga</td>\n",
       "    </tr>\n",
       "    <tr>\n",
       "      <th>3</th>\n",
       "      <td>10</td>\n",
       "      <td>https://t.co/KeNl40pyix</td>\n",
       "      <td>13</td>\n",
       "      <td>2022-08-26 11:46:20+00:00</td>\n",
       "      <td>CarloSommaruga</td>\n",
       "    </tr>\n",
       "    <tr>\n",
       "      <th>4</th>\n",
       "      <td>11</td>\n",
       "      <td>@nashtags @lombardi1956 @muheim @Rustichelli74...</td>\n",
       "      <td>2</td>\n",
       "      <td>2022-08-22 05:44:51+00:00</td>\n",
       "      <td>CarloSommaruga</td>\n",
       "    </tr>\n",
       "    <tr>\n",
       "      <th>...</th>\n",
       "      <td>...</td>\n",
       "      <td>...</td>\n",
       "      <td>...</td>\n",
       "      <td>...</td>\n",
       "      <td>...</td>\n",
       "    </tr>\n",
       "    <tr>\n",
       "      <th>1812</th>\n",
       "      <td>3194</td>\n",
       "      <td>Comment le premier parti de suisse peut-il pro...</td>\n",
       "      <td>2</td>\n",
       "      <td>2015-12-08 17:13:38+00:00</td>\n",
       "      <td>CarloSommaruga</td>\n",
       "    </tr>\n",
       "    <tr>\n",
       "      <th>1813</th>\n",
       "      <td>3196</td>\n",
       "      <td>CH-EU:73% des entreprises craignent que résili...</td>\n",
       "      <td>0</td>\n",
       "      <td>2015-12-08 10:03:12+00:00</td>\n",
       "      <td>CarloSommaruga</td>\n",
       "    </tr>\n",
       "    <tr>\n",
       "      <th>1814</th>\n",
       "      <td>3197</td>\n",
       "      <td>Suisse: De 2009 à 2014, le nombre de jeunes pr...</td>\n",
       "      <td>0</td>\n",
       "      <td>2015-12-07 08:51:27+00:00</td>\n",
       "      <td>CarloSommaruga</td>\n",
       "    </tr>\n",
       "    <tr>\n",
       "      <th>1815</th>\n",
       "      <td>3199</td>\n",
       "      <td>Suisse-UE: Clause de sauvegarde unilatérale: P...</td>\n",
       "      <td>1</td>\n",
       "      <td>2015-12-05 15:58:37+00:00</td>\n",
       "      <td>CarloSommaruga</td>\n",
       "    </tr>\n",
       "    <tr>\n",
       "      <th>1816</th>\n",
       "      <td>3201</td>\n",
       "      <td>#PS Suisse - réaliste garant des libertés indi...</td>\n",
       "      <td>1</td>\n",
       "      <td>2015-12-05 13:53:08+00:00</td>\n",
       "      <td>CarloSommaruga</td>\n",
       "    </tr>\n",
       "  </tbody>\n",
       "</table>\n",
       "<p>1817 rows × 5 columns</p>\n",
       "</div>"
      ],
      "text/plain": [
       "      Unnamed: 0                                             tweets  likes  \\\n",
       "0              0  Alors que le Conseil fédéral annonce des défic...      5   \n",
       "1              8  @HenrietteLevy Les excédents du fonds AVS pour...      0   \n",
       "2              9  @feusl Es ist pikant, dass ein Fakejournalist,...      4   \n",
       "3             10                            https://t.co/KeNl40pyix     13   \n",
       "4             11  @nashtags @lombardi1956 @muheim @Rustichelli74...      2   \n",
       "...          ...                                                ...    ...   \n",
       "1812        3194  Comment le premier parti de suisse peut-il pro...      2   \n",
       "1813        3196  CH-EU:73% des entreprises craignent que résili...      0   \n",
       "1814        3197  Suisse: De 2009 à 2014, le nombre de jeunes pr...      0   \n",
       "1815        3199  Suisse-UE: Clause de sauvegarde unilatérale: P...      1   \n",
       "1816        3201  #PS Suisse - réaliste garant des libertés indi...      1   \n",
       "\n",
       "                           time   politician_id  \n",
       "0     2022-09-14 08:08:53+00:00  CarloSommaruga  \n",
       "1     2022-08-26 12:28:02+00:00  CarloSommaruga  \n",
       "2     2022-08-26 12:22:12+00:00  CarloSommaruga  \n",
       "3     2022-08-26 11:46:20+00:00  CarloSommaruga  \n",
       "4     2022-08-22 05:44:51+00:00  CarloSommaruga  \n",
       "...                         ...             ...  \n",
       "1812  2015-12-08 17:13:38+00:00  CarloSommaruga  \n",
       "1813  2015-12-08 10:03:12+00:00  CarloSommaruga  \n",
       "1814  2015-12-07 08:51:27+00:00  CarloSommaruga  \n",
       "1815  2015-12-05 15:58:37+00:00  CarloSommaruga  \n",
       "1816  2015-12-05 13:53:08+00:00  CarloSommaruga  \n",
       "\n",
       "[1817 rows x 5 columns]"
      ]
     },
     "execution_count": 309,
     "metadata": {},
     "output_type": "execute_result"
    }
   ],
   "source": [
    "df"
   ]
  },
  {
   "cell_type": "code",
   "execution_count": 295,
   "id": "7ed7d8da",
   "metadata": {},
   "outputs": [],
   "source": [
    "df.to_csv(\"carlo_dataset.csv\")"
   ]
  },
  {
   "cell_type": "markdown",
   "id": "1ab5acc9",
   "metadata": {},
   "source": [
    "# Cleaning"
   ]
  },
  {
   "cell_type": "code",
   "execution_count": 5,
   "id": "5ad4d7f4",
   "metadata": {},
   "outputs": [],
   "source": [
    "df = pd.read_csv(\"./csv/carlo_dataset.csv\")"
   ]
  },
  {
   "cell_type": "code",
   "execution_count": 6,
   "id": "74629211",
   "metadata": {},
   "outputs": [],
   "source": [
    "#remove tweets from df \n",
    "df = df[~df.tweets.str.contains(\"RT\")]\n",
    "#reset index\n",
    "df = df.reset_index(drop=True)"
   ]
  },
  {
   "cell_type": "code",
   "execution_count": 7,
   "id": "20d749ad",
   "metadata": {},
   "outputs": [
    {
     "data": {
      "text/html": [
       "<div>\n",
       "<style scoped>\n",
       "    .dataframe tbody tr th:only-of-type {\n",
       "        vertical-align: middle;\n",
       "    }\n",
       "\n",
       "    .dataframe tbody tr th {\n",
       "        vertical-align: top;\n",
       "    }\n",
       "\n",
       "    .dataframe thead th {\n",
       "        text-align: right;\n",
       "    }\n",
       "</style>\n",
       "<table border=\"1\" class=\"dataframe\">\n",
       "  <thead>\n",
       "    <tr style=\"text-align: right;\">\n",
       "      <th></th>\n",
       "      <th>Unnamed: 0</th>\n",
       "      <th>tweets</th>\n",
       "      <th>likes</th>\n",
       "      <th>time</th>\n",
       "      <th>politician_id</th>\n",
       "    </tr>\n",
       "  </thead>\n",
       "  <tbody>\n",
       "    <tr>\n",
       "      <th>0</th>\n",
       "      <td>0</td>\n",
       "      <td>Alors que le Conseil fédéral annonce des défic...</td>\n",
       "      <td>5</td>\n",
       "      <td>2022-09-14 08:08:53+00:00</td>\n",
       "      <td>CarloSommaruga</td>\n",
       "    </tr>\n",
       "    <tr>\n",
       "      <th>1</th>\n",
       "      <td>8</td>\n",
       "      <td>@HenrietteLevy Les excédents du fonds AVS pour...</td>\n",
       "      <td>0</td>\n",
       "      <td>2022-08-26 12:28:02+00:00</td>\n",
       "      <td>CarloSommaruga</td>\n",
       "    </tr>\n",
       "    <tr>\n",
       "      <th>2</th>\n",
       "      <td>9</td>\n",
       "      <td>@feusl Es ist pikant, dass ein Fakejournalist,...</td>\n",
       "      <td>4</td>\n",
       "      <td>2022-08-26 12:22:12+00:00</td>\n",
       "      <td>CarloSommaruga</td>\n",
       "    </tr>\n",
       "    <tr>\n",
       "      <th>3</th>\n",
       "      <td>10</td>\n",
       "      <td>https://t.co/KeNl40pyix</td>\n",
       "      <td>13</td>\n",
       "      <td>2022-08-26 11:46:20+00:00</td>\n",
       "      <td>CarloSommaruga</td>\n",
       "    </tr>\n",
       "    <tr>\n",
       "      <th>4</th>\n",
       "      <td>11</td>\n",
       "      <td>@nashtags @lombardi1956 @muheim @Rustichelli74...</td>\n",
       "      <td>2</td>\n",
       "      <td>2022-08-22 05:44:51+00:00</td>\n",
       "      <td>CarloSommaruga</td>\n",
       "    </tr>\n",
       "    <tr>\n",
       "      <th>...</th>\n",
       "      <td>...</td>\n",
       "      <td>...</td>\n",
       "      <td>...</td>\n",
       "      <td>...</td>\n",
       "      <td>...</td>\n",
       "    </tr>\n",
       "    <tr>\n",
       "      <th>1812</th>\n",
       "      <td>3194</td>\n",
       "      <td>Comment le premier parti de suisse peut-il pro...</td>\n",
       "      <td>2</td>\n",
       "      <td>2015-12-08 17:13:38+00:00</td>\n",
       "      <td>CarloSommaruga</td>\n",
       "    </tr>\n",
       "    <tr>\n",
       "      <th>1813</th>\n",
       "      <td>3196</td>\n",
       "      <td>CH-EU:73% des entreprises craignent que résili...</td>\n",
       "      <td>0</td>\n",
       "      <td>2015-12-08 10:03:12+00:00</td>\n",
       "      <td>CarloSommaruga</td>\n",
       "    </tr>\n",
       "    <tr>\n",
       "      <th>1814</th>\n",
       "      <td>3197</td>\n",
       "      <td>Suisse: De 2009 à 2014, le nombre de jeunes pr...</td>\n",
       "      <td>0</td>\n",
       "      <td>2015-12-07 08:51:27+00:00</td>\n",
       "      <td>CarloSommaruga</td>\n",
       "    </tr>\n",
       "    <tr>\n",
       "      <th>1815</th>\n",
       "      <td>3199</td>\n",
       "      <td>Suisse-UE: Clause de sauvegarde unilatérale: P...</td>\n",
       "      <td>1</td>\n",
       "      <td>2015-12-05 15:58:37+00:00</td>\n",
       "      <td>CarloSommaruga</td>\n",
       "    </tr>\n",
       "    <tr>\n",
       "      <th>1816</th>\n",
       "      <td>3201</td>\n",
       "      <td>#PS Suisse - réaliste garant des libertés indi...</td>\n",
       "      <td>1</td>\n",
       "      <td>2015-12-05 13:53:08+00:00</td>\n",
       "      <td>CarloSommaruga</td>\n",
       "    </tr>\n",
       "  </tbody>\n",
       "</table>\n",
       "<p>1817 rows × 5 columns</p>\n",
       "</div>"
      ],
      "text/plain": [
       "      Unnamed: 0                                             tweets  likes  \\\n",
       "0              0  Alors que le Conseil fédéral annonce des défic...      5   \n",
       "1              8  @HenrietteLevy Les excédents du fonds AVS pour...      0   \n",
       "2              9  @feusl Es ist pikant, dass ein Fakejournalist,...      4   \n",
       "3             10                            https://t.co/KeNl40pyix     13   \n",
       "4             11  @nashtags @lombardi1956 @muheim @Rustichelli74...      2   \n",
       "...          ...                                                ...    ...   \n",
       "1812        3194  Comment le premier parti de suisse peut-il pro...      2   \n",
       "1813        3196  CH-EU:73% des entreprises craignent que résili...      0   \n",
       "1814        3197  Suisse: De 2009 à 2014, le nombre de jeunes pr...      0   \n",
       "1815        3199  Suisse-UE: Clause de sauvegarde unilatérale: P...      1   \n",
       "1816        3201  #PS Suisse - réaliste garant des libertés indi...      1   \n",
       "\n",
       "                           time   politician_id  \n",
       "0     2022-09-14 08:08:53+00:00  CarloSommaruga  \n",
       "1     2022-08-26 12:28:02+00:00  CarloSommaruga  \n",
       "2     2022-08-26 12:22:12+00:00  CarloSommaruga  \n",
       "3     2022-08-26 11:46:20+00:00  CarloSommaruga  \n",
       "4     2022-08-22 05:44:51+00:00  CarloSommaruga  \n",
       "...                         ...             ...  \n",
       "1812  2015-12-08 17:13:38+00:00  CarloSommaruga  \n",
       "1813  2015-12-08 10:03:12+00:00  CarloSommaruga  \n",
       "1814  2015-12-07 08:51:27+00:00  CarloSommaruga  \n",
       "1815  2015-12-05 15:58:37+00:00  CarloSommaruga  \n",
       "1816  2015-12-05 13:53:08+00:00  CarloSommaruga  \n",
       "\n",
       "[1817 rows x 5 columns]"
      ]
     },
     "execution_count": 7,
     "metadata": {},
     "output_type": "execute_result"
    }
   ],
   "source": [
    "df"
   ]
  },
  {
   "cell_type": "code",
   "execution_count": 8,
   "id": "62fdb6eb",
   "metadata": {},
   "outputs": [],
   "source": [
    "#cleaning function \n",
    "\n",
    "def cleaner(tweet):\n",
    "    #remove urls\n",
    "    tweet = re.sub(r\"(?:\\@|http?\\://|https?\\://|www)\\S+\", \"\", tweet) #Remove http links\n",
    "    #remove mentions\n",
    "    tweet = re.sub(\"@[A-Za-z0-9]+\",\"\",tweet) #Remove @ sign\n",
    "    #remove hash \n",
    "    tweet = tweet.replace(\"#\", \"\").replace(\"_\", \" \") #Remove hashtag sign but keep the text\n",
    "    #remove emojis\n",
    "    EMOJI_PATTERN = re.compile(\"[\"\n",
    "                           u\"\\U0001F600-\\U0001F64F\"  # emoticons\n",
    "                           u\"\\U0001F300-\\U0001F5FF\"  # symbols & pictographs\n",
    "                           u\"\\U0001F680-\\U0001F6FF\"  # transport & map symbols\n",
    "                           u\"\\U0001F1E0-\\U0001F1FF\"  # flags (iOS)\n",
    "                           u\"\\U00002702-\\U000027B0\"\n",
    "                           u\"\\U000024C2-\\U0001F251\"\n",
    "                           u\"\\U0001f914-\\U0001f914\"\n",
    "                           u\"\\U00002066-\\U00002066\"\n",
    "                           \"]+\", flags=re.UNICODE)\n",
    "    tweet = EMOJI_PATTERN.sub(r'', tweet)\n",
    "    \n",
    "    #return tweet\n",
    "    return tweet\n",
    "#apply cleaner to the function\n",
    "df[\"tweets\"] = df[\"tweets\"].apply(cleaner)"
   ]
  },
  {
   "cell_type": "code",
   "execution_count": 10,
   "id": "0aad6236",
   "metadata": {},
   "outputs": [],
   "source": [
    "#remove whitespaces\n",
    "def remove_whitespaces(s):\n",
    "    return s.strip()\n",
    "df['tweets'] = df['tweets'].apply(remove_whitespaces)\n",
    "#Convert NaN values to empty string\n",
    "nan_value = float(\"NaN\")\n",
    "df.replace(\"\", nan_value, inplace=True)\n",
    "#Drop NaN\n",
    "df.dropna(subset = [\"tweets\"], inplace=True)\n",
    "#reset index\n",
    "df = df.reset_index(drop=True)"
   ]
  },
  {
   "cell_type": "markdown",
   "id": "c1be7eec",
   "metadata": {},
   "source": [
    "# Language detection model using pycld2"
   ]
  },
  {
   "cell_type": "code",
   "execution_count": 14,
   "id": "5b458843",
   "metadata": {},
   "outputs": [],
   "source": [
    "# TODO: Find a different language detector!!!!!!!!!!\n",
    "\n",
    "#initialise a list \n",
    "lang_detect = []\n",
    "\n",
    "#append languages to list\n",
    "for tweet in df[\"tweets\"]:\n",
    "    _, _, _, detected_language = cld2.detect(tweet,  returnVectors=True)\n",
    "    lang_detect.append(detected_language)\n",
    "    \n",
    "#add languages to df\n",
    "df[\"language\"] = lang_detect"
   ]
  },
  {
   "cell_type": "markdown",
   "id": "c18a4630",
   "metadata": {},
   "source": [
    "# Translate the Tweets"
   ]
  },
  {
   "cell_type": "code",
   "execution_count": 133,
   "id": "aebe9c15",
   "metadata": {},
   "outputs": [],
   "source": [
    "#translation model from french to english\n",
    "model_checkpoint = \"Helsinki-NLP/opus-mt-fr-en\"\n",
    "translator_fr = pipeline(\"translation\", model=model_checkpoint)\n",
    "\n",
    "#translation model from german to english\n",
    "model_checkpoint = \"Helsinki-NLP/opus-mt-de-en\"\n",
    "translator_de = pipeline(\"translation\", model=model_checkpoint)\n",
    "\n",
    "#translation model from italian to english\n",
    "model_checkpoint = \"Helsinki-NLP/opus-mt-it-en\"\n",
    "translator_it = pipeline(\"translation\", model=model_checkpoint)"
   ]
  },
  {
   "cell_type": "code",
   "execution_count": 16,
   "id": "7873fc41",
   "metadata": {},
   "outputs": [
    {
     "name": "stderr",
     "output_type": "stream",
     "text": [
      "100%|██████████| 1805/1805 [23:09<00:00,  1.30it/s]\n"
     ]
    }
   ],
   "source": [
    "#initialise list\n",
    "translated_tweets = []\n",
    "\n",
    "#for loop for translation \n",
    "for i in tqdm(range(len(df))):\n",
    "    if not df.iloc[i]['language']:\n",
    "        translated_tweets.append('NA')\n",
    "        continue\n",
    "    \n",
    "    if df.iloc[i][\"language\"][0][2] == \"FRENCH\":\n",
    "        translated_tweets.append(translator_fr(df.iloc[i][\"tweets\"]))\n",
    "    elif df.iloc[i][\"language\"][0][2] == \"GERMAN\":\n",
    "        translated_tweets.append(translator_de(df.iloc[i][\"tweets\"]))\n",
    "    elif df.iloc[i][\"language\"][0][2] == \"ITALIAN\":\n",
    "        translated_tweets.append(translator_it(df.iloc[i][\"tweets\"]))\n",
    "    else:\n",
    "        translated_tweets.append(\"NA\")\n",
    "        \n",
    "        "
   ]
  },
  {
   "cell_type": "code",
   "execution_count": null,
   "id": "f08a5b1a",
   "metadata": {},
   "outputs": [],
   "source": [
    "#creating csv\n",
    "# df_questions  = pd.read_csv('./csv/carlo_questions.csv')\n",
    "# df_translated = pd.DataFrame({\"translated_tweets\": translated_tweets})\n",
    "#df['translated_tweets'] = translated_tweets\n",
    "#df.to_csv('df_translated_tweets.csv', index=False)"
   ]
  },
  {
   "cell_type": "markdown",
   "id": "ed6f4701",
   "metadata": {},
   "source": [
    "# Assign keywords for each topic"
   ]
  },
  {
   "cell_type": "code",
   "execution_count": 222,
   "id": "96c342eb",
   "metadata": {},
   "outputs": [],
   "source": [
    "df = pd.read_csv(\"./csv/df_translated_tweets.csv\")"
   ]
  },
  {
   "cell_type": "code",
   "execution_count": 223,
   "id": "aa558e7c",
   "metadata": {},
   "outputs": [],
   "source": [
    "def clean_translated_tweets(tweet):\n",
    "    if isinstance(tweet, float):\n",
    "        return 'NaN'\n",
    "    else:\n",
    "        return tweet[23:-3]"
   ]
  },
  {
   "cell_type": "code",
   "execution_count": 224,
   "id": "808a7119",
   "metadata": {},
   "outputs": [],
   "source": [
    "df['translated_tweets'] = df['translated_tweets'].apply(clean_translated_tweets)"
   ]
  },
  {
   "cell_type": "code",
   "execution_count": 225,
   "id": "cdd65778",
   "metadata": {},
   "outputs": [],
   "source": [
    "df = df[df.translated_tweets != \"NaN\"]"
   ]
  },
  {
   "cell_type": "code",
   "execution_count": 226,
   "id": "046d5fb1",
   "metadata": {},
   "outputs": [],
   "source": [
    "df = df.reset_index(drop=True)"
   ]
  },
  {
   "cell_type": "code",
   "execution_count": 227,
   "id": "22f16d90",
   "metadata": {},
   "outputs": [],
   "source": [
    "df = df.drop('Unnamed: 0', axis=1)"
   ]
  },
  {
   "cell_type": "code",
   "execution_count": 228,
   "id": "2fb34fb9",
   "metadata": {},
   "outputs": [],
   "source": [
    "df.to_csv('./csv/df_translated_tweets_clean.csv')"
   ]
  },
  {
   "cell_type": "code",
   "execution_count": 209,
   "id": "a04b1ad0",
   "metadata": {},
   "outputs": [],
   "source": [
    "topics_to_keyword = {}\n",
    "topics_to_keyword['family'] = {'pension', 'AHV', 'AVS', 'benefit', 'benefits', 'childcare', 'nursery', 'paternity', 'pension', 'life expectancy', 'social assistance', 'social housing', 'construction', 'public housing'}\n",
    "topics_to_keyword['health'] = {'health', 'premium', 'organ', 'donation', 'vaccine', 'vaccination', 'insurance', 'premium', 'subsidies', 'cost brake', 'health care cost'}\n",
    "topics_to_keyword['education'] = {'education', 'courses', 'subsidies', 'religion', 'sex education', 'reconversion', 'learning', 'school', 'highschool', 'apprenticeship', 'disabilities'}\n",
    "topics_to_keyword['immigration'] = {'resident', 'communal elections', 'bilateral', 'EU', 'immigration', 'foreigners', 'undocumented', 'residence', 'migrants', 'asylum', 'naturalisation', 'integration'}\n",
    "topics_to_keyword['finances'] = {'taxes', 'financial equalisation', 'individual taxation', 'married', 'company taxation'}\n",
    "topics_to_keyword['economy'] = {'electricity', 'wage', 'FDI', 'investment controls', 'takeovers', 'opening hours', 'shops', 'dismissal', 'workers', ' public services', 'post office'}\n",
    "topics_to_keyword['digitalisation'] = {'Uber', 'Airbnb', 'online'}\n",
    "topics_to_keyword['energy'] = {'fossil', 'fuel', 'C02', 'gas', 'renewable', 'energy', 'motorway', 'lanes', 'road pricing'}\n",
    "topics_to_keyword['ecology'] = {'predators', 'lynx', 'bears', 'wolf', 'plants', 'genetically modified', 'ecologica', 'farms', 'pesticides', 'biodiversity', 'animals', 'livestock'}\n",
    "topics_to_keyword['politics'] = {'campaigns', 'transparency', 'e-voting', 'votes', 'voting age'}\n",
    "topics_to_keyword['security'] = {'border control', 'civil service', 'schengen', 'shengen', 'war', 'weapons', 'army', 'aircraft', 'dna'}\n",
    "topics_to_keyword['external_relations'] = {'EU', 'trade', 'USA', 'human rights', 'environment', 'security council'}\n",
    "\n",
    "\n"
   ]
  },
  {
   "cell_type": "markdown",
   "id": "836a372c",
   "metadata": {},
   "source": [
    "## Classify the tweets"
   ]
  },
  {
   "cell_type": "code",
   "execution_count": 210,
   "id": "ab2bd984",
   "metadata": {},
   "outputs": [],
   "source": [
    "\n",
    "classes = [set() for _ in range(len(df))]\n",
    "\n",
    "for i,tweet in enumerate(df[\"translated_tweets\"]):\n",
    "    for topic in topics_to_keyword:\n",
    "        for keyword in topics_to_keyword[topic]:\n",
    "            if keyword in tweet:\n",
    "                classes[i].add(topic)\n",
    "        "
   ]
  },
  {
   "cell_type": "code",
   "execution_count": 217,
   "id": "a6196e66",
   "metadata": {},
   "outputs": [],
   "source": [
    "df[\"topic\"] = classes"
   ]
  },
  {
   "cell_type": "markdown",
   "id": "4922b4d1",
   "metadata": {},
   "source": [
    "## how many tweets not assigned to a topic?"
   ]
  },
  {
   "cell_type": "code",
   "execution_count": 218,
   "id": "e1723452",
   "metadata": {},
   "outputs": [
    {
     "name": "stdout",
     "output_type": "stream",
     "text": [
      "1138\n"
     ]
    }
   ],
   "source": [
    "res = 0\n",
    "for topic in df['topic']:\n",
    "    if len(topic) == 0:\n",
    "        res += 1\n",
    "\n",
    "print(res)\n",
    "# many sentences without topic"
   ]
  },
  {
   "cell_type": "code",
   "execution_count": 219,
   "id": "c530e2f3",
   "metadata": {},
   "outputs": [
    {
     "data": {
      "text/html": [
       "<div>\n",
       "<style scoped>\n",
       "    .dataframe tbody tr th:only-of-type {\n",
       "        vertical-align: middle;\n",
       "    }\n",
       "\n",
       "    .dataframe tbody tr th {\n",
       "        vertical-align: top;\n",
       "    }\n",
       "\n",
       "    .dataframe thead th {\n",
       "        text-align: right;\n",
       "    }\n",
       "</style>\n",
       "<table border=\"1\" class=\"dataframe\">\n",
       "  <thead>\n",
       "    <tr style=\"text-align: right;\">\n",
       "      <th></th>\n",
       "      <th>tweets</th>\n",
       "      <th>likes</th>\n",
       "      <th>time</th>\n",
       "      <th>politician_id</th>\n",
       "      <th>language</th>\n",
       "      <th>translated_tweets</th>\n",
       "      <th>topic</th>\n",
       "    </tr>\n",
       "  </thead>\n",
       "  <tbody>\n",
       "    <tr>\n",
       "      <th>0</th>\n",
       "      <td>Alors que le Conseil fédéral annonce des défic...</td>\n",
       "      <td>5</td>\n",
       "      <td>2022-09-14 08:08:53+00:00</td>\n",
       "      <td>CarloSommaruga</td>\n",
       "      <td>((0, 253, 'FRENCH', 'fr'),)</td>\n",
       "      <td>While the Federal Council is announcing budget...</td>\n",
       "      <td>{}</td>\n",
       "    </tr>\n",
       "    <tr>\n",
       "      <th>1</th>\n",
       "      <td>Les excédents du fonds AVS pour 2020 et 2021 s...</td>\n",
       "      <td>0</td>\n",
       "      <td>2022-08-26 12:28:02+00:00</td>\n",
       "      <td>CarloSommaruga</td>\n",
       "      <td>((0, 185, 'FRENCH', 'fr'),)</td>\n",
       "      <td>The surplus of the AVS fund for 2020 and 2021 ...</td>\n",
       "      <td>{family}</td>\n",
       "    </tr>\n",
       "    <tr>\n",
       "      <th>2</th>\n",
       "      <td>Es ist pikant, dass ein Fakejournalist, aber e...</td>\n",
       "      <td>4</td>\n",
       "      <td>2022-08-26 12:22:12+00:00</td>\n",
       "      <td>CarloSommaruga</td>\n",
       "      <td>((0, 244, 'GERMAN', 'de'),)</td>\n",
       "      <td>It is piqued that a fake journalist, but a rea...</td>\n",
       "      <td>{family}</td>\n",
       "    </tr>\n",
       "    <tr>\n",
       "      <th>3</th>\n",
       "      <td>Les statuts permettent l’élection directe et p...</td>\n",
       "      <td>2</td>\n",
       "      <td>2022-08-22 05:44:51+00:00</td>\n",
       "      <td>CarloSommaruga</td>\n",
       "      <td>((0, 288, 'FRENCH', 'fr'),)</td>\n",
       "      <td>The statutes allow for direct election and by ...</td>\n",
       "      <td>{}</td>\n",
       "    </tr>\n",
       "    <tr>\n",
       "      <th>4</th>\n",
       "      <td>Les Suisses et Suissesses sont un peuple de lo...</td>\n",
       "      <td>5</td>\n",
       "      <td>2022-08-21 06:23:55+00:00</td>\n",
       "      <td>CarloSommaruga</td>\n",
       "      <td>((0, 104, 'FRENCH', 'fr'),)</td>\n",
       "      <td>The Swiss are a people of tenants, and they re...</td>\n",
       "      <td>{}</td>\n",
       "    </tr>\n",
       "    <tr>\n",
       "      <th>...</th>\n",
       "      <td>...</td>\n",
       "      <td>...</td>\n",
       "      <td>...</td>\n",
       "      <td>...</td>\n",
       "      <td>...</td>\n",
       "      <td>...</td>\n",
       "      <td>...</td>\n",
       "    </tr>\n",
       "    <tr>\n",
       "      <th>1605</th>\n",
       "      <td>Comment le premier parti de suisse peut-il pro...</td>\n",
       "      <td>2</td>\n",
       "      <td>2015-12-08 17:13:38+00:00</td>\n",
       "      <td>CarloSommaruga</td>\n",
       "      <td>((0, 123, 'FRENCH', 'fr'),)</td>\n",
       "      <td>How can the first Swiss party propose so much ...</td>\n",
       "      <td>{}</td>\n",
       "    </tr>\n",
       "    <tr>\n",
       "      <th>1606</th>\n",
       "      <td>CH-EU:73% des entreprises craignent que résili...</td>\n",
       "      <td>0</td>\n",
       "      <td>2015-12-08 10:03:12+00:00</td>\n",
       "      <td>CarloSommaruga</td>\n",
       "      <td>((0, 120, 'FRENCH', 'fr'),)</td>\n",
       "      <td>CH-EU:73% of companies fear that termination o...</td>\n",
       "      <td>{external_relations, immigration}</td>\n",
       "    </tr>\n",
       "    <tr>\n",
       "      <th>1607</th>\n",
       "      <td>Suisse: De 2009 à 2014, le nombre de jeunes pr...</td>\n",
       "      <td>0</td>\n",
       "      <td>2015-12-07 08:51:27+00:00</td>\n",
       "      <td>CarloSommaruga</td>\n",
       "      <td>((0, 119, 'FRENCH', 'fr'),)</td>\n",
       "      <td>Switzerland: From 2009 to 2014, the number of ...</td>\n",
       "      <td>{}</td>\n",
       "    </tr>\n",
       "    <tr>\n",
       "      <th>1608</th>\n",
       "      <td>Suisse-UE: Clause de sauvegarde unilatérale: P...</td>\n",
       "      <td>1</td>\n",
       "      <td>2015-12-05 15:58:37+00:00</td>\n",
       "      <td>CarloSommaruga</td>\n",
       "      <td>((0, 118, 'FRENCH', 'fr'),)</td>\n",
       "      <td>Switzerland-EU: Unilateral safeguard clause: P...</td>\n",
       "      <td>{external_relations, immigration}</td>\n",
       "    </tr>\n",
       "    <tr>\n",
       "      <th>1609</th>\n",
       "      <td>PS Suisse - réaliste garant des libertés indiv...</td>\n",
       "      <td>1</td>\n",
       "      <td>2015-12-05 13:53:08+00:00</td>\n",
       "      <td>CarloSommaruga</td>\n",
       "      <td>((0, 142, 'FRENCH', 'fr'),)</td>\n",
       "      <td>PS Switzerland - realistic guarantor of indivi...</td>\n",
       "      <td>{}</td>\n",
       "    </tr>\n",
       "  </tbody>\n",
       "</table>\n",
       "<p>1610 rows × 7 columns</p>\n",
       "</div>"
      ],
      "text/plain": [
       "                                                 tweets  likes  \\\n",
       "0     Alors que le Conseil fédéral annonce des défic...      5   \n",
       "1     Les excédents du fonds AVS pour 2020 et 2021 s...      0   \n",
       "2     Es ist pikant, dass ein Fakejournalist, aber e...      4   \n",
       "3     Les statuts permettent l’élection directe et p...      2   \n",
       "4     Les Suisses et Suissesses sont un peuple de lo...      5   \n",
       "...                                                 ...    ...   \n",
       "1605  Comment le premier parti de suisse peut-il pro...      2   \n",
       "1606  CH-EU:73% des entreprises craignent que résili...      0   \n",
       "1607  Suisse: De 2009 à 2014, le nombre de jeunes pr...      0   \n",
       "1608  Suisse-UE: Clause de sauvegarde unilatérale: P...      1   \n",
       "1609  PS Suisse - réaliste garant des libertés indiv...      1   \n",
       "\n",
       "                           time   politician_id                     language  \\\n",
       "0     2022-09-14 08:08:53+00:00  CarloSommaruga  ((0, 253, 'FRENCH', 'fr'),)   \n",
       "1     2022-08-26 12:28:02+00:00  CarloSommaruga  ((0, 185, 'FRENCH', 'fr'),)   \n",
       "2     2022-08-26 12:22:12+00:00  CarloSommaruga  ((0, 244, 'GERMAN', 'de'),)   \n",
       "3     2022-08-22 05:44:51+00:00  CarloSommaruga  ((0, 288, 'FRENCH', 'fr'),)   \n",
       "4     2022-08-21 06:23:55+00:00  CarloSommaruga  ((0, 104, 'FRENCH', 'fr'),)   \n",
       "...                         ...             ...                          ...   \n",
       "1605  2015-12-08 17:13:38+00:00  CarloSommaruga  ((0, 123, 'FRENCH', 'fr'),)   \n",
       "1606  2015-12-08 10:03:12+00:00  CarloSommaruga  ((0, 120, 'FRENCH', 'fr'),)   \n",
       "1607  2015-12-07 08:51:27+00:00  CarloSommaruga  ((0, 119, 'FRENCH', 'fr'),)   \n",
       "1608  2015-12-05 15:58:37+00:00  CarloSommaruga  ((0, 118, 'FRENCH', 'fr'),)   \n",
       "1609  2015-12-05 13:53:08+00:00  CarloSommaruga  ((0, 142, 'FRENCH', 'fr'),)   \n",
       "\n",
       "                                      translated_tweets  \\\n",
       "0     While the Federal Council is announcing budget...   \n",
       "1     The surplus of the AVS fund for 2020 and 2021 ...   \n",
       "2     It is piqued that a fake journalist, but a rea...   \n",
       "3     The statutes allow for direct election and by ...   \n",
       "4     The Swiss are a people of tenants, and they re...   \n",
       "...                                                 ...   \n",
       "1605  How can the first Swiss party propose so much ...   \n",
       "1606  CH-EU:73% of companies fear that termination o...   \n",
       "1607  Switzerland: From 2009 to 2014, the number of ...   \n",
       "1608  Switzerland-EU: Unilateral safeguard clause: P...   \n",
       "1609  PS Switzerland - realistic guarantor of indivi...   \n",
       "\n",
       "                                  topic  \n",
       "0                                    {}  \n",
       "1                              {family}  \n",
       "2                              {family}  \n",
       "3                                    {}  \n",
       "4                                    {}  \n",
       "...                                 ...  \n",
       "1605                                 {}  \n",
       "1606  {external_relations, immigration}  \n",
       "1607                                 {}  \n",
       "1608  {external_relations, immigration}  \n",
       "1609                                 {}  \n",
       "\n",
       "[1610 rows x 7 columns]"
      ]
     },
     "execution_count": 219,
     "metadata": {},
     "output_type": "execute_result"
    }
   ],
   "source": [
    "df"
   ]
  },
  {
   "cell_type": "markdown",
   "id": "64df79eb",
   "metadata": {},
   "source": [
    "# Testing Question Answering # 1"
   ]
  },
  {
   "cell_type": "code",
   "execution_count": 477,
   "id": "fe255f11",
   "metadata": {},
   "outputs": [],
   "source": [
    "question_paternity_leave = \"Would you like to introduce a paternity leave of 4weeks? \""
   ]
  },
  {
   "cell_type": "markdown",
   "id": "a30828b6",
   "metadata": {},
   "source": [
    "## Distilbert Model "
   ]
  },
  {
   "cell_type": "code",
   "execution_count": 478,
   "id": "8b07f205",
   "metadata": {},
   "outputs": [],
   "source": [
    "context_easy = \"Of course, I am in favor of introducing the paternity leave.\""
   ]
  },
  {
   "cell_type": "code",
   "execution_count": 479,
   "id": "0b7cb64d",
   "metadata": {},
   "outputs": [
    {
     "name": "stderr",
     "output_type": "stream",
     "text": [
      "No model was supplied, defaulted to distilbert-base-cased-distilled-squad (https://huggingface.co/distilbert-base-cased-distilled-squad)\n"
     ]
    },
    {
     "data": {
      "text/plain": [
       "{'score': 0.15390625596046448,\n",
       " 'start': 16,\n",
       " 'end': 59,\n",
       " 'answer': 'in favor of introducing the paternity leave'}"
      ]
     },
     "execution_count": 479,
     "metadata": {},
     "output_type": "execute_result"
    }
   ],
   "source": [
    "qa_model = pipeline(\"question-answering\")\n",
    "qa_model(question = question_paternity_leave, context = context_easy)"
   ]
  },
  {
   "cell_type": "code",
   "execution_count": 480,
   "id": "1f5a50e1",
   "metadata": {},
   "outputs": [],
   "source": [
    "context_medium= \"A paternity leave of 8 weeks would make sense.  \""
   ]
  },
  {
   "cell_type": "code",
   "execution_count": 481,
   "id": "c7d07fa5",
   "metadata": {},
   "outputs": [
    {
     "name": "stderr",
     "output_type": "stream",
     "text": [
      "No model was supplied, defaulted to distilbert-base-cased-distilled-squad (https://huggingface.co/distilbert-base-cased-distilled-squad)\n"
     ]
    },
    {
     "data": {
      "text/plain": [
       "{'score': 0.2950955331325531,\n",
       " 'start': 0,\n",
       " 'end': 22,\n",
       " 'answer': 'A paternity of 8 weeks'}"
      ]
     },
     "execution_count": 481,
     "metadata": {},
     "output_type": "execute_result"
    }
   ],
   "source": [
    "qa_model = pipeline(\"question-answering\")\n",
    "qa_model(question = question_paternity_leave, context = context_medium)"
   ]
  },
  {
   "cell_type": "code",
   "execution_count": 649,
   "id": "7474a9ec",
   "metadata": {},
   "outputs": [],
   "source": [
    "context_difficult= \"Men who take paternity leave have closer bonds with their kids and a lower chance of divorcing their spouse. Paid leave taken by both parents increases women’s participation in the work force. I am therefore not in favor of this initiative\""
   ]
  },
  {
   "cell_type": "code",
   "execution_count": 650,
   "id": "c99689c4",
   "metadata": {},
   "outputs": [
    {
     "name": "stderr",
     "output_type": "stream",
     "text": [
      "No model was supplied, defaulted to distilbert-base-cased-distilled-squad (https://huggingface.co/distilbert-base-cased-distilled-squad)\n"
     ]
    },
    {
     "data": {
      "text/plain": [
       "{'score': 0.15825620293617249,\n",
       " 'start': 208,\n",
       " 'end': 220,\n",
       " 'answer': 'not in favor'}"
      ]
     },
     "execution_count": 650,
     "metadata": {},
     "output_type": "execute_result"
    }
   ],
   "source": [
    "qa_model = pipeline(\"question-answering\")\n",
    "qa_model(question = question_paternity_leave, context = context_difficult)"
   ]
  },
  {
   "cell_type": "markdown",
   "id": "c6d4c6bf",
   "metadata": {},
   "source": [
    "## Bert QA"
   ]
  },
  {
   "cell_type": "code",
   "execution_count": 485,
   "id": "e0aa7db2",
   "metadata": {},
   "outputs": [],
   "source": [
    "from transformers import AutoTokenizer, AutoModelForQuestionAnswering\n",
    "\n",
    "tokenizer = AutoTokenizer.from_pretrained(\"srcocotero/bert-large-qa\")\n",
    "\n",
    "model_qa_bert = AutoModelForQuestionAnswering.from_pretrained(\"srcocotero/bert-large-qa\")"
   ]
  },
  {
   "cell_type": "code",
   "execution_count": 651,
   "id": "be6c1179",
   "metadata": {},
   "outputs": [
    {
     "data": {
      "text/plain": [
       "{'score': 0.17064452171325684,\n",
       " 'start': 193,\n",
       " 'end': 239,\n",
       " 'answer': 'I am therefore not in favor of this initiative'}"
      ]
     },
     "execution_count": 651,
     "metadata": {},
     "output_type": "execute_result"
    }
   ],
   "source": [
    "qa_model = pipeline(\"question-answering\", model = \"srcocotero/bert-large-qa\")\n",
    "qa_model(question = question_paternity_leave, context = context_difficult)"
   ]
  },
  {
   "cell_type": "code",
   "execution_count": 489,
   "id": "ef619484",
   "metadata": {},
   "outputs": [
    {
     "data": {
      "text/plain": [
       "{'score': 0.28941914439201355,\n",
       " 'start': 0,\n",
       " 'end': 39,\n",
       " 'answer': 'A paternity of 8 weeks would make sense'}"
      ]
     },
     "execution_count": 489,
     "metadata": {},
     "output_type": "execute_result"
    }
   ],
   "source": [
    "qa_model = pipeline(\"question-answering\", model = \"srcocotero/bert-large-qa\")\n",
    "qa_model(question = question_paternity_leave, context = context_medium)"
   ]
  },
  {
   "cell_type": "code",
   "execution_count": 490,
   "id": "ff46c9c5",
   "metadata": {},
   "outputs": [
    {
     "data": {
      "text/plain": [
       "{'score': 0.3168155252933502,\n",
       " 'start': 11,\n",
       " 'end': 24,\n",
       " 'answer': 'I am in favor'}"
      ]
     },
     "execution_count": 490,
     "metadata": {},
     "output_type": "execute_result"
    }
   ],
   "source": [
    "qa_model = pipeline(\"question-answering\", model = \"srcocotero/bert-large-qa\")\n",
    "qa_model(question = question_paternity_leave, context = context_easy)"
   ]
  },
  {
   "cell_type": "markdown",
   "id": "44f67080",
   "metadata": {},
   "source": [
    "## Deepset Roberta Model"
   ]
  },
  {
   "cell_type": "code",
   "execution_count": 655,
   "id": "6989dc01",
   "metadata": {},
   "outputs": [],
   "source": [
    "model_name = \"deepset/xlm-roberta-base-squad2\""
   ]
  },
  {
   "cell_type": "code",
   "execution_count": 654,
   "id": "7fccb245",
   "metadata": {},
   "outputs": [
    {
     "data": {
      "text/plain": [
       "{'score': 0.12847624719142914,\n",
       " 'start': 10,\n",
       " 'end': 60,\n",
       " 'answer': ' I am in favor of introducing the paternity leave.'}"
      ]
     },
     "execution_count": 654,
     "metadata": {},
     "output_type": "execute_result"
    }
   ],
   "source": [
    "# a) Get predictions\n",
    "nlp = pipeline('question-answering', model=model_name, tokenizer=model_name)\n",
    "QA_input = {\n",
    "    'question': question_paternity_leave,\n",
    "    'context': context_easy\n",
    "}\n",
    "res = nlp(QA_input)\n",
    "\n",
    "# b) Load model & tokenizer\n",
    "model = AutoModelForQuestionAnswering.from_pretrained(model_name)\n",
    "tokenizer = AutoTokenizer.from_pretrained(model_name)\n",
    "\n",
    "res"
   ]
  },
  {
   "cell_type": "code",
   "execution_count": 656,
   "id": "98ec22d6",
   "metadata": {},
   "outputs": [
    {
     "data": {
      "text/plain": [
       "{'score': 0.0024764190893620253, 'start': 14, 'end': 22, 'answer': ' 8 weeks'}"
      ]
     },
     "execution_count": 656,
     "metadata": {},
     "output_type": "execute_result"
    }
   ],
   "source": [
    "# a) Get predictions\n",
    "nlp = pipeline('question-answering', model=model_name, tokenizer=model_name)\n",
    "QA_input = {\n",
    "    'question': question_paternity_leave,\n",
    "    'context': context_medium\n",
    "}\n",
    "res = nlp(QA_input)\n",
    "\n",
    "# b) Load model & tokenizer\n",
    "model = AutoModelForQuestionAnswering.from_pretrained(model_name)\n",
    "tokenizer = AutoTokenizer.from_pretrained(model_name)\n",
    "\n",
    "res"
   ]
  },
  {
   "cell_type": "code",
   "execution_count": 418,
   "id": "030c0ddd",
   "metadata": {},
   "outputs": [
    {
     "data": {
      "text/plain": [
       "{'score': 0.0004850009281653911,\n",
       " 'start': 108,\n",
       " 'end': 141,\n",
       " 'answer': ' Paid leave taken by both parents'}"
      ]
     },
     "execution_count": 418,
     "metadata": {},
     "output_type": "execute_result"
    }
   ],
   "source": [
    "# a) Get predictions\n",
    "nlp = pipeline('question-answering', model=model_name, tokenizer=model_name)\n",
    "QA_input = {\n",
    "    'question': question_paternity_leave,\n",
    "    'context': context_difficult\n",
    "}\n",
    "res = nlp(QA_input)\n",
    "\n",
    "# b) Load model & tokenizer\n",
    "model = AutoModelForQuestionAnswering.from_pretrained(model_name)\n",
    "tokenizer = AutoTokenizer.from_pretrained(model_name)\n",
    "\n",
    "res"
   ]
  },
  {
   "cell_type": "markdown",
   "id": "b9f508a7",
   "metadata": {},
   "source": [
    "# Application on the tweets with topic 'family'"
   ]
  },
  {
   "cell_type": "code",
   "execution_count": 88,
   "id": "f50198db",
   "metadata": {},
   "outputs": [],
   "source": [
    "#questions for the topic 'family '\n",
    "questions_family = [\"Êtes-vous favorable à une hausse de l'âge de la retraite?\", \n",
    "                    \"L'État devrait-il renforcer son soutien financier à la création de structures d'accueil extra-familial?\", \n",
    "                    \"Une initiative demande l'instauration d'un congé paternité payé de quatre semaines. Êtes-vous en faveur de cette proposition?\", \n",
    "                    \"Les rentes de la caisse de pension doivent-elles être adaptées à l'allongement de l'espérance de vie (réduction du taux de conversion)?\", \n",
    "                    \"Soutenez-vous les efforts au niveau des cantons visant à réduire les prestations d'aide sociale?\", \n",
    "                   \"La Confédération devrait-elle encourager davantage la construction de logements d'utilité publique?\"]\n",
    "\n",
    "question_family_simplified = ['Are you in favour of raising the retirement age?', \n",
    "                              'Should the state finance childcare?', \n",
    "                              'Is paternity leave good?', \n",
    "                              'Should we finance pension funds?', \n",
    "                              'Are you in favor of benefits?', \n",
    "                              'Are you in favor of public housing?']\n"
   ]
  },
  {
   "cell_type": "code",
   "execution_count": 25,
   "id": "6a57b979",
   "metadata": {},
   "outputs": [],
   "source": [
    "#translate the questions\n",
    "questions_family_trans = []\n",
    "for question in questions_family:\n",
    "    questions_family_trans.append(translator_fr(question))"
   ]
  },
  {
   "cell_type": "code",
   "execution_count": 31,
   "id": "cdeaa94f",
   "metadata": {},
   "outputs": [],
   "source": [
    "#find the tweets with keywords that relates to the family topic\n",
    "context_tweets = []\n",
    "for i in range(len(df)):\n",
    "    if 'family' in df.iloc[i]['topic']:\n",
    "        context_tweets.append(df.iloc[i]['translated_tweets'][0]['translation_text'])\n",
    "\n",
    "#join all the context tweets\n",
    "context_tweets_all = ' '.join(context_tweets)        "
   ]
  },
  {
   "cell_type": "code",
   "execution_count": 165,
   "id": "ce714bf9",
   "metadata": {},
   "outputs": [
    {
     "data": {
      "text/plain": [
       "'The surplus of the AVS fund for 2020 and 2021 is a true fact which is at p.76 of the Management Report 2021 of the AVS Fund! Don\\'t let yourself be influenced by a fakejournalist! It is piqued that a fake journalist, but a real ideologist, nevertheless denies a true fact, which can be found on page 76 of the Annual Report 2021 of the AHV Fund! Therefore a NO to the fake journalists and a 2 x NO to the AHV 21. The purchasing power of many people is under increasing pressure: wages and pensions are stagnating, but energy prices, rents and health insurance premiums continue to rise. The socially irresponsible attitude of the PLR, Centre and UDC will place many tenants at the AVS or the AI in a very precarious financial situation with the risk of termination of the contract if the amounts are not paid. The Swiss National Bank (SNB) collects billions of profits. This money belongs to the population and must finally come back to us. This is precisely what the SNB initiative wants: with it, we can strengthen the AVS without touching the workers\\' wallet. 150,000 signatures filed today against the AVS 21 project. Strong citizen mobilization against the plan to dismantle the AVS which provides for the raising of the retirement age of women to allow savings of 7 billion francs by 2030. \"It is necessary to stop the construction of the centre of return of the Grand Saconnex\" I am proud to have joined the coalition that is calling for the immediate cessation of the construction of the Federal Centre of Asylum and Return to the Grand Saconnex! RIE3 has been rejected to 59.1% of voters. Parliament has returned to the charge with RFFA, so a no to a 10% increase in rents can turn into a yes to a 13th AVS pension! \"It is important to show individual solidarity to demonstrators who benefit from this action with some protection\" AVS reform: the states have voted in favour of the retirement of women at age 65 Find my speech in Parliament below Women will have to work until the age of 65, decides the Council of States. Socially unjustifiable decision given the discrimination of women in the labour market and in the field of pensions. Social justice equality The vote shows that the party of the people and of the opening are the with refusal of subsidies to the rich, approval of paternity leave and maintenance of the bilateral way and the success of the minimum wage and the defence of the public service! For a divorced woman who would not receive her husband\\'s pension, the CO says there is a statute of limitations after 5 years. Scandalistic that Blocher, multibillionaire, who never asked for anything for 13 years, can be entitled to it in its entirety Annual BNS profit not relevant. But the reserve for future distributions in the Confederation and the Cantons. End 2019: 86 Mia frs! It\\'s more than 20 years of distribution. The BNS wants to negotiate an additional distribution. It\\'s time to focus on AVS + affordable housing With the ageing of the population, guaranteeing worthy pensions to current/future pensioners is essential. We commit ourselves: against the rise of the retirement age of women for the increase of AVS pensions and the sustainability of their financing. EF2019 I requested that 300 million francs per year, from the benefit of the SNB and paid to the Confederation, be paid into a continuing education and vocational integration fund. For worthy pensions, we commit ourselves: against the rise in the retirement age of women for the increase of AVS pensions and the sustainability of their funding for the adequate and quality care of the elderly We are committed to true equality in the professional and family spheres: equal pay parental leave support for better childcare for women Join our campaign We are committed to true equality in the professional and family spheres: equal pay parental leave support for better childcare for women Join our campaign We commit ourselves with Lisa Mazzone for true equality, in all spheres: Equal pay Parental leave Support for nurseries Best pensions for women With the same conviction against all types of discrimination Indecisive about tax reform and the reform of the AVS ? I am debating this evening at 6.30 p.m. (room MR070) under moderation For affordable housing, an open house or dignified pensions, what are our commitments for Geneva? Discover them here The call for public housing policies to be excluded from the scope of the framework agreement, and we are not against it, but we would like to make the voice of the tenants heard in this debate. It is time to commit ourselves to making our country the cradle of responsible multinationals, a challenge that will benefit everyone. Sign the announcement Very happy that the Geneva economic fabric is doing so well. It is now necessary that these successes benefit all and not some, you agree? Geneva The SBBs have received many free land for railway operations. Converted to housing construction, they must be allocated to affordable housing rather than to luxury apartments! The housing shortage affects 62% of the Swiss population. There is a need to stimulate the construction of affordable housing accessible to as many people as possible. Deposit with 105,000 signature of the initiative against the financing of armament by the BNS and pension funds. An important issue for Switzerland. It cannot promote peace and peace in the... The government\\'s assumption of ownership of the management of the housing stock is essential in order to drive a social housing policy Vevey Housing: a major construction site starts in Geneva next month. But the shortage of affordable housing remains a challenge. The popular initiative \"for more affordable housing\" remains of great relevance. Behind your anonymity you try to discredit an honest magistrate. She said and reiterated that she trusted in the respect of administrative procedures. When it turned out that there was doubt, she acted immediately. Suspension of the person concerned. Quite scandalous, the right of the National Council imposes on returning Swiss nationals a waiting period of 10 years of contributions in order to receive supplementary benefits to the AVS and the AI. Discriminant homeland! Berlin wants to encourage the exchange of social apartments. The City of Geneva with these 5000 housing units, public law foundations with their HBMs and public pension funds must do the same! via Housing, mobility, health at the top of the agenda. Three posts that strike the budget of Geneva\\'s families. In the cantonal and federal parliament, the elected representatives of Geneva and Geneva are committed to these themes for the benefit of the people of Geneva. My total support for the DEAS for its action against fraudulent clinic! How many private insured people abusively receive benefits!The DEAS must require the OCAI to put an end to any collaboration Parliamentary news: Attention to the revision of supplementary benefits (CP): No savings on the backs of the poorest! 8 euros per hour for a construction activity for Poles seconded by a subcontractor company... A report on Rojava, which clearly shows the construction of the democratic project of the Syrian Kurds. Clear message from the people. I accept it without any other. The challenge remains to build the majority for improved AVS benefits and finances! With the election of Ignazio Cassis to the Federal Council, it is more urgent than ever to vote 2 x YES in PV2020 to save the AVS In Zurich the left of the left says YES to PV2020: \"A no will serve the interests of those who want to dismantle the AVS\" With PV2020 we think of the 500\\'000 women who do not have a second pillar thanks to the increase of 840.- frs per year of the AVS pension. There is no majority for alternative. If it is not, it is the strategy of empty AVS boxes and small slice cutting: cf AI PV2020 Consolidates the AVS, guarantees pensions, ensures better protection in case of part-time work and unemployment. 2 x YES! Clean up pensions for \"a one-cent increase on the price of coffee\". An effort that can be sustained for all! It is the solidarity of the AVS that the PLR wants to break by fighting PV2020. So 2 x YES with conviction and solidarity on September 24 Why do I say 2 x YES to PV2020? Because the financing of the AVS is assured! This is how Federal Councillor Ruth Dreifuss successfully resisted the attacks on the AVS! All members can express themselves on support for pension reform PV2020. Let every activist participate! votegeneral The Schneider Ammann wonders what to make profits But for God\\'s sake, finance AVS, housing and health insurance premiums! The Assembly of the Swiss PS will vote on the general consultation of the members on the reform of old age pension 2020! In France as in Switzerland, the construction of affordable housing outside a speculative market makes it a priority. Parliamentary report on BODLUV suspension: real evaluation or more attack on the military-industrial complex? Israel: construction of 566 housing units in East Jerusalem. Given this arrogance Europe must recognize Palestine! European Socialists for suspension of Turkey\\'s accession talks in view of the current situation of authoritarianism and repression! Geneva: YES to AVSplus and econimieverte: a majority of citizens with a lucid, supportive and progressive look. CHVote Votes: small participation in Geneva. It is still time to vote in the morning YES at AVS+ and NO at LRens! Of course for you! But M Gauchet talks about the construction and instrumentalization of the conflict of religions. Business people are investing in the construction of the 2nd tunnel, so you have to tell them stop! And vote NO The first Syrian family to benefit from the humanitarian corridors set up by Italy leaves these days on...'"
      ]
     },
     "execution_count": 165,
     "metadata": {},
     "output_type": "execute_result"
    }
   ],
   "source": [
    "# this is our context for the QA with topic family\n",
    "context_tweets_all"
   ]
  },
  {
   "cell_type": "code",
   "execution_count": null,
   "id": "b187bf00",
   "metadata": {},
   "outputs": [],
   "source": [
    "#create with tweets all\n"
   ]
  },
  {
   "cell_type": "markdown",
   "id": "acaf90f5",
   "metadata": {},
   "source": [
    "### First Question: 'Are you in favour of raising the retirement age?'"
   ]
  },
  {
   "cell_type": "code",
   "execution_count": 51,
   "id": "04fddd21",
   "metadata": {},
   "outputs": [
    {
     "data": {
      "text/plain": [
       "'Are you in favour of raising the retirement age?'"
      ]
     },
     "execution_count": 51,
     "metadata": {},
     "output_type": "execute_result"
    }
   ],
   "source": [
    "#first question\n",
    "questions_family_trans[0][0]['translation_text']"
   ]
  },
  {
   "cell_type": "code",
   "execution_count": 33,
   "id": "dc098b17",
   "metadata": {},
   "outputs": [
    {
     "data": {
      "application/vnd.jupyter.widget-view+json": {
       "model_id": "1055a4c757f543778cf1cf8ed427967a",
       "version_major": 2,
       "version_minor": 0
      },
      "text/plain": [
       "Downloading:   0%|          | 0.00/675 [00:00<?, ?B/s]"
      ]
     },
     "metadata": {},
     "output_type": "display_data"
    },
    {
     "data": {
      "application/vnd.jupyter.widget-view+json": {
       "model_id": "8e34d7c403c246aa9ffd8f8a862b66e7",
       "version_major": 2,
       "version_minor": 0
      },
      "text/plain": [
       "Downloading:   0%|          | 0.00/1.24G [00:00<?, ?B/s]"
      ]
     },
     "metadata": {},
     "output_type": "display_data"
    },
    {
     "data": {
      "application/vnd.jupyter.widget-view+json": {
       "model_id": "bfbad243220246dfbb223cc7ef5a2b4e",
       "version_major": 2,
       "version_minor": 0
      },
      "text/plain": [
       "Downloading:   0%|          | 0.00/349 [00:00<?, ?B/s]"
      ]
     },
     "metadata": {},
     "output_type": "display_data"
    },
    {
     "data": {
      "application/vnd.jupyter.widget-view+json": {
       "model_id": "83ccda1684d84e1d995fbbfa5e2fa810",
       "version_major": 2,
       "version_minor": 0
      },
      "text/plain": [
       "Downloading:   0%|          | 0.00/226k [00:00<?, ?B/s]"
      ]
     },
     "metadata": {},
     "output_type": "display_data"
    },
    {
     "data": {
      "application/vnd.jupyter.widget-view+json": {
       "model_id": "9a617952f31b46b98fbc8efd0bcc96fa",
       "version_major": 2,
       "version_minor": 0
      },
      "text/plain": [
       "Downloading:   0%|          | 0.00/695k [00:00<?, ?B/s]"
      ]
     },
     "metadata": {},
     "output_type": "display_data"
    },
    {
     "data": {
      "application/vnd.jupyter.widget-view+json": {
       "model_id": "306f342453cf479d8004576a211999ea",
       "version_major": 2,
       "version_minor": 0
      },
      "text/plain": [
       "Downloading:   0%|          | 0.00/125 [00:00<?, ?B/s]"
      ]
     },
     "metadata": {},
     "output_type": "display_data"
    },
    {
     "name": "stderr",
     "output_type": "stream",
     "text": [
      "/home/ec2-user/anaconda3/envs/amazonei_mxnet_p36/lib/python3.6/site-packages/numpy/core/_asarray.py:83: VisibleDeprecationWarning: Creating an ndarray from ragged nested sequences (which is a list-or-tuple of lists-or-tuples-or ndarrays with different lengths or shapes) is deprecated. If you meant to do this, you must specify 'dtype=object' when creating the ndarray\n",
      "  return array(a, dtype, copy=False, order=order)\n"
     ]
    },
    {
     "data": {
      "text/plain": [
       "{'score': 0.3342711627483368, 'start': 3426, 'end': 3433, 'answer': 'against'}"
      ]
     },
     "execution_count": 33,
     "metadata": {},
     "output_type": "execute_result"
    }
   ],
   "source": [
    "qa_model = pipeline(\"question-answering\", model = \"srcocotero/bert-large-qa\")\n",
    "qa_model(question = questions_family_trans[0][0]['translation_text'], context = context_tweets_all)"
   ]
  },
  {
   "cell_type": "code",
   "execution_count": 37,
   "id": "81f8816d",
   "metadata": {},
   "outputs": [
    {
     "data": {
      "text/plain": [
       "'Confederation, be paid into a continuing education and vocational integration fund. For worthy pensions, we commit ourselves: against the rise in the retirement age of women for the increase of AVS pensions and the sustainability of their funding for the adequate and quality care of the elderly We a'"
      ]
     },
     "execution_count": 37,
     "metadata": {},
     "output_type": "execute_result"
    }
   ],
   "source": [
    "context_tweets_all[3300:3600]"
   ]
  },
  {
   "cell_type": "code",
   "execution_count": 68,
   "id": "27d29c1e",
   "metadata": {},
   "outputs": [
    {
     "data": {
      "text/plain": [
       "'Are you in favour of raising the retirement age?'"
      ]
     },
     "execution_count": 68,
     "metadata": {},
     "output_type": "execute_result"
    }
   ],
   "source": [
    "#using simplified question\n",
    "question_family_simplified[0]"
   ]
  },
  {
   "cell_type": "code",
   "execution_count": 67,
   "id": "b41331cc",
   "metadata": {},
   "outputs": [
    {
     "data": {
      "text/plain": [
       "{'score': 0.3342711627483368, 'start': 3426, 'end': 3433, 'answer': 'against'}"
      ]
     },
     "execution_count": 67,
     "metadata": {},
     "output_type": "execute_result"
    }
   ],
   "source": [
    "qa_model = pipeline(\"question-answering\", model = \"srcocotero/bert-large-qa\")\n",
    "qa_model(question = question_family_simplified[0], context = context_tweets_all)"
   ]
  },
  {
   "cell_type": "markdown",
   "id": "3e34b79a",
   "metadata": {},
   "source": [
    "### Second Question: 'Should the State increase its financial support for the creation of extra-family reception facilities?'"
   ]
  },
  {
   "cell_type": "code",
   "execution_count": 52,
   "id": "a2c7b149",
   "metadata": {},
   "outputs": [
    {
     "data": {
      "text/plain": [
       "'Should the State increase its financial support for the creation of extra-family reception facilities?'"
      ]
     },
     "execution_count": 52,
     "metadata": {},
     "output_type": "execute_result"
    }
   ],
   "source": [
    "#second question\n",
    "questions_family_trans[1][0]['translation_text']"
   ]
  },
  {
   "cell_type": "code",
   "execution_count": 38,
   "id": "018d9bb7",
   "metadata": {},
   "outputs": [
    {
     "data": {
      "text/plain": [
       "{'score': 0.06996136158704758, 'start': 8044, 'end': 8045, 'answer': '.'}"
      ]
     },
     "execution_count": 38,
     "metadata": {},
     "output_type": "execute_result"
    }
   ],
   "source": [
    "qa_model(question = questions_family_trans[1][0]['translation_text'], context = context_tweets_all)"
   ]
  },
  {
   "cell_type": "code",
   "execution_count": 83,
   "id": "472b0006",
   "metadata": {},
   "outputs": [
    {
     "data": {
      "text/plain": [
       "'Should the state finance childcare?'"
      ]
     },
     "execution_count": 83,
     "metadata": {},
     "output_type": "execute_result"
    }
   ],
   "source": [
    "#using simplified question\n",
    "question_family_simplified[1]"
   ]
  },
  {
   "cell_type": "code",
   "execution_count": 84,
   "id": "c8f826cb",
   "metadata": {},
   "outputs": [
    {
     "data": {
      "text/plain": [
       "{'score': 0.09597817808389664,\n",
       " 'start': 8265,\n",
       " 'end': 8300,\n",
       " 'answer': 'the financing of the AVS is assured'}"
      ]
     },
     "execution_count": 84,
     "metadata": {},
     "output_type": "execute_result"
    }
   ],
   "source": [
    "qa_model = pipeline(\"question-answering\", model = \"srcocotero/bert-large-qa\")\n",
    "qa_model(question = question_family_simplified[1], context = context_tweets_all)"
   ]
  },
  {
   "cell_type": "markdown",
   "id": "941df89b",
   "metadata": {},
   "source": [
    "### Third Question: 'One initiative calls for a four-week paid paternity leave. Are you in favour of this proposal?'"
   ]
  },
  {
   "cell_type": "code",
   "execution_count": 56,
   "id": "92ea4cf4",
   "metadata": {},
   "outputs": [
    {
     "data": {
      "text/plain": [
       "'One initiative calls for a four-week paid paternity leave. Are you in favour of this proposal?'"
      ]
     },
     "execution_count": 56,
     "metadata": {},
     "output_type": "execute_result"
    }
   ],
   "source": [
    "questions_family_trans[2][0]['translation_text']"
   ]
  },
  {
   "cell_type": "code",
   "execution_count": 39,
   "id": "e89a09c0",
   "metadata": {},
   "outputs": [
    {
     "data": {
      "text/plain": [
       "{'score': 0.23817914724349976,\n",
       " 'start': 2282,\n",
       " 'end': 2290,\n",
       " 'answer': 'approval'}"
      ]
     },
     "execution_count": 39,
     "metadata": {},
     "output_type": "execute_result"
    }
   ],
   "source": [
    "qa_model(question = questions_family_trans[2][0]['translation_text'], context = context_tweets_all)"
   ]
  },
  {
   "cell_type": "code",
   "execution_count": 44,
   "id": "74795dce",
   "metadata": {},
   "outputs": [
    {
     "data": {
      "text/plain": [
       "'y of the people and of the opening are the with refusal of subsidies to the rich, approval of paternity leave and maintenance of the bilateral way and the success of the minimum wage and the defence o'"
      ]
     },
     "execution_count": 44,
     "metadata": {},
     "output_type": "execute_result"
    }
   ],
   "source": [
    "context_tweets_all[2200:2400]"
   ]
  },
  {
   "cell_type": "code",
   "execution_count": 87,
   "id": "84f3e00d",
   "metadata": {},
   "outputs": [
    {
     "data": {
      "text/plain": [
       "'Is paternity leave good?'"
      ]
     },
     "execution_count": 87,
     "metadata": {},
     "output_type": "execute_result"
    }
   ],
   "source": [
    "#using simplified question\n",
    "question_family_simplified[2]"
   ]
  },
  {
   "cell_type": "code",
   "execution_count": 72,
   "id": "8c7d0454",
   "metadata": {},
   "outputs": [
    {
     "data": {
      "text/plain": [
       "{'score': 0.21026499569416046,\n",
       " 'start': 2282,\n",
       " 'end': 2290,\n",
       " 'answer': 'approval'}"
      ]
     },
     "execution_count": 72,
     "metadata": {},
     "output_type": "execute_result"
    }
   ],
   "source": [
    "qa_model = pipeline(\"question-answering\", model = \"srcocotero/bert-large-qa\")\n",
    "qa_model(question = question_family_simplified[2], context = context_tweets_all)"
   ]
  },
  {
   "cell_type": "markdown",
   "id": "93ebb104",
   "metadata": {},
   "source": [
    "### Fourth Question: 'One initiative calls for a four-week paid paternity leave. Are you in favour of this proposal?'"
   ]
  },
  {
   "cell_type": "code",
   "execution_count": 54,
   "id": "f898d028",
   "metadata": {},
   "outputs": [
    {
     "data": {
      "text/plain": [
       "'One initiative calls for a four-week paid paternity leave. Are you in favour of this proposal?'"
      ]
     },
     "execution_count": 54,
     "metadata": {},
     "output_type": "execute_result"
    }
   ],
   "source": [
    "questions_family_trans[3][0]['translation_text']"
   ]
  },
  {
   "cell_type": "code",
   "execution_count": 45,
   "id": "6e81be1b",
   "metadata": {},
   "outputs": [
    {
     "data": {
      "text/plain": [
       "{'score': 0.04313672333955765, 'start': 8044, 'end': 8045, 'answer': '.'}"
      ]
     },
     "execution_count": 45,
     "metadata": {},
     "output_type": "execute_result"
    }
   ],
   "source": [
    "qa_model(question = questions_family_trans[3][0]['translation_text'], context = context_tweets_all)"
   ]
  },
  {
   "cell_type": "code",
   "execution_count": 89,
   "id": "dce0cfdf",
   "metadata": {},
   "outputs": [
    {
     "data": {
      "text/plain": [
       "'Should we finance pension funds?'"
      ]
     },
     "execution_count": 89,
     "metadata": {},
     "output_type": "execute_result"
    }
   ],
   "source": [
    "#using simplified question\n",
    "question_family_simplified[3]"
   ]
  },
  {
   "cell_type": "code",
   "execution_count": 90,
   "id": "e9c7410d",
   "metadata": {},
   "outputs": [
    {
     "data": {
      "text/plain": [
       "{'score': 0.21115420758724213, 'start': 5247, 'end': 5254, 'answer': 'against'}"
      ]
     },
     "execution_count": 90,
     "metadata": {},
     "output_type": "execute_result"
    }
   ],
   "source": [
    "qa_model = pipeline(\"question-answering\", model = \"srcocotero/bert-large-qa\")\n",
    "qa_model(question = question_family_simplified[3], context = context_tweets_all)"
   ]
  },
  {
   "cell_type": "markdown",
   "id": "f951ab41",
   "metadata": {},
   "source": [
    "### Fifth Question: 'Do you support cantonal efforts to reduce social assistance benefits?'"
   ]
  },
  {
   "cell_type": "code",
   "execution_count": 57,
   "id": "a81978a0",
   "metadata": {},
   "outputs": [
    {
     "data": {
      "text/plain": [
       "'Do you support cantonal efforts to reduce social assistance benefits?'"
      ]
     },
     "execution_count": 57,
     "metadata": {},
     "output_type": "execute_result"
    }
   ],
   "source": [
    "questions_family_trans[4][0]['translation_text']"
   ]
  },
  {
   "cell_type": "code",
   "execution_count": 46,
   "id": "8cf45265",
   "metadata": {},
   "outputs": [
    {
     "data": {
      "text/plain": [
       "{'score': 0.04994482547044754,\n",
       " 'start': 6678,\n",
       " 'end': 6748,\n",
       " 'answer': 'My total support for the DEAS for its action against fraudulent clinic'}"
      ]
     },
     "execution_count": 46,
     "metadata": {},
     "output_type": "execute_result"
    }
   ],
   "source": [
    "qa_model(question = questions_family_trans[4][0]['translation_text'], context = context_tweets_all)"
   ]
  },
  {
   "cell_type": "code",
   "execution_count": 47,
   "id": "58decf40",
   "metadata": {},
   "outputs": [
    {
     "data": {
      "text/plain": [
       "\"eneva's families. In the cantonal and federal parliament, the elected representatives of Geneva and Geneva are committed to these themes for the benefit of the people of Geneva. My total support for the DEAS for its action against fraudulent clinic! How many private insured people abusively receive benefits!The DEAS must require the OCAI to put an end to any collaboration Parliamentary news: Atten\""
      ]
     },
     "execution_count": 47,
     "metadata": {},
     "output_type": "execute_result"
    }
   ],
   "source": [
    "context_tweets_all[6500:6900]"
   ]
  },
  {
   "cell_type": "code",
   "execution_count": 75,
   "id": "e29a2b53",
   "metadata": {},
   "outputs": [
    {
     "data": {
      "text/plain": [
       "'Are you in favor of benefits?'"
      ]
     },
     "execution_count": 75,
     "metadata": {},
     "output_type": "execute_result"
    }
   ],
   "source": [
    "#using simplified question\n",
    "question_family_simplified[4]"
   ]
  },
  {
   "cell_type": "code",
   "execution_count": 76,
   "id": "035c12a1",
   "metadata": {},
   "outputs": [
    {
     "data": {
      "text/plain": [
       "{'score': 0.08064859360456467,\n",
       " 'start': 1851,\n",
       " 'end': 1919,\n",
       " 'answer': 'the states have voted in favour of the retirement of women at age 65'}"
      ]
     },
     "execution_count": 76,
     "metadata": {},
     "output_type": "execute_result"
    }
   ],
   "source": [
    "qa_model = pipeline(\"question-answering\", model = \"srcocotero/bert-large-qa\")\n",
    "qa_model(question = question_family_simplified[4], context = context_tweets_all)"
   ]
  },
  {
   "cell_type": "markdown",
   "id": "47a962e6",
   "metadata": {},
   "source": [
    "### Sixth Question: 'Should Confederation further encourage the construction of public utility housing?'\n"
   ]
  },
  {
   "cell_type": "code",
   "execution_count": null,
   "id": "5c3e9aee",
   "metadata": {},
   "outputs": [],
   "source": [
    "questions_family_trans[5][0]['translation_text']"
   ]
  },
  {
   "cell_type": "code",
   "execution_count": 48,
   "id": "e1cede60",
   "metadata": {},
   "outputs": [
    {
     "data": {
      "text/plain": [
       "{'score': 0.1102256253361702,\n",
       " 'start': 2904,\n",
       " 'end': 2950,\n",
       " 'answer': \"It's time to focus on AVS + affordable housing\"}"
      ]
     },
     "execution_count": 48,
     "metadata": {},
     "output_type": "execute_result"
    }
   ],
   "source": [
    "qa_model(question = questions_family_trans[5][0]['translation_text'], context = context_tweets_all)"
   ]
  },
  {
   "cell_type": "code",
   "execution_count": 60,
   "id": "782b25c6",
   "metadata": {},
   "outputs": [
    {
     "data": {
      "text/plain": [
       "\"evant. But the reserve for future distributions in the Confederation and the Cantons. End 2019: 86 Mia frs! It's more than 20 years of distribution. The BNS wants to negotiate an additional distribution. It's time to focus on AVS + affordable housing With the ageing of the population, guaranteeing worthy pensions to current/future pensioners is essential. We commit ourselves: against the rise of the retirement age of women for the increase of AVS pensions and the sustainability of their financin\""
      ]
     },
     "execution_count": 60,
     "metadata": {},
     "output_type": "execute_result"
    }
   ],
   "source": [
    "context_tweets_all[2700:3200]"
   ]
  },
  {
   "cell_type": "code",
   "execution_count": 78,
   "id": "5e356e5f",
   "metadata": {},
   "outputs": [
    {
     "data": {
      "text/plain": [
       "'Are you in favor of public housing?'"
      ]
     },
     "execution_count": 78,
     "metadata": {},
     "output_type": "execute_result"
    }
   ],
   "source": [
    "#using simplified question\n",
    "question_family_simplified[5]"
   ]
  },
  {
   "cell_type": "code",
   "execution_count": 79,
   "id": "98e7a996",
   "metadata": {},
   "outputs": [
    {
     "data": {
      "text/plain": [
       "{'score': 0.07114294916391373,\n",
       " 'start': 4455,\n",
       " 'end': 4476,\n",
       " 'answer': 'we are not against it'}"
      ]
     },
     "execution_count": 79,
     "metadata": {},
     "output_type": "execute_result"
    }
   ],
   "source": [
    "qa_model = pipeline(\"question-answering\", model = \"srcocotero/bert-large-qa\")\n",
    "qa_model(question = question_family_simplified[5], context = context_tweets_all)"
   ]
  },
  {
   "cell_type": "code",
   "execution_count": 80,
   "id": "2f20f801",
   "metadata": {},
   "outputs": [
    {
     "data": {
      "text/plain": [
       "'leave Support for nurseries Best pensions for women With the same conviction against all types of discrimination Indecisive about tax reform and the reform of the AVS ? I am debating this evening at 6.30 p.m. (room MR070) under moderation For affordable housing, an open house or dignified pensions, what are our commitments for Geneva? Discover them here The call for public housing policies to be excluded from the scope of the framework agreement, and we are not against it, but we would like to make the voice of the tenants heard in this debate. It is time to commit ourselves to making our country the cradle of responsible multinationals, a challenge that will benefit everyone. Sign the announcement Very happy that the Geneva economic fabric is doing so well. It is now necessary that these successes benefit all and not some, you agree? Geneva The SBBs have received many free land for railway operations. Converted to housing construction, they must be allocated to affordable housing rath'"
      ]
     },
     "execution_count": 80,
     "metadata": {},
     "output_type": "execute_result"
    }
   ],
   "source": [
    "context_tweets_all[4000:5000]"
   ]
  },
  {
   "cell_type": "markdown",
   "id": "b2b5d19a",
   "metadata": {},
   "source": [
    "## Model huggingface-course/bert-finetuned-squad"
   ]
  },
  {
   "cell_type": "code",
   "execution_count": null,
   "id": "84972c23",
   "metadata": {},
   "outputs": [],
   "source": []
  },
  {
   "cell_type": "code",
   "execution_count": 553,
   "id": "168bafb9",
   "metadata": {},
   "outputs": [
    {
     "data": {
      "application/vnd.jupyter.widget-view+json": {
       "model_id": "70eed589daf748f69b7d68bbc9c712b8",
       "version_major": 2,
       "version_minor": 0
      },
      "text/plain": [
       "Downloading:   0%|          | 0.00/686 [00:00<?, ?B/s]"
      ]
     },
     "metadata": {},
     "output_type": "display_data"
    },
    {
     "data": {
      "application/vnd.jupyter.widget-view+json": {
       "model_id": "895482a01bfd4155b3c5796ddca2d647",
       "version_major": 2,
       "version_minor": 0
      },
      "text/plain": [
       "Downloading:   0%|          | 0.00/411M [00:00<?, ?B/s]"
      ]
     },
     "metadata": {},
     "output_type": "display_data"
    },
    {
     "data": {
      "application/vnd.jupyter.widget-view+json": {
       "model_id": "45d590089e18450d98aab9e160d79a5e",
       "version_major": 2,
       "version_minor": 0
      },
      "text/plain": [
       "Downloading:   0%|          | 0.00/320 [00:00<?, ?B/s]"
      ]
     },
     "metadata": {},
     "output_type": "display_data"
    },
    {
     "data": {
      "application/vnd.jupyter.widget-view+json": {
       "model_id": "77630df2543e4fdd967bbb13e57ebb3c",
       "version_major": 2,
       "version_minor": 0
      },
      "text/plain": [
       "Downloading:   0%|          | 0.00/208k [00:00<?, ?B/s]"
      ]
     },
     "metadata": {},
     "output_type": "display_data"
    },
    {
     "data": {
      "application/vnd.jupyter.widget-view+json": {
       "model_id": "fb5e073377c14952a9323db4f6302a91",
       "version_major": 2,
       "version_minor": 0
      },
      "text/plain": [
       "Downloading:   0%|          | 0.00/426k [00:00<?, ?B/s]"
      ]
     },
     "metadata": {},
     "output_type": "display_data"
    },
    {
     "data": {
      "application/vnd.jupyter.widget-view+json": {
       "model_id": "a5050944103144ffa73f17a7c4c044da",
       "version_major": 2,
       "version_minor": 0
      },
      "text/plain": [
       "Downloading:   0%|          | 0.00/112 [00:00<?, ?B/s]"
      ]
     },
     "metadata": {},
     "output_type": "display_data"
    },
    {
     "data": {
      "text/plain": [
       "{'score': 0.13527600467205048,\n",
       " 'start': 193,\n",
       " 'end': 235,\n",
       " 'answer': 'I am therefore in favor of this initiative'}"
      ]
     },
     "execution_count": 553,
     "metadata": {},
     "output_type": "execute_result"
    }
   ],
   "source": [
    "qa_model = pipeline(\"question-answering\", model = \"huggingface-course/bert-finetuned-squad\")\n",
    "qa_model(question = question_paternity_leave, context = context_difficult)"
   ]
  },
  {
   "cell_type": "markdown",
   "id": "7ab7968e",
   "metadata": {},
   "source": [
    "# Testing Question Answering # 1"
   ]
  },
  {
   "cell_type": "code",
   "execution_count": null,
   "id": "496779ba",
   "metadata": {},
   "outputs": [],
   "source": [
    "question_income_tax = "
   ]
  },
  {
   "cell_type": "code",
   "execution_count": 226,
   "id": "f3891ef7",
   "metadata": {},
   "outputs": [
    {
     "data": {
      "text/plain": [
       "'Are you in favour of raising retirement age?'"
      ]
     },
     "execution_count": 226,
     "metadata": {},
     "output_type": "execute_result"
    }
   ],
   "source": [
    "question_translated"
   ]
  },
  {
   "cell_type": "code",
   "execution_count": 227,
   "id": "3147a4f2",
   "metadata": {},
   "outputs": [
    {
     "name": "stderr",
     "output_type": "stream",
     "text": [
      "No model was supplied, defaulted to distilbert-base-cased-distilled-squad (https://huggingface.co/distilbert-base-cased-distilled-squad)\n",
      "/home/ec2-user/anaconda3/envs/amazonei_mxnet_p36/lib/python3.6/site-packages/numpy/core/_asarray.py:83: VisibleDeprecationWarning: Creating an ndarray from ragged nested sequences (which is a list-or-tuple of lists-or-tuples-or ndarrays with different lengths or shapes) is deprecated. If you meant to do this, you must specify 'dtype=object' when creating the ndarray\n",
      "  return array(a, dtype, copy=False, order=order)\n"
     ]
    },
    {
     "data": {
      "text/plain": [
       "{'score': 0.03753843903541565,\n",
       " 'start': 1819,\n",
       " 'end': 1849,\n",
       " 'answer': 'Let every activist participate'}"
      ]
     },
     "execution_count": 227,
     "metadata": {},
     "output_type": "execute_result"
    }
   ],
   "source": [
    "qa_model = pipeline(\"question-answering\")\n",
    "qa_model(question = question_translated, context = paragraph, model = \"deepset/roberta-base-squad2\")"
   ]
  },
  {
   "cell_type": "code",
   "execution_count": 142,
   "id": "10b7f1ee",
   "metadata": {},
   "outputs": [
    {
     "data": {
      "text/plain": [
       "{'score': 0.48647525906562805,\n",
       " 'start': 261,\n",
       " 'end': 325,\n",
       " 'answer': 'states voted in favour of retirement of women at 65 years of age'}"
      ]
     },
     "execution_count": 142,
     "metadata": {},
     "output_type": "execute_result"
    }
   ],
   "source": [
    "res"
   ]
  },
  {
   "cell_type": "code",
   "execution_count": null,
   "id": "aed15827",
   "metadata": {},
   "outputs": [],
   "source": []
  },
  {
   "cell_type": "code",
   "execution_count": null,
   "id": "af164d26",
   "metadata": {},
   "outputs": [],
   "source": []
  },
  {
   "cell_type": "code",
   "execution_count": null,
   "id": "5f5c8923",
   "metadata": {},
   "outputs": [],
   "source": [
    "#1. drop rows when empty\n",
    "#2. create 2 questions, and create 3 contexts, try question answering\n",
    "#--> investigate question answering\n",
    "\n",
    "\n",
    "#3. classify tweets, and add category in dataset\n",
    "# later step: match tweets category with question category to create the context for questions answering (huggingface)\n"
   ]
  },
  {
   "cell_type": "code",
   "execution_count": 115,
   "id": "9a5b22ce",
   "metadata": {},
   "outputs": [],
   "source": [
    "df_questions = pd.read_csv('./csv/carlo_questions_keywords.csv', sep=';', encoding='latin-1')"
   ]
  },
  {
   "cell_type": "code",
   "execution_count": 130,
   "id": "b09cbc0c",
   "metadata": {},
   "outputs": [
    {
     "data": {
      "text/html": [
       "<div>\n",
       "<style scoped>\n",
       "    .dataframe tbody tr th:only-of-type {\n",
       "        vertical-align: middle;\n",
       "    }\n",
       "\n",
       "    .dataframe tbody tr th {\n",
       "        vertical-align: top;\n",
       "    }\n",
       "\n",
       "    .dataframe thead th {\n",
       "        text-align: right;\n",
       "    }\n",
       "</style>\n",
       "<table border=\"1\" class=\"dataframe\">\n",
       "  <thead>\n",
       "    <tr style=\"text-align: right;\">\n",
       "      <th></th>\n",
       "      <th>question</th>\n",
       "      <th>smartvote_answers</th>\n",
       "      <th>binary_smarvote_answer</th>\n",
       "      <th>huggingface_answers</th>\n",
       "      <th>cami_answers</th>\n",
       "      <th>Topic</th>\n",
       "      <th>Keywords</th>\n",
       "      <th>Simplified question</th>\n",
       "    </tr>\n",
       "  </thead>\n",
       "  <tbody>\n",
       "    <tr>\n",
       "      <th>0</th>\n",
       "      <td>Êtes-vous favorable à une hausse de l'âge de l...</td>\n",
       "      <td>4</td>\n",
       "      <td>NaN</td>\n",
       "      <td>NaN</td>\n",
       "      <td>NaN</td>\n",
       "      <td>Family</td>\n",
       "      <td>pension; AHV; AVS</td>\n",
       "      <td>''Are you in favour of raising the retirement ...</td>\n",
       "    </tr>\n",
       "    <tr>\n",
       "      <th>1</th>\n",
       "      <td>L'État devrait-il renforcer son soutien finan...</td>\n",
       "      <td>1</td>\n",
       "      <td>NaN</td>\n",
       "      <td>NaN</td>\n",
       "      <td>NaN</td>\n",
       "      <td>Family</td>\n",
       "      <td>benefit; childcare; nursery</td>\n",
       "      <td>''Should the state support childcare? ''</td>\n",
       "    </tr>\n",
       "    <tr>\n",
       "      <th>2</th>\n",
       "      <td>Une initiative demande l'instauration d'un co...</td>\n",
       "      <td>1</td>\n",
       "      <td>NaN</td>\n",
       "      <td>NaN</td>\n",
       "      <td>NaN</td>\n",
       "      <td>Family</td>\n",
       "      <td>paternity; leave</td>\n",
       "      <td>''Are you in favour of a paternity leave?''</td>\n",
       "    </tr>\n",
       "    <tr>\n",
       "      <th>3</th>\n",
       "      <td>Les rentes de la caisse de pension doivent-el...</td>\n",
       "      <td>4</td>\n",
       "      <td>NaN</td>\n",
       "      <td>NaN</td>\n",
       "      <td>NaN</td>\n",
       "      <td>Family</td>\n",
       "      <td>pension; life expectancy</td>\n",
       "      <td>''Should the finance state pension funds?''</td>\n",
       "    </tr>\n",
       "    <tr>\n",
       "      <th>4</th>\n",
       "      <td>Soutenez-vous les efforts au niveau des canto...</td>\n",
       "      <td>4</td>\n",
       "      <td>NaN</td>\n",
       "      <td>NaN</td>\n",
       "      <td>NaN</td>\n",
       "      <td>Family</td>\n",
       "      <td>benefits; social assistance</td>\n",
       "      <td>''Are you in favor of benefits?''</td>\n",
       "    </tr>\n",
       "    <tr>\n",
       "      <th>5</th>\n",
       "      <td>La Confédération devrait-elle encourager dava...</td>\n",
       "      <td>1</td>\n",
       "      <td>NaN</td>\n",
       "      <td>NaN</td>\n",
       "      <td>NaN</td>\n",
       "      <td>Family</td>\n",
       "      <td>social housing; construction; public housing</td>\n",
       "      <td>''Are you in favor of public housing?''</td>\n",
       "    </tr>\n",
       "    <tr>\n",
       "      <th>6</th>\n",
       "      <td>Les personnes assurées devraient-elles contri...</td>\n",
       "      <td>4</td>\n",
       "      <td>NaN</td>\n",
       "      <td>NaN</td>\n",
       "      <td>NaN</td>\n",
       "      <td>Health</td>\n",
       "      <td>health cost; health care cost; premium</td>\n",
       "      <td>''Should the health insurance cost more''</td>\n",
       "    </tr>\n",
       "    <tr>\n",
       "      <th>7</th>\n",
       "      <td>Approuveriez-vous le principe du consentement...</td>\n",
       "      <td>1</td>\n",
       "      <td>NaN</td>\n",
       "      <td>NaN</td>\n",
       "      <td>NaN</td>\n",
       "      <td>Health</td>\n",
       "      <td>organ; donation</td>\n",
       "      <td>''Is organ donation good?''</td>\n",
       "    </tr>\n",
       "    <tr>\n",
       "      <th>8</th>\n",
       "      <td>Une vaccination obligatoire des enfants basée ...</td>\n",
       "      <td>1</td>\n",
       "      <td>NaN</td>\n",
       "      <td>NaN</td>\n",
       "      <td>NaN</td>\n",
       "      <td>Health</td>\n",
       "      <td>vaccine; vaccination</td>\n",
       "      <td>''Should vaccines be compulsory? ''</td>\n",
       "    </tr>\n",
       "    <tr>\n",
       "      <th>9</th>\n",
       "      <td>Une initiative demande que les subsides aux a...</td>\n",
       "      <td>1</td>\n",
       "      <td>NaN</td>\n",
       "      <td>NaN</td>\n",
       "      <td>NaN</td>\n",
       "      <td>Health</td>\n",
       "      <td>insurance; premium; subsidies</td>\n",
       "      <td>''Should health be proportional to your income?''</td>\n",
       "    </tr>\n",
       "    <tr>\n",
       "      <th>10</th>\n",
       "      <td>Une initiative souhaite donner à la Confédéra...</td>\n",
       "      <td>4</td>\n",
       "      <td>NaN</td>\n",
       "      <td>NaN</td>\n",
       "      <td>NaN</td>\n",
       "      <td>Health</td>\n",
       "      <td>cost brake; health care cost</td>\n",
       "      <td>''Should health care costs be reduced?''</td>\n",
       "    </tr>\n",
       "    <tr>\n",
       "      <th>11</th>\n",
       "      <td>LÉtat devrait-il davantage sengager pour un...</td>\n",
       "      <td>1</td>\n",
       "      <td>NaN</td>\n",
       "      <td>NaN</td>\n",
       "      <td>NaN</td>\n",
       "      <td>Education</td>\n",
       "      <td>education opportunities; subsidies; courses</td>\n",
       "      <td>''Should we care about education opportunities?''</td>\n",
       "    </tr>\n",
       "    <tr>\n",
       "      <th>12</th>\n",
       "      <td>Pensez-vous qu'il soit juste que les écoles o...</td>\n",
       "      <td>4</td>\n",
       "      <td>NaN</td>\n",
       "      <td>NaN</td>\n",
       "      <td>NaN</td>\n",
       "      <td>Education</td>\n",
       "      <td>religion; sex education</td>\n",
       "      <td>''Should schools exempts classes?''</td>\n",
       "    </tr>\n",
       "    <tr>\n",
       "      <th>13</th>\n",
       "      <td>La Confédération devrait-elle accroître son s...</td>\n",
       "      <td>1</td>\n",
       "      <td>NaN</td>\n",
       "      <td>NaN</td>\n",
       "      <td>NaN</td>\n",
       "      <td>Education</td>\n",
       "      <td>education support; reconversion</td>\n",
       "      <td>''Should education have more funding?''</td>\n",
       "    </tr>\n",
       "    <tr>\n",
       "      <th>14</th>\n",
       "      <td>Le concept de l'école intégrative prévoit que...</td>\n",
       "      <td>2</td>\n",
       "      <td>NaN</td>\n",
       "      <td>NaN</td>\n",
       "      <td>NaN</td>\n",
       "      <td>Education</td>\n",
       "      <td>learning; school; disabilities</td>\n",
       "      <td>''Do you support inclusive schools?''</td>\n",
       "    </tr>\n",
       "    <tr>\n",
       "      <th>15</th>\n",
       "      <td>Seriez-vous favorable à ce que le droit de vo...</td>\n",
       "      <td>1</td>\n",
       "      <td>NaN</td>\n",
       "      <td>NaN</td>\n",
       "      <td>NaN</td>\n",
       "      <td>Immigration</td>\n",
       "      <td>vote; resident; communal elections</td>\n",
       "      <td>'Should foreigners vote?''</td>\n",
       "    </tr>\n",
       "    <tr>\n",
       "      <th>16</th>\n",
       "      <td>La limitation de l'immigration a-t-elle pour ...</td>\n",
       "      <td>4</td>\n",
       "      <td>NaN</td>\n",
       "      <td>NaN</td>\n",
       "      <td>NaN</td>\n",
       "      <td>Immigration</td>\n",
       "      <td>bilateral; EU; immigration</td>\n",
       "      <td>''Should we limit immigration from EU?''</td>\n",
       "    </tr>\n",
       "    <tr>\n",
       "      <th>17</th>\n",
       "      <td>Les personnes sans-papiers devraient-elles po...</td>\n",
       "      <td>1</td>\n",
       "      <td>NaN</td>\n",
       "      <td>NaN</td>\n",
       "      <td>NaN</td>\n",
       "      <td>Immigration</td>\n",
       "      <td>undocumented; residence; migrants</td>\n",
       "      <td>''Should undocumented migrants receive a statu...</td>\n",
       "    </tr>\n",
       "    <tr>\n",
       "      <th>18</th>\n",
       "      <td>Êtes-vous en faveur d'un durcissement supplém...</td>\n",
       "      <td>4</td>\n",
       "      <td>NaN</td>\n",
       "      <td>NaN</td>\n",
       "      <td>NaN</td>\n",
       "      <td>Immigration</td>\n",
       "      <td>asylum</td>\n",
       "      <td>''Are you in favor of asylum?''</td>\n",
       "    </tr>\n",
       "    <tr>\n",
       "      <th>19</th>\n",
       "      <td>Les conditions de naturalisation devraient-el...</td>\n",
       "      <td>4</td>\n",
       "      <td>NaN</td>\n",
       "      <td>NaN</td>\n",
       "      <td>NaN</td>\n",
       "      <td>Immigration</td>\n",
       "      <td>naturalisation</td>\n",
       "      <td>''Should the conditions for naturaliation be i...</td>\n",
       "    </tr>\n",
       "    <tr>\n",
       "      <th>20</th>\n",
       "      <td>La Confédération devrait-elle soutenir davant...</td>\n",
       "      <td>1</td>\n",
       "      <td>NaN</td>\n",
       "      <td>NaN</td>\n",
       "      <td>NaN</td>\n",
       "      <td>Immigration</td>\n",
       "      <td>integration</td>\n",
       "      <td>\"Should we support foreigner integration?\"</td>\n",
       "    </tr>\n",
       "    <tr>\n",
       "      <th>21</th>\n",
       "      <td>La consommation de cannabis devrait-elle être...</td>\n",
       "      <td>1</td>\n",
       "      <td>NaN</td>\n",
       "      <td>NaN</td>\n",
       "      <td>NaN</td>\n",
       "      <td>Society</td>\n",
       "      <td>cannabis</td>\n",
       "      <td>\"Should cannabis be legal?\"</td>\n",
       "    </tr>\n",
       "    <tr>\n",
       "      <th>22</th>\n",
       "      <td>Les couples de même sexe devraient-ils avoir ...</td>\n",
       "      <td>1</td>\n",
       "      <td>NaN</td>\n",
       "      <td>NaN</td>\n",
       "      <td>NaN</td>\n",
       "      <td>Society</td>\n",
       "      <td>homosexual; gay</td>\n",
       "      <td>\"Do we believe in homosexuality equality?\"</td>\n",
       "    </tr>\n",
       "    <tr>\n",
       "      <th>23</th>\n",
       "      <td>La réglementation de la procréation médicaleme...</td>\n",
       "      <td>1</td>\n",
       "      <td>NaN</td>\n",
       "      <td>NaN</td>\n",
       "      <td>NaN</td>\n",
       "      <td>Society</td>\n",
       "      <td>reproducation</td>\n",
       "      <td>' Should the regulation of assisted reproducti...</td>\n",
       "    </tr>\n",
       "    <tr>\n",
       "      <th>24</th>\n",
       "      <td>Êtes-vous en faveur d'un contrôle plus strict...</td>\n",
       "      <td>1</td>\n",
       "      <td>NaN</td>\n",
       "      <td>NaN</td>\n",
       "      <td>NaN</td>\n",
       "      <td>Society</td>\n",
       "      <td>equal; salaries</td>\n",
       "      <td>\"Do you support stricter control of equal pay ...</td>\n",
       "    </tr>\n",
       "    <tr>\n",
       "      <th>25</th>\n",
       "      <td>Seriez-vous favorable à ce qu'un médecin soit...</td>\n",
       "      <td>1</td>\n",
       "      <td>NaN</td>\n",
       "      <td>NaN</td>\n",
       "      <td>NaN</td>\n",
       "      <td>Society</td>\n",
       "      <td>doctor; euthanasia</td>\n",
       "      <td>\"Should euthanasia be legal?\"</td>\n",
       "    </tr>\n",
       "    <tr>\n",
       "      <th>26</th>\n",
       "      <td>Selon vous la baisse des impôts au niveau fédé...</td>\n",
       "      <td>4</td>\n",
       "      <td>NaN</td>\n",
       "      <td>NaN</td>\n",
       "      <td>NaN</td>\n",
       "      <td>Finances</td>\n",
       "      <td>taxes</td>\n",
       "      <td>\"Should we lower taxes?\"</td>\n",
       "    </tr>\n",
       "    <tr>\n",
       "      <th>27</th>\n",
       "      <td>Êtes-vous en faveur d'une nouvelle réduction ...</td>\n",
       "      <td>3</td>\n",
       "      <td>NaN</td>\n",
       "      <td>NaN</td>\n",
       "      <td>NaN</td>\n",
       "      <td>Finances</td>\n",
       "      <td>financial equalisation</td>\n",
       "      <td>\"Should cantons support each other?\"</td>\n",
       "    </tr>\n",
       "    <tr>\n",
       "      <th>28</th>\n",
       "      <td>Les couples mariés devraient-ils être imposés...</td>\n",
       "      <td>1</td>\n",
       "      <td>NaN</td>\n",
       "      <td>NaN</td>\n",
       "      <td>NaN</td>\n",
       "      <td>Finances</td>\n",
       "      <td>individual taxation; married</td>\n",
       "      <td>\"Do you believe in individual taxation?\"</td>\n",
       "    </tr>\n",
       "    <tr>\n",
       "      <th>29</th>\n",
       "      <td>Êtes-vous en faveur d'une restriction de la c...</td>\n",
       "      <td>1</td>\n",
       "      <td>NaN</td>\n",
       "      <td>NaN</td>\n",
       "      <td>NaN</td>\n",
       "      <td>Finances</td>\n",
       "      <td>company taxation</td>\n",
       "      <td>\"Are you in favor of restricting competition b...</td>\n",
       "    </tr>\n",
       "    <tr>\n",
       "      <th>30</th>\n",
       "      <td>Les ménages privés devraient-ils pouvoir choi...</td>\n",
       "      <td>4</td>\n",
       "      <td>NaN</td>\n",
       "      <td>NaN</td>\n",
       "      <td>NaN</td>\n",
       "      <td>Economy</td>\n",
       "      <td>electricity</td>\n",
       "      <td>\"Should we be a able to choose their electrici...</td>\n",
       "    </tr>\n",
       "    <tr>\n",
       "      <th>31</th>\n",
       "      <td>Êtes-vous favorable à l'introduction d'un sal...</td>\n",
       "      <td>1</td>\n",
       "      <td>NaN</td>\n",
       "      <td>NaN</td>\n",
       "      <td>NaN</td>\n",
       "      <td>Economy</td>\n",
       "      <td>wage</td>\n",
       "      <td>\"Are you in favor of a minimum wage?\"</td>\n",
       "    </tr>\n",
       "    <tr>\n",
       "      <th>32</th>\n",
       "      <td>Les entreprises suisses devraient-elles être ...</td>\n",
       "      <td>2</td>\n",
       "      <td>NaN</td>\n",
       "      <td>NaN</td>\n",
       "      <td>NaN</td>\n",
       "      <td>Economy</td>\n",
       "      <td>FDI; investement controls; takeovers</td>\n",
       "      <td>\"Should we protect Swiss companies from foreig...</td>\n",
       "    </tr>\n",
       "    <tr>\n",
       "      <th>33</th>\n",
       "      <td>Seriez-vous favorable à une libéralisation co...</td>\n",
       "      <td>4</td>\n",
       "      <td>NaN</td>\n",
       "      <td>NaN</td>\n",
       "      <td>NaN</td>\n",
       "      <td>Economy</td>\n",
       "      <td>opening hours; shops</td>\n",
       "      <td>\"Should stores choose their opening hours?\"</td>\n",
       "    </tr>\n",
       "    <tr>\n",
       "      <th>34</th>\n",
       "      <td>Faut-il renforcer la protection contre le lic...</td>\n",
       "      <td>1</td>\n",
       "      <td>NaN</td>\n",
       "      <td>NaN</td>\n",
       "      <td>NaN</td>\n",
       "      <td>Economy</td>\n",
       "      <td>dismissal; workers</td>\n",
       "      <td>\"Should the protection against dismissal of ol...</td>\n",
       "    </tr>\n",
       "    <tr>\n",
       "      <th>35</th>\n",
       "      <td>La Confédération devrait-elle davantage souten...</td>\n",
       "      <td>1</td>\n",
       "      <td>NaN</td>\n",
       "      <td>NaN</td>\n",
       "      <td>NaN</td>\n",
       "      <td>Economy</td>\n",
       "      <td>public services; post office</td>\n",
       "      <td>\"Should we support public services in rural ar...</td>\n",
       "    </tr>\n",
       "    <tr>\n",
       "      <th>36</th>\n",
       "      <td>L'expansion du réseau mobile selon la norme 5...</td>\n",
       "      <td>3</td>\n",
       "      <td>NaN</td>\n",
       "      <td>NaN</td>\n",
       "      <td>NaN</td>\n",
       "      <td>Digitalisation</td>\n",
       "      <td>5G</td>\n",
       "      <td>\"Should we expand our 5G network?\"</td>\n",
       "    </tr>\n",
       "    <tr>\n",
       "      <th>37</th>\n",
       "      <td>Les plateformes de services en ligne (p. ex. ...</td>\n",
       "      <td>1</td>\n",
       "      <td>NaN</td>\n",
       "      <td>NaN</td>\n",
       "      <td>NaN</td>\n",
       "      <td>Digitalisation</td>\n",
       "      <td>Uber; Airbnb; online</td>\n",
       "      <td>\"Should we regulate online platforms?\"</td>\n",
       "    </tr>\n",
       "    <tr>\n",
       "      <th>38</th>\n",
       "      <td>Une initiative demande que la Suisse cesse d'...</td>\n",
       "      <td>1</td>\n",
       "      <td>NaN</td>\n",
       "      <td>NaN</td>\n",
       "      <td>NaN</td>\n",
       "      <td>Energy</td>\n",
       "      <td>fossil; 2050; fuel</td>\n",
       "      <td>\"Do you want to stop using fossil fuels?''</td>\n",
       "    </tr>\n",
       "    <tr>\n",
       "      <th>39</th>\n",
       "      <td>Actuellement une taxe CO2 est prélevée sur les...</td>\n",
       "      <td>1</td>\n",
       "      <td>NaN</td>\n",
       "      <td>NaN</td>\n",
       "      <td>NaN</td>\n",
       "      <td>Energy</td>\n",
       "      <td>C02; natural gas</td>\n",
       "      <td>\"Should fuel be taxed?\"</td>\n",
       "    </tr>\n",
       "    <tr>\n",
       "      <th>40</th>\n",
       "      <td>La Confédération devrait-elle soutenir davant...</td>\n",
       "      <td>1</td>\n",
       "      <td>NaN</td>\n",
       "      <td>NaN</td>\n",
       "      <td>NaN</td>\n",
       "      <td>Energy</td>\n",
       "      <td>renewable; energy</td>\n",
       "      <td>\"Should we support renewable energies?\"</td>\n",
       "    </tr>\n",
       "    <tr>\n",
       "      <th>41</th>\n",
       "      <td>Les tronçons autoroutiers à forte fréquentati...</td>\n",
       "      <td>4</td>\n",
       "      <td>NaN</td>\n",
       "      <td>NaN</td>\n",
       "      <td>NaN</td>\n",
       "      <td>Energy</td>\n",
       "      <td>motorway; lanes</td>\n",
       "      <td>\"Should high-traffic highway sections be exten...</td>\n",
       "    </tr>\n",
       "    <tr>\n",
       "      <th>42</th>\n",
       "      <td>Êtes-vous favorable à l'introduction de péage...</td>\n",
       "      <td>4</td>\n",
       "      <td>NaN</td>\n",
       "      <td>NaN</td>\n",
       "      <td>NaN</td>\n",
       "      <td>Energy</td>\n",
       "      <td>road pricing</td>\n",
       "      <td>\"Do you support the introduction of road prici...</td>\n",
       "    </tr>\n",
       "    <tr>\n",
       "      <th>43</th>\n",
       "      <td>Êtes-vous favorable à un assouplissement des m...</td>\n",
       "      <td>4</td>\n",
       "      <td>NaN</td>\n",
       "      <td>NaN</td>\n",
       "      <td>NaN</td>\n",
       "      <td>Ecology</td>\n",
       "      <td>predators; lynx; wolf; bears</td>\n",
       "      <td>\"'Are you in favor of relaxing the current pro...</td>\n",
       "    </tr>\n",
       "    <tr>\n",
       "      <th>44</th>\n",
       "      <td>Le moratoire actuel sur les plantes et les an...</td>\n",
       "      <td>1</td>\n",
       "      <td>NaN</td>\n",
       "      <td>NaN</td>\n",
       "      <td>NaN</td>\n",
       "      <td>Ecology</td>\n",
       "      <td>plants; genetically modified</td>\n",
       "      <td>'Should the current moratorium on genetically ...</td>\n",
       "    </tr>\n",
       "    <tr>\n",
       "      <th>45</th>\n",
       "      <td>Les paiements directs devraient-ils être accor...</td>\n",
       "      <td>1</td>\n",
       "      <td>NaN</td>\n",
       "      <td>NaN</td>\n",
       "      <td>NaN</td>\n",
       "      <td>Ecology</td>\n",
       "      <td>ecological; farms; pesticides</td>\n",
       "      <td>'Should direct payments only be granted to far...</td>\n",
       "    </tr>\n",
       "    <tr>\n",
       "      <th>46</th>\n",
       "      <td>Faut-il étendre les mesures de protection de ...</td>\n",
       "      <td>1</td>\n",
       "      <td>NaN</td>\n",
       "      <td>NaN</td>\n",
       "      <td>NaN</td>\n",
       "      <td>Ecology</td>\n",
       "      <td>biodiversity</td>\n",
       "      <td>\"Should biodiversity protection measures be ex...</td>\n",
       "    </tr>\n",
       "    <tr>\n",
       "      <th>47</th>\n",
       "      <td>Êtes-vous en faveur de réglementations plus st...</td>\n",
       "      <td>1</td>\n",
       "      <td>NaN</td>\n",
       "      <td>NaN</td>\n",
       "      <td>NaN</td>\n",
       "      <td>Ecology</td>\n",
       "      <td>animal protection; livestock</td>\n",
       "      <td>\"Do you support stricter animal protection reg...</td>\n",
       "    </tr>\n",
       "    <tr>\n",
       "      <th>48</th>\n",
       "      <td>Le financement des partis ainsi que celui des...</td>\n",
       "      <td>1</td>\n",
       "      <td>NaN</td>\n",
       "      <td>NaN</td>\n",
       "      <td>NaN</td>\n",
       "      <td>Politics</td>\n",
       "      <td>campaign funding; transparency;</td>\n",
       "      <td>\" Should campaign financing be transparent? ''</td>\n",
       "    </tr>\n",
       "    <tr>\n",
       "      <th>49</th>\n",
       "      <td>L'introduction du vote électronique lors des ...</td>\n",
       "      <td>1</td>\n",
       "      <td>NaN</td>\n",
       "      <td>NaN</td>\n",
       "      <td>NaN</td>\n",
       "      <td>Politics</td>\n",
       "      <td>e-voting; votes</td>\n",
       "      <td>\"Do you support e-voting?\"</td>\n",
       "    </tr>\n",
       "    <tr>\n",
       "      <th>50</th>\n",
       "      <td>Êtes-vous en faveur de l'abaissement de l'âge...</td>\n",
       "      <td>3</td>\n",
       "      <td>NaN</td>\n",
       "      <td>NaN</td>\n",
       "      <td>NaN</td>\n",
       "      <td>Politics</td>\n",
       "      <td>voting age; 16</td>\n",
       "      <td>\"Should voting at 16 be allowed\"</td>\n",
       "    </tr>\n",
       "    <tr>\n",
       "      <th>51</th>\n",
       "      <td>La Suisse devrait-elle mettre fin à l'accord ...</td>\n",
       "      <td>4</td>\n",
       "      <td>NaN</td>\n",
       "      <td>NaN</td>\n",
       "      <td>NaN</td>\n",
       "      <td>Security</td>\n",
       "      <td>border control; schengen</td>\n",
       "      <td>\"Should Switzerland end Shengen?\"</td>\n",
       "    </tr>\n",
       "    <tr>\n",
       "      <th>52</th>\n",
       "      <td>Faut-il renoncer au durcissement des conditio...</td>\n",
       "      <td>1</td>\n",
       "      <td>NaN</td>\n",
       "      <td>NaN</td>\n",
       "      <td>NaN</td>\n",
       "      <td>Security</td>\n",
       "      <td>civil service</td>\n",
       "      <td>'Should the Federal Council's proposed tighten...</td>\n",
       "    </tr>\n",
       "    <tr>\n",
       "      <th>53</th>\n",
       "      <td>Faut-il interdire l'exportation de matériel d...</td>\n",
       "      <td>1</td>\n",
       "      <td>NaN</td>\n",
       "      <td>NaN</td>\n",
       "      <td>NaN</td>\n",
       "      <td>Security</td>\n",
       "      <td>war material; weapons</td>\n",
       "      <td>\"Should we export war material?\"</td>\n",
       "    </tr>\n",
       "    <tr>\n",
       "      <th>54</th>\n",
       "      <td>Êtes-vous favorable à l'acquisition de nouvea...</td>\n",
       "      <td>4</td>\n",
       "      <td>NaN</td>\n",
       "      <td>NaN</td>\n",
       "      <td>NaN</td>\n",
       "      <td>Security</td>\n",
       "      <td>aircraft; swiss army</td>\n",
       "      <td>\"Are you in favor of acquiring new fighter air...</td>\n",
       "    </tr>\n",
       "    <tr>\n",
       "      <th>55</th>\n",
       "      <td>Selon vous les moyens légaux permettant de rec...</td>\n",
       "      <td>2</td>\n",
       "      <td>NaN</td>\n",
       "      <td>NaN</td>\n",
       "      <td>NaN</td>\n",
       "      <td>Security</td>\n",
       "      <td>dann</td>\n",
       "      <td>\"Should we do more DNA analysis?\"</td>\n",
       "    </tr>\n",
       "    <tr>\n",
       "      <th>56</th>\n",
       "      <td>La Suisse doit-elle entamer des négociations ...</td>\n",
       "      <td>4</td>\n",
       "      <td>NaN</td>\n",
       "      <td>NaN</td>\n",
       "      <td>NaN</td>\n",
       "      <td>External Relations</td>\n",
       "      <td>EU negotiations</td>\n",
       "      <td>\"Should Switzerland enter the European Union?\"</td>\n",
       "    </tr>\n",
       "    <tr>\n",
       "      <th>57</th>\n",
       "      <td>La Suisse devrait-elle conclure un accord de ...</td>\n",
       "      <td>1</td>\n",
       "      <td>NaN</td>\n",
       "      <td>NaN</td>\n",
       "      <td>NaN</td>\n",
       "      <td>External Relations</td>\n",
       "      <td>trade; USA</td>\n",
       "      <td>\"Should Switzerlad have a free trade agreement...</td>\n",
       "    </tr>\n",
       "    <tr>\n",
       "      <th>58</th>\n",
       "      <td>Une initiative demande que les règles de resp...</td>\n",
       "      <td>1</td>\n",
       "      <td>NaN</td>\n",
       "      <td>NaN</td>\n",
       "      <td>NaN</td>\n",
       "      <td>External Relations</td>\n",
       "      <td>human rights; environment</td>\n",
       "      <td>\"Should Swiss companies have human rights and ...</td>\n",
       "    </tr>\n",
       "    <tr>\n",
       "      <th>59</th>\n",
       "      <td>Êtes-vous en faveur de la candidature de la S...</td>\n",
       "      <td>1</td>\n",
       "      <td>NaN</td>\n",
       "      <td>NaN</td>\n",
       "      <td>NaN</td>\n",
       "      <td>External Relations</td>\n",
       "      <td>security council</td>\n",
       "      <td>\"Should Switzerland have a seat in the UN Secu...</td>\n",
       "    </tr>\n",
       "  </tbody>\n",
       "</table>\n",
       "</div>"
      ],
      "text/plain": [
       "                                             question  smartvote_answers  \\\n",
       "0   Êtes-vous favorable à une hausse de l'âge de l...                  4   \n",
       "1    L'État devrait-il renforcer son soutien finan...                  1   \n",
       "2    Une initiative demande l'instauration d'un co...                  1   \n",
       "3    Les rentes de la caisse de pension doivent-el...                  4   \n",
       "4    Soutenez-vous les efforts au niveau des canto...                  4   \n",
       "5    La Confédération devrait-elle encourager dava...                  1   \n",
       "6    Les personnes assurées devraient-elles contri...                  4   \n",
       "7    Approuveriez-vous le principe du consentement...                  1   \n",
       "8   Une vaccination obligatoire des enfants basée ...                  1   \n",
       "9    Une initiative demande que les subsides aux a...                  1   \n",
       "10   Une initiative souhaite donner à la Confédéra...                  4   \n",
       "11   LÉtat devrait-il davantage sengager pour un...                  1   \n",
       "12   Pensez-vous qu'il soit juste que les écoles o...                  4   \n",
       "13   La Confédération devrait-elle accroître son s...                  1   \n",
       "14   Le concept de l'école intégrative prévoit que...                  2   \n",
       "15   Seriez-vous favorable à ce que le droit de vo...                  1   \n",
       "16   La limitation de l'immigration a-t-elle pour ...                  4   \n",
       "17   Les personnes sans-papiers devraient-elles po...                  1   \n",
       "18   Êtes-vous en faveur d'un durcissement supplém...                  4   \n",
       "19   Les conditions de naturalisation devraient-el...                  4   \n",
       "20   La Confédération devrait-elle soutenir davant...                  1   \n",
       "21   La consommation de cannabis devrait-elle être...                  1   \n",
       "22   Les couples de même sexe devraient-ils avoir ...                  1   \n",
       "23  La réglementation de la procréation médicaleme...                  1   \n",
       "24   Êtes-vous en faveur d'un contrôle plus strict...                  1   \n",
       "25   Seriez-vous favorable à ce qu'un médecin soit...                  1   \n",
       "26  Selon vous la baisse des impôts au niveau fédé...                  4   \n",
       "27   Êtes-vous en faveur d'une nouvelle réduction ...                  3   \n",
       "28   Les couples mariés devraient-ils être imposés...                  1   \n",
       "29   Êtes-vous en faveur d'une restriction de la c...                  1   \n",
       "30   Les ménages privés devraient-ils pouvoir choi...                  4   \n",
       "31   Êtes-vous favorable à l'introduction d'un sal...                  1   \n",
       "32   Les entreprises suisses devraient-elles être ...                  2   \n",
       "33   Seriez-vous favorable à une libéralisation co...                  4   \n",
       "34   Faut-il renforcer la protection contre le lic...                  1   \n",
       "35  La Confédération devrait-elle davantage souten...                  1   \n",
       "36   L'expansion du réseau mobile selon la norme 5...                  3   \n",
       "37   Les plateformes de services en ligne (p. ex. ...                  1   \n",
       "38   Une initiative demande que la Suisse cesse d'...                  1   \n",
       "39  Actuellement une taxe CO2 est prélevée sur les...                  1   \n",
       "40   La Confédération devrait-elle soutenir davant...                  1   \n",
       "41   Les tronçons autoroutiers à forte fréquentati...                  4   \n",
       "42   Êtes-vous favorable à l'introduction de péage...                  4   \n",
       "43  Êtes-vous favorable à un assouplissement des m...                  4   \n",
       "44   Le moratoire actuel sur les plantes et les an...                  1   \n",
       "45  Les paiements directs devraient-ils être accor...                  1   \n",
       "46   Faut-il étendre les mesures de protection de ...                  1   \n",
       "47  Êtes-vous en faveur de réglementations plus st...                  1   \n",
       "48   Le financement des partis ainsi que celui des...                  1   \n",
       "49   L'introduction du vote électronique lors des ...                  1   \n",
       "50   Êtes-vous en faveur de l'abaissement de l'âge...                  3   \n",
       "51   La Suisse devrait-elle mettre fin à l'accord ...                  4   \n",
       "52   Faut-il renoncer au durcissement des conditio...                  1   \n",
       "53   Faut-il interdire l'exportation de matériel d...                  1   \n",
       "54   Êtes-vous favorable à l'acquisition de nouvea...                  4   \n",
       "55  Selon vous les moyens légaux permettant de rec...                  2   \n",
       "56   La Suisse doit-elle entamer des négociations ...                  4   \n",
       "57   La Suisse devrait-elle conclure un accord de ...                  1   \n",
       "58   Une initiative demande que les règles de resp...                  1   \n",
       "59   Êtes-vous en faveur de la candidature de la S...                  1   \n",
       "\n",
       "    binary_smarvote_answer  huggingface_answers  cami_answers  \\\n",
       "0                      NaN                  NaN           NaN   \n",
       "1                      NaN                  NaN           NaN   \n",
       "2                      NaN                  NaN           NaN   \n",
       "3                      NaN                  NaN           NaN   \n",
       "4                      NaN                  NaN           NaN   \n",
       "5                      NaN                  NaN           NaN   \n",
       "6                      NaN                  NaN           NaN   \n",
       "7                      NaN                  NaN           NaN   \n",
       "8                      NaN                  NaN           NaN   \n",
       "9                      NaN                  NaN           NaN   \n",
       "10                     NaN                  NaN           NaN   \n",
       "11                     NaN                  NaN           NaN   \n",
       "12                     NaN                  NaN           NaN   \n",
       "13                     NaN                  NaN           NaN   \n",
       "14                     NaN                  NaN           NaN   \n",
       "15                     NaN                  NaN           NaN   \n",
       "16                     NaN                  NaN           NaN   \n",
       "17                     NaN                  NaN           NaN   \n",
       "18                     NaN                  NaN           NaN   \n",
       "19                     NaN                  NaN           NaN   \n",
       "20                     NaN                  NaN           NaN   \n",
       "21                     NaN                  NaN           NaN   \n",
       "22                     NaN                  NaN           NaN   \n",
       "23                     NaN                  NaN           NaN   \n",
       "24                     NaN                  NaN           NaN   \n",
       "25                     NaN                  NaN           NaN   \n",
       "26                     NaN                  NaN           NaN   \n",
       "27                     NaN                  NaN           NaN   \n",
       "28                     NaN                  NaN           NaN   \n",
       "29                     NaN                  NaN           NaN   \n",
       "30                     NaN                  NaN           NaN   \n",
       "31                     NaN                  NaN           NaN   \n",
       "32                     NaN                  NaN           NaN   \n",
       "33                     NaN                  NaN           NaN   \n",
       "34                     NaN                  NaN           NaN   \n",
       "35                     NaN                  NaN           NaN   \n",
       "36                     NaN                  NaN           NaN   \n",
       "37                     NaN                  NaN           NaN   \n",
       "38                     NaN                  NaN           NaN   \n",
       "39                     NaN                  NaN           NaN   \n",
       "40                     NaN                  NaN           NaN   \n",
       "41                     NaN                  NaN           NaN   \n",
       "42                     NaN                  NaN           NaN   \n",
       "43                     NaN                  NaN           NaN   \n",
       "44                     NaN                  NaN           NaN   \n",
       "45                     NaN                  NaN           NaN   \n",
       "46                     NaN                  NaN           NaN   \n",
       "47                     NaN                  NaN           NaN   \n",
       "48                     NaN                  NaN           NaN   \n",
       "49                     NaN                  NaN           NaN   \n",
       "50                     NaN                  NaN           NaN   \n",
       "51                     NaN                  NaN           NaN   \n",
       "52                     NaN                  NaN           NaN   \n",
       "53                     NaN                  NaN           NaN   \n",
       "54                     NaN                  NaN           NaN   \n",
       "55                     NaN                  NaN           NaN   \n",
       "56                     NaN                  NaN           NaN   \n",
       "57                     NaN                  NaN           NaN   \n",
       "58                     NaN                  NaN           NaN   \n",
       "59                     NaN                  NaN           NaN   \n",
       "\n",
       "                 Topic                                      Keywords  \\\n",
       "0               Family                             pension; AHV; AVS   \n",
       "1               Family                   benefit; childcare; nursery   \n",
       "2               Family                             paternity; leave    \n",
       "3               Family                      pension; life expectancy   \n",
       "4               Family                   benefits; social assistance   \n",
       "5               Family  social housing; construction; public housing   \n",
       "6               Health        health cost; health care cost; premium   \n",
       "7               Health                               organ; donation   \n",
       "8               Health                          vaccine; vaccination   \n",
       "9               Health                 insurance; premium; subsidies   \n",
       "10              Health                  cost brake; health care cost   \n",
       "11           Education   education opportunities; subsidies; courses   \n",
       "12           Education                       religion; sex education   \n",
       "13           Education               education support; reconversion   \n",
       "14           Education                learning; school; disabilities   \n",
       "15         Immigration            vote; resident; communal elections   \n",
       "16         Immigration                    bilateral; EU; immigration   \n",
       "17         Immigration             undocumented; residence; migrants   \n",
       "18         Immigration                                        asylum   \n",
       "19         Immigration                                naturalisation   \n",
       "20         Immigration                                   integration   \n",
       "21             Society                                      cannabis   \n",
       "22             Society                               homosexual; gay   \n",
       "23             Society                                 reproducation   \n",
       "24             Society                               equal; salaries   \n",
       "25             Society                           doctor; euthanasia    \n",
       "26            Finances                                         taxes   \n",
       "27            Finances                       financial equalisation    \n",
       "28            Finances                  individual taxation; married   \n",
       "29            Finances                              company taxation   \n",
       "30             Economy                                   electricity   \n",
       "31             Economy                                          wage   \n",
       "32             Economy          FDI; investement controls; takeovers   \n",
       "33             Economy                          opening hours; shops   \n",
       "34             Economy                            dismissal; workers   \n",
       "35             Economy                  public services; post office   \n",
       "36      Digitalisation                                            5G   \n",
       "37      Digitalisation                          Uber; Airbnb; online   \n",
       "38              Energy                            fossil; 2050; fuel   \n",
       "39              Energy                              C02; natural gas   \n",
       "40              Energy                             renewable; energy   \n",
       "41              Energy                               motorway; lanes   \n",
       "42              Energy                                  road pricing   \n",
       "43             Ecology                  predators; lynx; wolf; bears   \n",
       "44             Ecology                 plants; genetically modified    \n",
       "45             Ecology                 ecological; farms; pesticides   \n",
       "46             Ecology                                  biodiversity   \n",
       "47             Ecology                  animal protection; livestock   \n",
       "48            Politics               campaign funding; transparency;   \n",
       "49            Politics                               e-voting; votes   \n",
       "50            Politics                                voting age; 16   \n",
       "51            Security                      border control; schengen   \n",
       "52            Security                                 civil service   \n",
       "53            Security                         war material; weapons   \n",
       "54            Security                          aircraft; swiss army   \n",
       "55            Security                                          dann   \n",
       "56  External Relations                               EU negotiations   \n",
       "57  External Relations                                   trade; USA    \n",
       "58  External Relations                     human rights; environment   \n",
       "59  External Relations                              security council   \n",
       "\n",
       "                                  Simplified question  \n",
       "0   ''Are you in favour of raising the retirement ...  \n",
       "1            ''Should the state support childcare? ''  \n",
       "2         ''Are you in favour of a paternity leave?''  \n",
       "3         ''Should the finance state pension funds?''  \n",
       "4                   ''Are you in favor of benefits?''  \n",
       "5             ''Are you in favor of public housing?''  \n",
       "6           ''Should the health insurance cost more''  \n",
       "7                         ''Is organ donation good?''  \n",
       "8                 ''Should vaccines be compulsory? ''  \n",
       "9   ''Should health be proportional to your income?''  \n",
       "10           ''Should health care costs be reduced?''  \n",
       "11  ''Should we care about education opportunities?''  \n",
       "12                ''Should schools exempts classes?''  \n",
       "13            ''Should education have more funding?''  \n",
       "14              ''Do you support inclusive schools?''  \n",
       "15                         'Should foreigners vote?''  \n",
       "16           ''Should we limit immigration from EU?''  \n",
       "17  ''Should undocumented migrants receive a statu...  \n",
       "18                    ''Are you in favor of asylum?''  \n",
       "19  ''Should the conditions for naturaliation be i...  \n",
       "20         \"Should we support foreigner integration?\"  \n",
       "21                        \"Should cannabis be legal?\"  \n",
       "22         \"Do we believe in homosexuality equality?\"  \n",
       "23  ' Should the regulation of assisted reproducti...  \n",
       "24  \"Do you support stricter control of equal pay ...  \n",
       "25                      \"Should euthanasia be legal?\"  \n",
       "26                           \"Should we lower taxes?\"  \n",
       "27               \"Should cantons support each other?\"  \n",
       "28           \"Do you believe in individual taxation?\"  \n",
       "29  \"Are you in favor of restricting competition b...  \n",
       "30  \"Should we be a able to choose their electrici...  \n",
       "31              \"Are you in favor of a minimum wage?\"  \n",
       "32  \"Should we protect Swiss companies from foreig...  \n",
       "33        \"Should stores choose their opening hours?\"  \n",
       "34  \"Should the protection against dismissal of ol...  \n",
       "35  \"Should we support public services in rural ar...  \n",
       "36                 \"Should we expand our 5G network?\"  \n",
       "37             \"Should we regulate online platforms?\"  \n",
       "38         \"Do you want to stop using fossil fuels?''  \n",
       "39                            \"Should fuel be taxed?\"  \n",
       "40            \"Should we support renewable energies?\"  \n",
       "41  \"Should high-traffic highway sections be exten...  \n",
       "42  \"Do you support the introduction of road prici...  \n",
       "43  \"'Are you in favor of relaxing the current pro...  \n",
       "44  'Should the current moratorium on genetically ...  \n",
       "45  'Should direct payments only be granted to far...  \n",
       "46  \"Should biodiversity protection measures be ex...  \n",
       "47  \"Do you support stricter animal protection reg...  \n",
       "48     \" Should campaign financing be transparent? ''  \n",
       "49                         \"Do you support e-voting?\"  \n",
       "50                   \"Should voting at 16 be allowed\"  \n",
       "51                  \"Should Switzerland end Shengen?\"  \n",
       "52  'Should the Federal Council's proposed tighten...  \n",
       "53                   \"Should we export war material?\"  \n",
       "54  \"Are you in favor of acquiring new fighter air...  \n",
       "55                  \"Should we do more DNA analysis?\"  \n",
       "56     \"Should Switzerland enter the European Union?\"  \n",
       "57  \"Should Switzerlad have a free trade agreement...  \n",
       "58  \"Should Swiss companies have human rights and ...  \n",
       "59  \"Should Switzerland have a seat in the UN Secu...  "
      ]
     },
     "execution_count": 130,
     "metadata": {},
     "output_type": "execute_result"
    }
   ],
   "source": [
    "df_questions"
   ]
  },
  {
   "cell_type": "code",
   "execution_count": null,
   "id": "5c13cbd5",
   "metadata": {},
   "outputs": [],
   "source": [
    "#remove numeration\n",
    "#if loop for binary answers\n",
    "#run huggingface answers\n"
   ]
  },
  {
   "cell_type": "code",
   "execution_count": 125,
   "id": "88fb62cb",
   "metadata": {},
   "outputs": [],
   "source": [
    "df_questions[\"question\"] = df_questions['question'].str[4:]\n",
    "#guillemet"
   ]
  },
  {
   "cell_type": "code",
   "execution_count": 149,
   "id": "1d325b56",
   "metadata": {},
   "outputs": [],
   "source": [
    "df_questions.loc[df_questions['smartvote_answers'] >= 3, 'binary_smarvote_answer'] = 0"
   ]
  },
  {
   "cell_type": "code",
   "execution_count": 150,
   "id": "d0efa804",
   "metadata": {},
   "outputs": [],
   "source": [
    "df_questions.loc[df_questions['smartvote_answers'] <= 2, 'binary_smarvote_answer'] = 1"
   ]
  },
  {
   "cell_type": "code",
   "execution_count": 151,
   "id": "49295997",
   "metadata": {},
   "outputs": [
    {
     "data": {
      "text/html": [
       "<div>\n",
       "<style scoped>\n",
       "    .dataframe tbody tr th:only-of-type {\n",
       "        vertical-align: middle;\n",
       "    }\n",
       "\n",
       "    .dataframe tbody tr th {\n",
       "        vertical-align: top;\n",
       "    }\n",
       "\n",
       "    .dataframe thead th {\n",
       "        text-align: right;\n",
       "    }\n",
       "</style>\n",
       "<table border=\"1\" class=\"dataframe\">\n",
       "  <thead>\n",
       "    <tr style=\"text-align: right;\">\n",
       "      <th></th>\n",
       "      <th>question</th>\n",
       "      <th>smartvote_answers</th>\n",
       "      <th>binary_smarvote_answer</th>\n",
       "      <th>huggingface_answers</th>\n",
       "      <th>cami_answers</th>\n",
       "      <th>Topic</th>\n",
       "      <th>Keywords</th>\n",
       "      <th>Simplified question</th>\n",
       "    </tr>\n",
       "  </thead>\n",
       "  <tbody>\n",
       "    <tr>\n",
       "      <th>0</th>\n",
       "      <td>Êtes-vous favorable à une hausse de l'âge de l...</td>\n",
       "      <td>4</td>\n",
       "      <td>0.0</td>\n",
       "      <td>NaN</td>\n",
       "      <td>NaN</td>\n",
       "      <td>Family</td>\n",
       "      <td>pension; AHV; AVS</td>\n",
       "      <td>''Are you in favour of raising the retirement ...</td>\n",
       "    </tr>\n",
       "    <tr>\n",
       "      <th>1</th>\n",
       "      <td>L'État devrait-il renforcer son soutien finan...</td>\n",
       "      <td>1</td>\n",
       "      <td>1.0</td>\n",
       "      <td>NaN</td>\n",
       "      <td>NaN</td>\n",
       "      <td>Family</td>\n",
       "      <td>benefit; childcare; nursery</td>\n",
       "      <td>''Should the state support childcare? ''</td>\n",
       "    </tr>\n",
       "    <tr>\n",
       "      <th>2</th>\n",
       "      <td>Une initiative demande l'instauration d'un co...</td>\n",
       "      <td>1</td>\n",
       "      <td>1.0</td>\n",
       "      <td>NaN</td>\n",
       "      <td>NaN</td>\n",
       "      <td>Family</td>\n",
       "      <td>paternity; leave</td>\n",
       "      <td>''Are you in favour of a paternity leave?''</td>\n",
       "    </tr>\n",
       "    <tr>\n",
       "      <th>3</th>\n",
       "      <td>Les rentes de la caisse de pension doivent-el...</td>\n",
       "      <td>4</td>\n",
       "      <td>0.0</td>\n",
       "      <td>NaN</td>\n",
       "      <td>NaN</td>\n",
       "      <td>Family</td>\n",
       "      <td>pension; life expectancy</td>\n",
       "      <td>''Should the finance state pension funds?''</td>\n",
       "    </tr>\n",
       "    <tr>\n",
       "      <th>4</th>\n",
       "      <td>Soutenez-vous les efforts au niveau des canto...</td>\n",
       "      <td>4</td>\n",
       "      <td>0.0</td>\n",
       "      <td>NaN</td>\n",
       "      <td>NaN</td>\n",
       "      <td>Family</td>\n",
       "      <td>benefits; social assistance</td>\n",
       "      <td>''Are you in favor of benefits?''</td>\n",
       "    </tr>\n",
       "    <tr>\n",
       "      <th>5</th>\n",
       "      <td>La Confédération devrait-elle encourager dava...</td>\n",
       "      <td>1</td>\n",
       "      <td>1.0</td>\n",
       "      <td>NaN</td>\n",
       "      <td>NaN</td>\n",
       "      <td>Family</td>\n",
       "      <td>social housing; construction; public housing</td>\n",
       "      <td>''Are you in favor of public housing?''</td>\n",
       "    </tr>\n",
       "    <tr>\n",
       "      <th>6</th>\n",
       "      <td>Les personnes assurées devraient-elles contri...</td>\n",
       "      <td>4</td>\n",
       "      <td>0.0</td>\n",
       "      <td>NaN</td>\n",
       "      <td>NaN</td>\n",
       "      <td>Health</td>\n",
       "      <td>health cost; health care cost; premium</td>\n",
       "      <td>''Should the health insurance cost more''</td>\n",
       "    </tr>\n",
       "    <tr>\n",
       "      <th>7</th>\n",
       "      <td>Approuveriez-vous le principe du consentement...</td>\n",
       "      <td>1</td>\n",
       "      <td>1.0</td>\n",
       "      <td>NaN</td>\n",
       "      <td>NaN</td>\n",
       "      <td>Health</td>\n",
       "      <td>organ; donation</td>\n",
       "      <td>''Is organ donation good?''</td>\n",
       "    </tr>\n",
       "    <tr>\n",
       "      <th>8</th>\n",
       "      <td>Une vaccination obligatoire des enfants basée ...</td>\n",
       "      <td>1</td>\n",
       "      <td>1.0</td>\n",
       "      <td>NaN</td>\n",
       "      <td>NaN</td>\n",
       "      <td>Health</td>\n",
       "      <td>vaccine; vaccination</td>\n",
       "      <td>''Should vaccines be compulsory? ''</td>\n",
       "    </tr>\n",
       "    <tr>\n",
       "      <th>9</th>\n",
       "      <td>Une initiative demande que les subsides aux a...</td>\n",
       "      <td>1</td>\n",
       "      <td>1.0</td>\n",
       "      <td>NaN</td>\n",
       "      <td>NaN</td>\n",
       "      <td>Health</td>\n",
       "      <td>insurance; premium; subsidies</td>\n",
       "      <td>''Should health be proportional to your income?''</td>\n",
       "    </tr>\n",
       "    <tr>\n",
       "      <th>10</th>\n",
       "      <td>Une initiative souhaite donner à la Confédéra...</td>\n",
       "      <td>4</td>\n",
       "      <td>0.0</td>\n",
       "      <td>NaN</td>\n",
       "      <td>NaN</td>\n",
       "      <td>Health</td>\n",
       "      <td>cost brake; health care cost</td>\n",
       "      <td>''Should health care costs be reduced?''</td>\n",
       "    </tr>\n",
       "    <tr>\n",
       "      <th>11</th>\n",
       "      <td>LÉtat devrait-il davantage sengager pour un...</td>\n",
       "      <td>1</td>\n",
       "      <td>1.0</td>\n",
       "      <td>NaN</td>\n",
       "      <td>NaN</td>\n",
       "      <td>Education</td>\n",
       "      <td>education opportunities; subsidies; courses</td>\n",
       "      <td>''Should we care about education opportunities?''</td>\n",
       "    </tr>\n",
       "    <tr>\n",
       "      <th>12</th>\n",
       "      <td>Pensez-vous qu'il soit juste que les écoles o...</td>\n",
       "      <td>4</td>\n",
       "      <td>0.0</td>\n",
       "      <td>NaN</td>\n",
       "      <td>NaN</td>\n",
       "      <td>Education</td>\n",
       "      <td>religion; sex education</td>\n",
       "      <td>''Should schools exempts classes?''</td>\n",
       "    </tr>\n",
       "    <tr>\n",
       "      <th>13</th>\n",
       "      <td>La Confédération devrait-elle accroître son s...</td>\n",
       "      <td>1</td>\n",
       "      <td>1.0</td>\n",
       "      <td>NaN</td>\n",
       "      <td>NaN</td>\n",
       "      <td>Education</td>\n",
       "      <td>education support; reconversion</td>\n",
       "      <td>''Should education have more funding?''</td>\n",
       "    </tr>\n",
       "    <tr>\n",
       "      <th>14</th>\n",
       "      <td>Le concept de l'école intégrative prévoit que...</td>\n",
       "      <td>2</td>\n",
       "      <td>1.0</td>\n",
       "      <td>NaN</td>\n",
       "      <td>NaN</td>\n",
       "      <td>Education</td>\n",
       "      <td>learning; school; disabilities</td>\n",
       "      <td>''Do you support inclusive schools?''</td>\n",
       "    </tr>\n",
       "    <tr>\n",
       "      <th>15</th>\n",
       "      <td>Seriez-vous favorable à ce que le droit de vo...</td>\n",
       "      <td>1</td>\n",
       "      <td>1.0</td>\n",
       "      <td>NaN</td>\n",
       "      <td>NaN</td>\n",
       "      <td>Immigration</td>\n",
       "      <td>vote; resident; communal elections</td>\n",
       "      <td>'Should foreigners vote?''</td>\n",
       "    </tr>\n",
       "    <tr>\n",
       "      <th>16</th>\n",
       "      <td>La limitation de l'immigration a-t-elle pour ...</td>\n",
       "      <td>4</td>\n",
       "      <td>0.0</td>\n",
       "      <td>NaN</td>\n",
       "      <td>NaN</td>\n",
       "      <td>Immigration</td>\n",
       "      <td>bilateral; EU; immigration</td>\n",
       "      <td>''Should we limit immigration from EU?''</td>\n",
       "    </tr>\n",
       "    <tr>\n",
       "      <th>17</th>\n",
       "      <td>Les personnes sans-papiers devraient-elles po...</td>\n",
       "      <td>1</td>\n",
       "      <td>1.0</td>\n",
       "      <td>NaN</td>\n",
       "      <td>NaN</td>\n",
       "      <td>Immigration</td>\n",
       "      <td>undocumented; residence; migrants</td>\n",
       "      <td>''Should undocumented migrants receive a statu...</td>\n",
       "    </tr>\n",
       "    <tr>\n",
       "      <th>18</th>\n",
       "      <td>Êtes-vous en faveur d'un durcissement supplém...</td>\n",
       "      <td>4</td>\n",
       "      <td>0.0</td>\n",
       "      <td>NaN</td>\n",
       "      <td>NaN</td>\n",
       "      <td>Immigration</td>\n",
       "      <td>asylum</td>\n",
       "      <td>''Are you in favor of asylum?''</td>\n",
       "    </tr>\n",
       "    <tr>\n",
       "      <th>19</th>\n",
       "      <td>Les conditions de naturalisation devraient-el...</td>\n",
       "      <td>4</td>\n",
       "      <td>0.0</td>\n",
       "      <td>NaN</td>\n",
       "      <td>NaN</td>\n",
       "      <td>Immigration</td>\n",
       "      <td>naturalisation</td>\n",
       "      <td>''Should the conditions for naturaliation be i...</td>\n",
       "    </tr>\n",
       "    <tr>\n",
       "      <th>20</th>\n",
       "      <td>La Confédération devrait-elle soutenir davant...</td>\n",
       "      <td>1</td>\n",
       "      <td>1.0</td>\n",
       "      <td>NaN</td>\n",
       "      <td>NaN</td>\n",
       "      <td>Immigration</td>\n",
       "      <td>integration</td>\n",
       "      <td>\"Should we support foreigner integration?\"</td>\n",
       "    </tr>\n",
       "    <tr>\n",
       "      <th>21</th>\n",
       "      <td>La consommation de cannabis devrait-elle être...</td>\n",
       "      <td>1</td>\n",
       "      <td>1.0</td>\n",
       "      <td>NaN</td>\n",
       "      <td>NaN</td>\n",
       "      <td>Society</td>\n",
       "      <td>cannabis</td>\n",
       "      <td>\"Should cannabis be legal?\"</td>\n",
       "    </tr>\n",
       "    <tr>\n",
       "      <th>22</th>\n",
       "      <td>Les couples de même sexe devraient-ils avoir ...</td>\n",
       "      <td>1</td>\n",
       "      <td>1.0</td>\n",
       "      <td>NaN</td>\n",
       "      <td>NaN</td>\n",
       "      <td>Society</td>\n",
       "      <td>homosexual; gay</td>\n",
       "      <td>\"Do we believe in homosexuality equality?\"</td>\n",
       "    </tr>\n",
       "    <tr>\n",
       "      <th>23</th>\n",
       "      <td>La réglementation de la procréation médicaleme...</td>\n",
       "      <td>1</td>\n",
       "      <td>1.0</td>\n",
       "      <td>NaN</td>\n",
       "      <td>NaN</td>\n",
       "      <td>Society</td>\n",
       "      <td>reproducation</td>\n",
       "      <td>' Should the regulation of assisted reproducti...</td>\n",
       "    </tr>\n",
       "    <tr>\n",
       "      <th>24</th>\n",
       "      <td>Êtes-vous en faveur d'un contrôle plus strict...</td>\n",
       "      <td>1</td>\n",
       "      <td>1.0</td>\n",
       "      <td>NaN</td>\n",
       "      <td>NaN</td>\n",
       "      <td>Society</td>\n",
       "      <td>equal; salaries</td>\n",
       "      <td>\"Do you support stricter control of equal pay ...</td>\n",
       "    </tr>\n",
       "    <tr>\n",
       "      <th>25</th>\n",
       "      <td>Seriez-vous favorable à ce qu'un médecin soit...</td>\n",
       "      <td>1</td>\n",
       "      <td>1.0</td>\n",
       "      <td>NaN</td>\n",
       "      <td>NaN</td>\n",
       "      <td>Society</td>\n",
       "      <td>doctor; euthanasia</td>\n",
       "      <td>\"Should euthanasia be legal?\"</td>\n",
       "    </tr>\n",
       "    <tr>\n",
       "      <th>26</th>\n",
       "      <td>Selon vous la baisse des impôts au niveau fédé...</td>\n",
       "      <td>4</td>\n",
       "      <td>0.0</td>\n",
       "      <td>NaN</td>\n",
       "      <td>NaN</td>\n",
       "      <td>Finances</td>\n",
       "      <td>taxes</td>\n",
       "      <td>\"Should we lower taxes?\"</td>\n",
       "    </tr>\n",
       "    <tr>\n",
       "      <th>27</th>\n",
       "      <td>Êtes-vous en faveur d'une nouvelle réduction ...</td>\n",
       "      <td>3</td>\n",
       "      <td>0.0</td>\n",
       "      <td>NaN</td>\n",
       "      <td>NaN</td>\n",
       "      <td>Finances</td>\n",
       "      <td>financial equalisation</td>\n",
       "      <td>\"Should cantons support each other?\"</td>\n",
       "    </tr>\n",
       "    <tr>\n",
       "      <th>28</th>\n",
       "      <td>Les couples mariés devraient-ils être imposés...</td>\n",
       "      <td>1</td>\n",
       "      <td>1.0</td>\n",
       "      <td>NaN</td>\n",
       "      <td>NaN</td>\n",
       "      <td>Finances</td>\n",
       "      <td>individual taxation; married</td>\n",
       "      <td>\"Do you believe in individual taxation?\"</td>\n",
       "    </tr>\n",
       "    <tr>\n",
       "      <th>29</th>\n",
       "      <td>Êtes-vous en faveur d'une restriction de la c...</td>\n",
       "      <td>1</td>\n",
       "      <td>1.0</td>\n",
       "      <td>NaN</td>\n",
       "      <td>NaN</td>\n",
       "      <td>Finances</td>\n",
       "      <td>company taxation</td>\n",
       "      <td>\"Are you in favor of restricting competition b...</td>\n",
       "    </tr>\n",
       "    <tr>\n",
       "      <th>30</th>\n",
       "      <td>Les ménages privés devraient-ils pouvoir choi...</td>\n",
       "      <td>4</td>\n",
       "      <td>0.0</td>\n",
       "      <td>NaN</td>\n",
       "      <td>NaN</td>\n",
       "      <td>Economy</td>\n",
       "      <td>electricity</td>\n",
       "      <td>\"Should we be a able to choose their electrici...</td>\n",
       "    </tr>\n",
       "    <tr>\n",
       "      <th>31</th>\n",
       "      <td>Êtes-vous favorable à l'introduction d'un sal...</td>\n",
       "      <td>1</td>\n",
       "      <td>1.0</td>\n",
       "      <td>NaN</td>\n",
       "      <td>NaN</td>\n",
       "      <td>Economy</td>\n",
       "      <td>wage</td>\n",
       "      <td>\"Are you in favor of a minimum wage?\"</td>\n",
       "    </tr>\n",
       "    <tr>\n",
       "      <th>32</th>\n",
       "      <td>Les entreprises suisses devraient-elles être ...</td>\n",
       "      <td>2</td>\n",
       "      <td>1.0</td>\n",
       "      <td>NaN</td>\n",
       "      <td>NaN</td>\n",
       "      <td>Economy</td>\n",
       "      <td>FDI; investement controls; takeovers</td>\n",
       "      <td>\"Should we protect Swiss companies from foreig...</td>\n",
       "    </tr>\n",
       "    <tr>\n",
       "      <th>33</th>\n",
       "      <td>Seriez-vous favorable à une libéralisation co...</td>\n",
       "      <td>4</td>\n",
       "      <td>0.0</td>\n",
       "      <td>NaN</td>\n",
       "      <td>NaN</td>\n",
       "      <td>Economy</td>\n",
       "      <td>opening hours; shops</td>\n",
       "      <td>\"Should stores choose their opening hours?\"</td>\n",
       "    </tr>\n",
       "    <tr>\n",
       "      <th>34</th>\n",
       "      <td>Faut-il renforcer la protection contre le lic...</td>\n",
       "      <td>1</td>\n",
       "      <td>1.0</td>\n",
       "      <td>NaN</td>\n",
       "      <td>NaN</td>\n",
       "      <td>Economy</td>\n",
       "      <td>dismissal; workers</td>\n",
       "      <td>\"Should the protection against dismissal of ol...</td>\n",
       "    </tr>\n",
       "    <tr>\n",
       "      <th>35</th>\n",
       "      <td>La Confédération devrait-elle davantage souten...</td>\n",
       "      <td>1</td>\n",
       "      <td>1.0</td>\n",
       "      <td>NaN</td>\n",
       "      <td>NaN</td>\n",
       "      <td>Economy</td>\n",
       "      <td>public services; post office</td>\n",
       "      <td>\"Should we support public services in rural ar...</td>\n",
       "    </tr>\n",
       "    <tr>\n",
       "      <th>36</th>\n",
       "      <td>L'expansion du réseau mobile selon la norme 5...</td>\n",
       "      <td>3</td>\n",
       "      <td>0.0</td>\n",
       "      <td>NaN</td>\n",
       "      <td>NaN</td>\n",
       "      <td>Digitalisation</td>\n",
       "      <td>5G</td>\n",
       "      <td>\"Should we expand our 5G network?\"</td>\n",
       "    </tr>\n",
       "    <tr>\n",
       "      <th>37</th>\n",
       "      <td>Les plateformes de services en ligne (p. ex. ...</td>\n",
       "      <td>1</td>\n",
       "      <td>1.0</td>\n",
       "      <td>NaN</td>\n",
       "      <td>NaN</td>\n",
       "      <td>Digitalisation</td>\n",
       "      <td>Uber; Airbnb; online</td>\n",
       "      <td>\"Should we regulate online platforms?\"</td>\n",
       "    </tr>\n",
       "    <tr>\n",
       "      <th>38</th>\n",
       "      <td>Une initiative demande que la Suisse cesse d'...</td>\n",
       "      <td>1</td>\n",
       "      <td>1.0</td>\n",
       "      <td>NaN</td>\n",
       "      <td>NaN</td>\n",
       "      <td>Energy</td>\n",
       "      <td>fossil; 2050; fuel</td>\n",
       "      <td>\"Do you want to stop using fossil fuels?''</td>\n",
       "    </tr>\n",
       "    <tr>\n",
       "      <th>39</th>\n",
       "      <td>Actuellement une taxe CO2 est prélevée sur les...</td>\n",
       "      <td>1</td>\n",
       "      <td>1.0</td>\n",
       "      <td>NaN</td>\n",
       "      <td>NaN</td>\n",
       "      <td>Energy</td>\n",
       "      <td>C02; natural gas</td>\n",
       "      <td>\"Should fuel be taxed?\"</td>\n",
       "    </tr>\n",
       "    <tr>\n",
       "      <th>40</th>\n",
       "      <td>La Confédération devrait-elle soutenir davant...</td>\n",
       "      <td>1</td>\n",
       "      <td>1.0</td>\n",
       "      <td>NaN</td>\n",
       "      <td>NaN</td>\n",
       "      <td>Energy</td>\n",
       "      <td>renewable; energy</td>\n",
       "      <td>\"Should we support renewable energies?\"</td>\n",
       "    </tr>\n",
       "    <tr>\n",
       "      <th>41</th>\n",
       "      <td>Les tronçons autoroutiers à forte fréquentati...</td>\n",
       "      <td>4</td>\n",
       "      <td>0.0</td>\n",
       "      <td>NaN</td>\n",
       "      <td>NaN</td>\n",
       "      <td>Energy</td>\n",
       "      <td>motorway; lanes</td>\n",
       "      <td>\"Should high-traffic highway sections be exten...</td>\n",
       "    </tr>\n",
       "    <tr>\n",
       "      <th>42</th>\n",
       "      <td>Êtes-vous favorable à l'introduction de péage...</td>\n",
       "      <td>4</td>\n",
       "      <td>0.0</td>\n",
       "      <td>NaN</td>\n",
       "      <td>NaN</td>\n",
       "      <td>Energy</td>\n",
       "      <td>road pricing</td>\n",
       "      <td>\"Do you support the introduction of road prici...</td>\n",
       "    </tr>\n",
       "    <tr>\n",
       "      <th>43</th>\n",
       "      <td>Êtes-vous favorable à un assouplissement des m...</td>\n",
       "      <td>4</td>\n",
       "      <td>0.0</td>\n",
       "      <td>NaN</td>\n",
       "      <td>NaN</td>\n",
       "      <td>Ecology</td>\n",
       "      <td>predators; lynx; wolf; bears</td>\n",
       "      <td>\"'Are you in favor of relaxing the current pro...</td>\n",
       "    </tr>\n",
       "    <tr>\n",
       "      <th>44</th>\n",
       "      <td>Le moratoire actuel sur les plantes et les an...</td>\n",
       "      <td>1</td>\n",
       "      <td>1.0</td>\n",
       "      <td>NaN</td>\n",
       "      <td>NaN</td>\n",
       "      <td>Ecology</td>\n",
       "      <td>plants; genetically modified</td>\n",
       "      <td>'Should the current moratorium on genetically ...</td>\n",
       "    </tr>\n",
       "    <tr>\n",
       "      <th>45</th>\n",
       "      <td>Les paiements directs devraient-ils être accor...</td>\n",
       "      <td>1</td>\n",
       "      <td>1.0</td>\n",
       "      <td>NaN</td>\n",
       "      <td>NaN</td>\n",
       "      <td>Ecology</td>\n",
       "      <td>ecological; farms; pesticides</td>\n",
       "      <td>'Should direct payments only be granted to far...</td>\n",
       "    </tr>\n",
       "    <tr>\n",
       "      <th>46</th>\n",
       "      <td>Faut-il étendre les mesures de protection de ...</td>\n",
       "      <td>1</td>\n",
       "      <td>1.0</td>\n",
       "      <td>NaN</td>\n",
       "      <td>NaN</td>\n",
       "      <td>Ecology</td>\n",
       "      <td>biodiversity</td>\n",
       "      <td>\"Should biodiversity protection measures be ex...</td>\n",
       "    </tr>\n",
       "    <tr>\n",
       "      <th>47</th>\n",
       "      <td>Êtes-vous en faveur de réglementations plus st...</td>\n",
       "      <td>1</td>\n",
       "      <td>1.0</td>\n",
       "      <td>NaN</td>\n",
       "      <td>NaN</td>\n",
       "      <td>Ecology</td>\n",
       "      <td>animal protection; livestock</td>\n",
       "      <td>\"Do you support stricter animal protection reg...</td>\n",
       "    </tr>\n",
       "    <tr>\n",
       "      <th>48</th>\n",
       "      <td>Le financement des partis ainsi que celui des...</td>\n",
       "      <td>1</td>\n",
       "      <td>1.0</td>\n",
       "      <td>NaN</td>\n",
       "      <td>NaN</td>\n",
       "      <td>Politics</td>\n",
       "      <td>campaign funding; transparency;</td>\n",
       "      <td>\" Should campaign financing be transparent? ''</td>\n",
       "    </tr>\n",
       "    <tr>\n",
       "      <th>49</th>\n",
       "      <td>L'introduction du vote électronique lors des ...</td>\n",
       "      <td>1</td>\n",
       "      <td>1.0</td>\n",
       "      <td>NaN</td>\n",
       "      <td>NaN</td>\n",
       "      <td>Politics</td>\n",
       "      <td>e-voting; votes</td>\n",
       "      <td>\"Do you support e-voting?\"</td>\n",
       "    </tr>\n",
       "    <tr>\n",
       "      <th>50</th>\n",
       "      <td>Êtes-vous en faveur de l'abaissement de l'âge...</td>\n",
       "      <td>3</td>\n",
       "      <td>0.0</td>\n",
       "      <td>NaN</td>\n",
       "      <td>NaN</td>\n",
       "      <td>Politics</td>\n",
       "      <td>voting age; 16</td>\n",
       "      <td>\"Should voting at 16 be allowed\"</td>\n",
       "    </tr>\n",
       "    <tr>\n",
       "      <th>51</th>\n",
       "      <td>La Suisse devrait-elle mettre fin à l'accord ...</td>\n",
       "      <td>4</td>\n",
       "      <td>0.0</td>\n",
       "      <td>NaN</td>\n",
       "      <td>NaN</td>\n",
       "      <td>Security</td>\n",
       "      <td>border control; schengen</td>\n",
       "      <td>\"Should Switzerland end Shengen?\"</td>\n",
       "    </tr>\n",
       "    <tr>\n",
       "      <th>52</th>\n",
       "      <td>Faut-il renoncer au durcissement des conditio...</td>\n",
       "      <td>1</td>\n",
       "      <td>1.0</td>\n",
       "      <td>NaN</td>\n",
       "      <td>NaN</td>\n",
       "      <td>Security</td>\n",
       "      <td>civil service</td>\n",
       "      <td>'Should the Federal Council's proposed tighten...</td>\n",
       "    </tr>\n",
       "    <tr>\n",
       "      <th>53</th>\n",
       "      <td>Faut-il interdire l'exportation de matériel d...</td>\n",
       "      <td>1</td>\n",
       "      <td>1.0</td>\n",
       "      <td>NaN</td>\n",
       "      <td>NaN</td>\n",
       "      <td>Security</td>\n",
       "      <td>war material; weapons</td>\n",
       "      <td>\"Should we export war material?\"</td>\n",
       "    </tr>\n",
       "    <tr>\n",
       "      <th>54</th>\n",
       "      <td>Êtes-vous favorable à l'acquisition de nouvea...</td>\n",
       "      <td>4</td>\n",
       "      <td>0.0</td>\n",
       "      <td>NaN</td>\n",
       "      <td>NaN</td>\n",
       "      <td>Security</td>\n",
       "      <td>aircraft; swiss army</td>\n",
       "      <td>\"Are you in favor of acquiring new fighter air...</td>\n",
       "    </tr>\n",
       "    <tr>\n",
       "      <th>55</th>\n",
       "      <td>Selon vous les moyens légaux permettant de rec...</td>\n",
       "      <td>2</td>\n",
       "      <td>1.0</td>\n",
       "      <td>NaN</td>\n",
       "      <td>NaN</td>\n",
       "      <td>Security</td>\n",
       "      <td>dann</td>\n",
       "      <td>\"Should we do more DNA analysis?\"</td>\n",
       "    </tr>\n",
       "    <tr>\n",
       "      <th>56</th>\n",
       "      <td>La Suisse doit-elle entamer des négociations ...</td>\n",
       "      <td>4</td>\n",
       "      <td>0.0</td>\n",
       "      <td>NaN</td>\n",
       "      <td>NaN</td>\n",
       "      <td>External Relations</td>\n",
       "      <td>EU negotiations</td>\n",
       "      <td>\"Should Switzerland enter the European Union?\"</td>\n",
       "    </tr>\n",
       "    <tr>\n",
       "      <th>57</th>\n",
       "      <td>La Suisse devrait-elle conclure un accord de ...</td>\n",
       "      <td>1</td>\n",
       "      <td>1.0</td>\n",
       "      <td>NaN</td>\n",
       "      <td>NaN</td>\n",
       "      <td>External Relations</td>\n",
       "      <td>trade; USA</td>\n",
       "      <td>\"Should Switzerlad have a free trade agreement...</td>\n",
       "    </tr>\n",
       "    <tr>\n",
       "      <th>58</th>\n",
       "      <td>Une initiative demande que les règles de resp...</td>\n",
       "      <td>1</td>\n",
       "      <td>1.0</td>\n",
       "      <td>NaN</td>\n",
       "      <td>NaN</td>\n",
       "      <td>External Relations</td>\n",
       "      <td>human rights; environment</td>\n",
       "      <td>\"Should Swiss companies have human rights and ...</td>\n",
       "    </tr>\n",
       "    <tr>\n",
       "      <th>59</th>\n",
       "      <td>Êtes-vous en faveur de la candidature de la S...</td>\n",
       "      <td>1</td>\n",
       "      <td>1.0</td>\n",
       "      <td>NaN</td>\n",
       "      <td>NaN</td>\n",
       "      <td>External Relations</td>\n",
       "      <td>security council</td>\n",
       "      <td>\"Should Switzerland have a seat in the UN Secu...</td>\n",
       "    </tr>\n",
       "  </tbody>\n",
       "</table>\n",
       "</div>"
      ],
      "text/plain": [
       "                                             question  smartvote_answers  \\\n",
       "0   Êtes-vous favorable à une hausse de l'âge de l...                  4   \n",
       "1    L'État devrait-il renforcer son soutien finan...                  1   \n",
       "2    Une initiative demande l'instauration d'un co...                  1   \n",
       "3    Les rentes de la caisse de pension doivent-el...                  4   \n",
       "4    Soutenez-vous les efforts au niveau des canto...                  4   \n",
       "5    La Confédération devrait-elle encourager dava...                  1   \n",
       "6    Les personnes assurées devraient-elles contri...                  4   \n",
       "7    Approuveriez-vous le principe du consentement...                  1   \n",
       "8   Une vaccination obligatoire des enfants basée ...                  1   \n",
       "9    Une initiative demande que les subsides aux a...                  1   \n",
       "10   Une initiative souhaite donner à la Confédéra...                  4   \n",
       "11   LÉtat devrait-il davantage sengager pour un...                  1   \n",
       "12   Pensez-vous qu'il soit juste que les écoles o...                  4   \n",
       "13   La Confédération devrait-elle accroître son s...                  1   \n",
       "14   Le concept de l'école intégrative prévoit que...                  2   \n",
       "15   Seriez-vous favorable à ce que le droit de vo...                  1   \n",
       "16   La limitation de l'immigration a-t-elle pour ...                  4   \n",
       "17   Les personnes sans-papiers devraient-elles po...                  1   \n",
       "18   Êtes-vous en faveur d'un durcissement supplém...                  4   \n",
       "19   Les conditions de naturalisation devraient-el...                  4   \n",
       "20   La Confédération devrait-elle soutenir davant...                  1   \n",
       "21   La consommation de cannabis devrait-elle être...                  1   \n",
       "22   Les couples de même sexe devraient-ils avoir ...                  1   \n",
       "23  La réglementation de la procréation médicaleme...                  1   \n",
       "24   Êtes-vous en faveur d'un contrôle plus strict...                  1   \n",
       "25   Seriez-vous favorable à ce qu'un médecin soit...                  1   \n",
       "26  Selon vous la baisse des impôts au niveau fédé...                  4   \n",
       "27   Êtes-vous en faveur d'une nouvelle réduction ...                  3   \n",
       "28   Les couples mariés devraient-ils être imposés...                  1   \n",
       "29   Êtes-vous en faveur d'une restriction de la c...                  1   \n",
       "30   Les ménages privés devraient-ils pouvoir choi...                  4   \n",
       "31   Êtes-vous favorable à l'introduction d'un sal...                  1   \n",
       "32   Les entreprises suisses devraient-elles être ...                  2   \n",
       "33   Seriez-vous favorable à une libéralisation co...                  4   \n",
       "34   Faut-il renforcer la protection contre le lic...                  1   \n",
       "35  La Confédération devrait-elle davantage souten...                  1   \n",
       "36   L'expansion du réseau mobile selon la norme 5...                  3   \n",
       "37   Les plateformes de services en ligne (p. ex. ...                  1   \n",
       "38   Une initiative demande que la Suisse cesse d'...                  1   \n",
       "39  Actuellement une taxe CO2 est prélevée sur les...                  1   \n",
       "40   La Confédération devrait-elle soutenir davant...                  1   \n",
       "41   Les tronçons autoroutiers à forte fréquentati...                  4   \n",
       "42   Êtes-vous favorable à l'introduction de péage...                  4   \n",
       "43  Êtes-vous favorable à un assouplissement des m...                  4   \n",
       "44   Le moratoire actuel sur les plantes et les an...                  1   \n",
       "45  Les paiements directs devraient-ils être accor...                  1   \n",
       "46   Faut-il étendre les mesures de protection de ...                  1   \n",
       "47  Êtes-vous en faveur de réglementations plus st...                  1   \n",
       "48   Le financement des partis ainsi que celui des...                  1   \n",
       "49   L'introduction du vote électronique lors des ...                  1   \n",
       "50   Êtes-vous en faveur de l'abaissement de l'âge...                  3   \n",
       "51   La Suisse devrait-elle mettre fin à l'accord ...                  4   \n",
       "52   Faut-il renoncer au durcissement des conditio...                  1   \n",
       "53   Faut-il interdire l'exportation de matériel d...                  1   \n",
       "54   Êtes-vous favorable à l'acquisition de nouvea...                  4   \n",
       "55  Selon vous les moyens légaux permettant de rec...                  2   \n",
       "56   La Suisse doit-elle entamer des négociations ...                  4   \n",
       "57   La Suisse devrait-elle conclure un accord de ...                  1   \n",
       "58   Une initiative demande que les règles de resp...                  1   \n",
       "59   Êtes-vous en faveur de la candidature de la S...                  1   \n",
       "\n",
       "    binary_smarvote_answer  huggingface_answers  cami_answers  \\\n",
       "0                      0.0                  NaN           NaN   \n",
       "1                      1.0                  NaN           NaN   \n",
       "2                      1.0                  NaN           NaN   \n",
       "3                      0.0                  NaN           NaN   \n",
       "4                      0.0                  NaN           NaN   \n",
       "5                      1.0                  NaN           NaN   \n",
       "6                      0.0                  NaN           NaN   \n",
       "7                      1.0                  NaN           NaN   \n",
       "8                      1.0                  NaN           NaN   \n",
       "9                      1.0                  NaN           NaN   \n",
       "10                     0.0                  NaN           NaN   \n",
       "11                     1.0                  NaN           NaN   \n",
       "12                     0.0                  NaN           NaN   \n",
       "13                     1.0                  NaN           NaN   \n",
       "14                     1.0                  NaN           NaN   \n",
       "15                     1.0                  NaN           NaN   \n",
       "16                     0.0                  NaN           NaN   \n",
       "17                     1.0                  NaN           NaN   \n",
       "18                     0.0                  NaN           NaN   \n",
       "19                     0.0                  NaN           NaN   \n",
       "20                     1.0                  NaN           NaN   \n",
       "21                     1.0                  NaN           NaN   \n",
       "22                     1.0                  NaN           NaN   \n",
       "23                     1.0                  NaN           NaN   \n",
       "24                     1.0                  NaN           NaN   \n",
       "25                     1.0                  NaN           NaN   \n",
       "26                     0.0                  NaN           NaN   \n",
       "27                     0.0                  NaN           NaN   \n",
       "28                     1.0                  NaN           NaN   \n",
       "29                     1.0                  NaN           NaN   \n",
       "30                     0.0                  NaN           NaN   \n",
       "31                     1.0                  NaN           NaN   \n",
       "32                     1.0                  NaN           NaN   \n",
       "33                     0.0                  NaN           NaN   \n",
       "34                     1.0                  NaN           NaN   \n",
       "35                     1.0                  NaN           NaN   \n",
       "36                     0.0                  NaN           NaN   \n",
       "37                     1.0                  NaN           NaN   \n",
       "38                     1.0                  NaN           NaN   \n",
       "39                     1.0                  NaN           NaN   \n",
       "40                     1.0                  NaN           NaN   \n",
       "41                     0.0                  NaN           NaN   \n",
       "42                     0.0                  NaN           NaN   \n",
       "43                     0.0                  NaN           NaN   \n",
       "44                     1.0                  NaN           NaN   \n",
       "45                     1.0                  NaN           NaN   \n",
       "46                     1.0                  NaN           NaN   \n",
       "47                     1.0                  NaN           NaN   \n",
       "48                     1.0                  NaN           NaN   \n",
       "49                     1.0                  NaN           NaN   \n",
       "50                     0.0                  NaN           NaN   \n",
       "51                     0.0                  NaN           NaN   \n",
       "52                     1.0                  NaN           NaN   \n",
       "53                     1.0                  NaN           NaN   \n",
       "54                     0.0                  NaN           NaN   \n",
       "55                     1.0                  NaN           NaN   \n",
       "56                     0.0                  NaN           NaN   \n",
       "57                     1.0                  NaN           NaN   \n",
       "58                     1.0                  NaN           NaN   \n",
       "59                     1.0                  NaN           NaN   \n",
       "\n",
       "                 Topic                                      Keywords  \\\n",
       "0               Family                             pension; AHV; AVS   \n",
       "1               Family                   benefit; childcare; nursery   \n",
       "2               Family                             paternity; leave    \n",
       "3               Family                      pension; life expectancy   \n",
       "4               Family                   benefits; social assistance   \n",
       "5               Family  social housing; construction; public housing   \n",
       "6               Health        health cost; health care cost; premium   \n",
       "7               Health                               organ; donation   \n",
       "8               Health                          vaccine; vaccination   \n",
       "9               Health                 insurance; premium; subsidies   \n",
       "10              Health                  cost brake; health care cost   \n",
       "11           Education   education opportunities; subsidies; courses   \n",
       "12           Education                       religion; sex education   \n",
       "13           Education               education support; reconversion   \n",
       "14           Education                learning; school; disabilities   \n",
       "15         Immigration            vote; resident; communal elections   \n",
       "16         Immigration                    bilateral; EU; immigration   \n",
       "17         Immigration             undocumented; residence; migrants   \n",
       "18         Immigration                                        asylum   \n",
       "19         Immigration                                naturalisation   \n",
       "20         Immigration                                   integration   \n",
       "21             Society                                      cannabis   \n",
       "22             Society                               homosexual; gay   \n",
       "23             Society                                 reproducation   \n",
       "24             Society                               equal; salaries   \n",
       "25             Society                           doctor; euthanasia    \n",
       "26            Finances                                         taxes   \n",
       "27            Finances                       financial equalisation    \n",
       "28            Finances                  individual taxation; married   \n",
       "29            Finances                              company taxation   \n",
       "30             Economy                                   electricity   \n",
       "31             Economy                                          wage   \n",
       "32             Economy          FDI; investement controls; takeovers   \n",
       "33             Economy                          opening hours; shops   \n",
       "34             Economy                            dismissal; workers   \n",
       "35             Economy                  public services; post office   \n",
       "36      Digitalisation                                            5G   \n",
       "37      Digitalisation                          Uber; Airbnb; online   \n",
       "38              Energy                            fossil; 2050; fuel   \n",
       "39              Energy                              C02; natural gas   \n",
       "40              Energy                             renewable; energy   \n",
       "41              Energy                               motorway; lanes   \n",
       "42              Energy                                  road pricing   \n",
       "43             Ecology                  predators; lynx; wolf; bears   \n",
       "44             Ecology                 plants; genetically modified    \n",
       "45             Ecology                 ecological; farms; pesticides   \n",
       "46             Ecology                                  biodiversity   \n",
       "47             Ecology                  animal protection; livestock   \n",
       "48            Politics               campaign funding; transparency;   \n",
       "49            Politics                               e-voting; votes   \n",
       "50            Politics                                voting age; 16   \n",
       "51            Security                      border control; schengen   \n",
       "52            Security                                 civil service   \n",
       "53            Security                         war material; weapons   \n",
       "54            Security                          aircraft; swiss army   \n",
       "55            Security                                          dann   \n",
       "56  External Relations                               EU negotiations   \n",
       "57  External Relations                                   trade; USA    \n",
       "58  External Relations                     human rights; environment   \n",
       "59  External Relations                              security council   \n",
       "\n",
       "                                  Simplified question  \n",
       "0   ''Are you in favour of raising the retirement ...  \n",
       "1            ''Should the state support childcare? ''  \n",
       "2         ''Are you in favour of a paternity leave?''  \n",
       "3         ''Should the finance state pension funds?''  \n",
       "4                   ''Are you in favor of benefits?''  \n",
       "5             ''Are you in favor of public housing?''  \n",
       "6           ''Should the health insurance cost more''  \n",
       "7                         ''Is organ donation good?''  \n",
       "8                 ''Should vaccines be compulsory? ''  \n",
       "9   ''Should health be proportional to your income?''  \n",
       "10           ''Should health care costs be reduced?''  \n",
       "11  ''Should we care about education opportunities?''  \n",
       "12                ''Should schools exempts classes?''  \n",
       "13            ''Should education have more funding?''  \n",
       "14              ''Do you support inclusive schools?''  \n",
       "15                         'Should foreigners vote?''  \n",
       "16           ''Should we limit immigration from EU?''  \n",
       "17  ''Should undocumented migrants receive a statu...  \n",
       "18                    ''Are you in favor of asylum?''  \n",
       "19  ''Should the conditions for naturaliation be i...  \n",
       "20         \"Should we support foreigner integration?\"  \n",
       "21                        \"Should cannabis be legal?\"  \n",
       "22         \"Do we believe in homosexuality equality?\"  \n",
       "23  ' Should the regulation of assisted reproducti...  \n",
       "24  \"Do you support stricter control of equal pay ...  \n",
       "25                      \"Should euthanasia be legal?\"  \n",
       "26                           \"Should we lower taxes?\"  \n",
       "27               \"Should cantons support each other?\"  \n",
       "28           \"Do you believe in individual taxation?\"  \n",
       "29  \"Are you in favor of restricting competition b...  \n",
       "30  \"Should we be a able to choose their electrici...  \n",
       "31              \"Are you in favor of a minimum wage?\"  \n",
       "32  \"Should we protect Swiss companies from foreig...  \n",
       "33        \"Should stores choose their opening hours?\"  \n",
       "34  \"Should the protection against dismissal of ol...  \n",
       "35  \"Should we support public services in rural ar...  \n",
       "36                 \"Should we expand our 5G network?\"  \n",
       "37             \"Should we regulate online platforms?\"  \n",
       "38         \"Do you want to stop using fossil fuels?''  \n",
       "39                            \"Should fuel be taxed?\"  \n",
       "40            \"Should we support renewable energies?\"  \n",
       "41  \"Should high-traffic highway sections be exten...  \n",
       "42  \"Do you support the introduction of road prici...  \n",
       "43  \"'Are you in favor of relaxing the current pro...  \n",
       "44  'Should the current moratorium on genetically ...  \n",
       "45  'Should direct payments only be granted to far...  \n",
       "46  \"Should biodiversity protection measures be ex...  \n",
       "47  \"Do you support stricter animal protection reg...  \n",
       "48     \" Should campaign financing be transparent? ''  \n",
       "49                         \"Do you support e-voting?\"  \n",
       "50                   \"Should voting at 16 be allowed\"  \n",
       "51                  \"Should Switzerland end Shengen?\"  \n",
       "52  'Should the Federal Council's proposed tighten...  \n",
       "53                   \"Should we export war material?\"  \n",
       "54  \"Are you in favor of acquiring new fighter air...  \n",
       "55                  \"Should we do more DNA analysis?\"  \n",
       "56     \"Should Switzerland enter the European Union?\"  \n",
       "57  \"Should Switzerlad have a free trade agreement...  \n",
       "58  \"Should Swiss companies have human rights and ...  \n",
       "59  \"Should Switzerland have a seat in the UN Secu...  "
      ]
     },
     "execution_count": 151,
     "metadata": {},
     "output_type": "execute_result"
    }
   ],
   "source": [
    "df_questions"
   ]
  },
  {
   "cell_type": "code",
   "execution_count": 147,
   "id": "2bd962fd",
   "metadata": {},
   "outputs": [],
   "source": [
    "qa_model = pipeline(\"question-answering\", model = \"srcocotero/bert-large-qa\")\n",
    "\n",
    "def qa(question_smartvote):\n",
    "    return qa_model(question = question_smartvote , context = context_tweets_all)"
   ]
  },
  {
   "cell_type": "code",
   "execution_count": 152,
   "id": "43df1afa",
   "metadata": {},
   "outputs": [
    {
     "name": "stderr",
     "output_type": "stream",
     "text": [
      "/home/ec2-user/anaconda3/envs/amazonei_mxnet_p36/lib/python3.6/site-packages/numpy/core/_asarray.py:83: VisibleDeprecationWarning: Creating an ndarray from ragged nested sequences (which is a list-or-tuple of lists-or-tuples-or ndarrays with different lengths or shapes) is deprecated. If you meant to do this, you must specify 'dtype=object' when creating the ndarray\n",
      "  return array(a, dtype, copy=False, order=order)\n"
     ]
    },
    {
     "data": {
      "text/plain": [
       "{'score': 0.10621041804552078, 'start': 1119, 'end': 1120, 'answer': '.'}"
      ]
     },
     "execution_count": 152,
     "metadata": {},
     "output_type": "execute_result"
    }
   ],
   "source": [
    "qa(question_smartvote = \"Are you in favor of gay marriage\")"
   ]
  },
  {
   "cell_type": "code",
   "execution_count": 148,
   "id": "5b4e489e",
   "metadata": {},
   "outputs": [
    {
     "ename": "KeyError",
     "evalue": "'question'",
     "output_type": "error",
     "traceback": [
      "\u001b[0;31m---------------------------------------------------------------------------\u001b[0m",
      "\u001b[0;31mKeyError\u001b[0m                                  Traceback (most recent call last)",
      "\u001b[0;32m~/anaconda3/envs/amazonei_mxnet_p36/lib/python3.6/site-packages/pandas/core/indexes/base.py\u001b[0m in \u001b[0;36mget_loc\u001b[0;34m(self, key, method, tolerance)\u001b[0m\n\u001b[1;32m   2897\u001b[0m             \u001b[0;32mtry\u001b[0m\u001b[0;34m:\u001b[0m\u001b[0;34m\u001b[0m\u001b[0;34m\u001b[0m\u001b[0m\n\u001b[0;32m-> 2898\u001b[0;31m                 \u001b[0;32mreturn\u001b[0m \u001b[0mself\u001b[0m\u001b[0;34m.\u001b[0m\u001b[0m_engine\u001b[0m\u001b[0;34m.\u001b[0m\u001b[0mget_loc\u001b[0m\u001b[0;34m(\u001b[0m\u001b[0mcasted_key\u001b[0m\u001b[0;34m)\u001b[0m\u001b[0;34m\u001b[0m\u001b[0;34m\u001b[0m\u001b[0m\n\u001b[0m\u001b[1;32m   2899\u001b[0m             \u001b[0;32mexcept\u001b[0m \u001b[0mKeyError\u001b[0m \u001b[0;32mas\u001b[0m \u001b[0merr\u001b[0m\u001b[0;34m:\u001b[0m\u001b[0;34m\u001b[0m\u001b[0;34m\u001b[0m\u001b[0m\n",
      "\u001b[0;32mpandas/_libs/index.pyx\u001b[0m in \u001b[0;36mpandas._libs.index.IndexEngine.get_loc\u001b[0;34m()\u001b[0m\n",
      "\u001b[0;32mpandas/_libs/index.pyx\u001b[0m in \u001b[0;36mpandas._libs.index.IndexEngine.get_loc\u001b[0;34m()\u001b[0m\n",
      "\u001b[0;32mpandas/_libs/hashtable_class_helper.pxi\u001b[0m in \u001b[0;36mpandas._libs.hashtable.PyObjectHashTable.get_item\u001b[0;34m()\u001b[0m\n",
      "\u001b[0;32mpandas/_libs/hashtable_class_helper.pxi\u001b[0m in \u001b[0;36mpandas._libs.hashtable.PyObjectHashTable.get_item\u001b[0;34m()\u001b[0m\n",
      "\u001b[0;31mKeyError\u001b[0m: 'question'",
      "\nThe above exception was the direct cause of the following exception:\n",
      "\u001b[0;31mKeyError\u001b[0m                                  Traceback (most recent call last)",
      "\u001b[0;32m<ipython-input-148-febca2a75c18>\u001b[0m in \u001b[0;36m<module>\u001b[0;34m\u001b[0m\n\u001b[0;32m----> 1\u001b[0;31m \u001b[0mdf_questions\u001b[0m\u001b[0;34m[\u001b[0m\u001b[0;34m\"huggingface_answers\"\u001b[0m\u001b[0;34m]\u001b[0m \u001b[0;34m=\u001b[0m \u001b[0mdf\u001b[0m\u001b[0;34m[\u001b[0m\u001b[0;34m\"question\"\u001b[0m\u001b[0;34m]\u001b[0m\u001b[0;34m.\u001b[0m\u001b[0mapply\u001b[0m\u001b[0;34m(\u001b[0m\u001b[0mqa\u001b[0m\u001b[0;34m)\u001b[0m\u001b[0;34m\u001b[0m\u001b[0;34m\u001b[0m\u001b[0m\n\u001b[0m",
      "\u001b[0;32m~/anaconda3/envs/amazonei_mxnet_p36/lib/python3.6/site-packages/pandas/core/frame.py\u001b[0m in \u001b[0;36m__getitem__\u001b[0;34m(self, key)\u001b[0m\n\u001b[1;32m   2904\u001b[0m             \u001b[0;32mif\u001b[0m \u001b[0mself\u001b[0m\u001b[0;34m.\u001b[0m\u001b[0mcolumns\u001b[0m\u001b[0;34m.\u001b[0m\u001b[0mnlevels\u001b[0m \u001b[0;34m>\u001b[0m \u001b[0;36m1\u001b[0m\u001b[0;34m:\u001b[0m\u001b[0;34m\u001b[0m\u001b[0;34m\u001b[0m\u001b[0m\n\u001b[1;32m   2905\u001b[0m                 \u001b[0;32mreturn\u001b[0m \u001b[0mself\u001b[0m\u001b[0;34m.\u001b[0m\u001b[0m_getitem_multilevel\u001b[0m\u001b[0;34m(\u001b[0m\u001b[0mkey\u001b[0m\u001b[0;34m)\u001b[0m\u001b[0;34m\u001b[0m\u001b[0;34m\u001b[0m\u001b[0m\n\u001b[0;32m-> 2906\u001b[0;31m             \u001b[0mindexer\u001b[0m \u001b[0;34m=\u001b[0m \u001b[0mself\u001b[0m\u001b[0;34m.\u001b[0m\u001b[0mcolumns\u001b[0m\u001b[0;34m.\u001b[0m\u001b[0mget_loc\u001b[0m\u001b[0;34m(\u001b[0m\u001b[0mkey\u001b[0m\u001b[0;34m)\u001b[0m\u001b[0;34m\u001b[0m\u001b[0;34m\u001b[0m\u001b[0m\n\u001b[0m\u001b[1;32m   2907\u001b[0m             \u001b[0;32mif\u001b[0m \u001b[0mis_integer\u001b[0m\u001b[0;34m(\u001b[0m\u001b[0mindexer\u001b[0m\u001b[0;34m)\u001b[0m\u001b[0;34m:\u001b[0m\u001b[0;34m\u001b[0m\u001b[0;34m\u001b[0m\u001b[0m\n\u001b[1;32m   2908\u001b[0m                 \u001b[0mindexer\u001b[0m \u001b[0;34m=\u001b[0m \u001b[0;34m[\u001b[0m\u001b[0mindexer\u001b[0m\u001b[0;34m]\u001b[0m\u001b[0;34m\u001b[0m\u001b[0;34m\u001b[0m\u001b[0m\n",
      "\u001b[0;32m~/anaconda3/envs/amazonei_mxnet_p36/lib/python3.6/site-packages/pandas/core/indexes/base.py\u001b[0m in \u001b[0;36mget_loc\u001b[0;34m(self, key, method, tolerance)\u001b[0m\n\u001b[1;32m   2898\u001b[0m                 \u001b[0;32mreturn\u001b[0m \u001b[0mself\u001b[0m\u001b[0;34m.\u001b[0m\u001b[0m_engine\u001b[0m\u001b[0;34m.\u001b[0m\u001b[0mget_loc\u001b[0m\u001b[0;34m(\u001b[0m\u001b[0mcasted_key\u001b[0m\u001b[0;34m)\u001b[0m\u001b[0;34m\u001b[0m\u001b[0;34m\u001b[0m\u001b[0m\n\u001b[1;32m   2899\u001b[0m             \u001b[0;32mexcept\u001b[0m \u001b[0mKeyError\u001b[0m \u001b[0;32mas\u001b[0m \u001b[0merr\u001b[0m\u001b[0;34m:\u001b[0m\u001b[0;34m\u001b[0m\u001b[0;34m\u001b[0m\u001b[0m\n\u001b[0;32m-> 2900\u001b[0;31m                 \u001b[0;32mraise\u001b[0m \u001b[0mKeyError\u001b[0m\u001b[0;34m(\u001b[0m\u001b[0mkey\u001b[0m\u001b[0;34m)\u001b[0m \u001b[0;32mfrom\u001b[0m \u001b[0merr\u001b[0m\u001b[0;34m\u001b[0m\u001b[0;34m\u001b[0m\u001b[0m\n\u001b[0m\u001b[1;32m   2901\u001b[0m \u001b[0;34m\u001b[0m\u001b[0m\n\u001b[1;32m   2902\u001b[0m         \u001b[0;32mif\u001b[0m \u001b[0mtolerance\u001b[0m \u001b[0;32mis\u001b[0m \u001b[0;32mnot\u001b[0m \u001b[0;32mNone\u001b[0m\u001b[0;34m:\u001b[0m\u001b[0;34m\u001b[0m\u001b[0;34m\u001b[0m\u001b[0m\n",
      "\u001b[0;31mKeyError\u001b[0m: 'question'"
     ]
    }
   ],
   "source": [
    "df_questions[\"huggingface_answers\"] = df[\"question\"].apply(qa)\n"
   ]
  },
  {
   "cell_type": "code",
   "execution_count": null,
   "id": "478236d7",
   "metadata": {},
   "outputs": [],
   "source": []
  }
 ],
 "metadata": {
  "kernelspec": {
   "display_name": "conda_amazonei_mxnet_p36",
   "language": "python",
   "name": "conda_amazonei_mxnet_p36"
  },
  "language_info": {
   "codemirror_mode": {
    "name": "ipython",
    "version": 3
   },
   "file_extension": ".py",
   "mimetype": "text/x-python",
   "name": "python",
   "nbconvert_exporter": "python",
   "pygments_lexer": "ipython3",
   "version": "3.6.13"
  }
 },
 "nbformat": 4,
 "nbformat_minor": 5
}
