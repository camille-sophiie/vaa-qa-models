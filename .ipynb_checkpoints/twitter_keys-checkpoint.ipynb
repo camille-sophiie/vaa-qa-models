{
 "cells": [
  {
   "cell_type": "code",
   "execution_count": 1,
   "metadata": {},
   "outputs": [],
   "source": [
    "consumer_key = \"PDbAM0uJxUL1ktsx6okN3NmJn\"\n",
    "consumer_secret= \"IicEOqOYRBLF0pOfhq9OSfOfNOeOyKNOqoys8SBd16TwOvWIO7\"\n",
    "access_token= \"1500927771132014595-MmiU8JuhHMm5a9tmUx3pDQfISnaLmF\"\n",
    "access_token_secret= \"HQqKO5PQIYPJj2INrctG2Z0FTXwmq3GO8jbhgMDobtqQk\""
   ]
  },
  {
   "cell_type": "code",
   "execution_count": null,
   "metadata": {},
   "outputs": [],
   "source": []
  }
 ],
 "metadata": {
  "kernelspec": {
   "display_name": "Python 3",
   "language": "python",
   "name": "python3"
  },
  "language_info": {
   "codemirror_mode": {
    "name": "ipython",
    "version": 3
   },
   "file_extension": ".py",
   "mimetype": "text/x-python",
   "name": "python",
   "nbconvert_exporter": "python",
   "pygments_lexer": "ipython3",
   "version": "3.8.5"
  }
 },
 "nbformat": 4,
 "nbformat_minor": 5
}
