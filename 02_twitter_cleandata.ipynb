{
 "cells": [
  {
   "cell_type": "markdown",
   "id": "9853ff85",
   "metadata": {},
   "source": [
    "# Clean the Twitter data"
   ]
  },
  {
   "cell_type": "markdown",
   "id": "affb62be",
   "metadata": {},
   "source": [
    "## Install and import the libraries"
   ]
  },
  {
   "cell_type": "code",
   "execution_count": 127,
   "id": "3f097e56",
   "metadata": {},
   "outputs": [
    {
     "name": "stdout",
     "output_type": "stream",
     "text": [
      "Looking in indexes: https://pypi.org/simple, https://pip.repos.neuron.amazonaws.com\n",
      "Collecting emoji\n",
      "  Downloading emoji-2.0.0.tar.gz (197 kB)\n",
      "\u001b[2K     \u001b[90m━━━━━━━━━━━━━━━━━━━━━━━━━━━━━━━━━━━━━━━\u001b[0m \u001b[32m197.3/197.3 KB\u001b[0m \u001b[31m8.7 MB/s\u001b[0m eta \u001b[36m0:00:00\u001b[0m\n",
      "\u001b[?25h  Preparing metadata (setup.py) ... \u001b[?25ldone\n",
      "\u001b[?25hBuilding wheels for collected packages: emoji\n",
      "  Building wheel for emoji (setup.py) ... \u001b[?25ldone\n",
      "\u001b[?25h  Created wheel for emoji: filename=emoji-2.0.0-py3-none-any.whl size=193022 sha256=8508288d4d1200ab8dcf4b6a6715ba0c06bcb6ad2fc0295d3a3bd26ab8dba3b8\n",
      "  Stored in directory: /home/ec2-user/.cache/pip/wheels/ec/29/4d/3cfe7452ac7d8d83b1930f8a6205c3c9649b24e80f9029fc38\n",
      "Successfully built emoji\n",
      "Installing collected packages: emoji\n",
      "Successfully installed emoji-2.0.0\n"
     ]
    }
   ],
   "source": [
    "!pip install emoji"
   ]
  },
  {
   "cell_type": "code",
   "execution_count": 82,
   "id": "2b6cb913",
   "metadata": {},
   "outputs": [],
   "source": [
    "import pandas as pd\n",
    "import re\n",
    "import numpy as np"
   ]
  },
  {
   "cell_type": "markdown",
   "id": "40593cd7",
   "metadata": {},
   "source": [
    "### Import the dataset"
   ]
  },
  {
   "cell_type": "code",
   "execution_count": 85,
   "id": "47b851ff",
   "metadata": {},
   "outputs": [],
   "source": [
    "df = pd.read_csv(\"csv/01_raw_data_twitter_dataset.csv\")"
   ]
  },
  {
   "cell_type": "code",
   "execution_count": 86,
   "id": "d38a62dc",
   "metadata": {},
   "outputs": [
    {
     "data": {
      "text/html": [
       "<div>\n",
       "<style scoped>\n",
       "    .dataframe tbody tr th:only-of-type {\n",
       "        vertical-align: middle;\n",
       "    }\n",
       "\n",
       "    .dataframe tbody tr th {\n",
       "        vertical-align: top;\n",
       "    }\n",
       "\n",
       "    .dataframe thead th {\n",
       "        text-align: right;\n",
       "    }\n",
       "</style>\n",
       "<table border=\"1\" class=\"dataframe\">\n",
       "  <thead>\n",
       "    <tr style=\"text-align: right;\">\n",
       "      <th></th>\n",
       "      <th>Unnamed: 0</th>\n",
       "      <th>tweets</th>\n",
       "      <th>likes</th>\n",
       "      <th>time</th>\n",
       "      <th>politician_id</th>\n",
       "    </tr>\n",
       "  </thead>\n",
       "  <tbody>\n",
       "    <tr>\n",
       "      <th>0</th>\n",
       "      <td>0</td>\n",
       "      <td>@2xNON_AVS21 Ne vous laissez pas tromper: AVS ...</td>\n",
       "      <td>2</td>\n",
       "      <td>2022-09-02 09:33:59+00:00</td>\n",
       "      <td>ch_dandres</td>\n",
       "    </tr>\n",
       "    <tr>\n",
       "      <th>1</th>\n",
       "      <td>1</td>\n",
       "      <td>Les partisans d’#AVS21 tentent de faire peur à...</td>\n",
       "      <td>9</td>\n",
       "      <td>2022-09-02 09:33:04+00:00</td>\n",
       "      <td>ch_dandres</td>\n",
       "    </tr>\n",
       "    <tr>\n",
       "      <th>2</th>\n",
       "      <td>2</td>\n",
       "      <td>RT @2xNON_AVS21: Démêlons le vrai du faux! Le ...</td>\n",
       "      <td>0</td>\n",
       "      <td>2022-09-01 08:10:58+00:00</td>\n",
       "      <td>ch_dandres</td>\n",
       "    </tr>\n",
       "    <tr>\n",
       "      <th>3</th>\n",
       "      <td>3</td>\n",
       "      <td>«La présentation de la situation démographique...</td>\n",
       "      <td>5</td>\n",
       "      <td>2022-08-29 14:23:38+00:00</td>\n",
       "      <td>ch_dandres</td>\n",
       "    </tr>\n",
       "    <tr>\n",
       "      <th>4</th>\n",
       "      <td>4</td>\n",
       "      <td>RT @HestiaAI: ...@ch_dandres est aussi ciblé s...</td>\n",
       "      <td>0</td>\n",
       "      <td>2022-08-29 14:17:11+00:00</td>\n",
       "      <td>ch_dandres</td>\n",
       "    </tr>\n",
       "    <tr>\n",
       "      <th>...</th>\n",
       "      <td>...</td>\n",
       "      <td>...</td>\n",
       "      <td>...</td>\n",
       "      <td>...</td>\n",
       "      <td>...</td>\n",
       "    </tr>\n",
       "    <tr>\n",
       "      <th>21763</th>\n",
       "      <td>21763</td>\n",
       "      <td>RT @Bernard_Rappaz: À visionner sans délai. Fo...</td>\n",
       "      <td>0</td>\n",
       "      <td>2020-02-13 22:57:37+00:00</td>\n",
       "      <td>PythonValentine</td>\n",
       "    </tr>\n",
       "    <tr>\n",
       "      <th>21764</th>\n",
       "      <td>21764</td>\n",
       "      <td>Exactement, la finance doit devenir durable si...</td>\n",
       "      <td>13</td>\n",
       "      <td>2020-02-13 20:20:28+00:00</td>\n",
       "      <td>PythonValentine</td>\n",
       "    </tr>\n",
       "    <tr>\n",
       "      <th>21765</th>\n",
       "      <td>21765</td>\n",
       "      <td>RT @LesVertsSuisses: @bglaettli à propos des #...</td>\n",
       "      <td>0</td>\n",
       "      <td>2020-02-12 19:23:51+00:00</td>\n",
       "      <td>PythonValentine</td>\n",
       "    </tr>\n",
       "    <tr>\n",
       "      <th>21766</th>\n",
       "      <td>21766</td>\n",
       "      <td>RT @ffivaz: Je mets ça là, pour me souvenir d'...</td>\n",
       "      <td>0</td>\n",
       "      <td>2020-02-12 10:09:31+00:00</td>\n",
       "      <td>PythonValentine</td>\n",
       "    </tr>\n",
       "    <tr>\n",
       "      <th>21767</th>\n",
       "      <td>21767</td>\n",
       "      <td>RT @PhilippeLebe: Succès inédit pour la Banque...</td>\n",
       "      <td>0</td>\n",
       "      <td>2020-02-11 13:29:13+00:00</td>\n",
       "      <td>PythonValentine</td>\n",
       "    </tr>\n",
       "  </tbody>\n",
       "</table>\n",
       "<p>21768 rows × 5 columns</p>\n",
       "</div>"
      ],
      "text/plain": [
       "       Unnamed: 0                                             tweets  likes  \\\n",
       "0               0  @2xNON_AVS21 Ne vous laissez pas tromper: AVS ...      2   \n",
       "1               1  Les partisans d’#AVS21 tentent de faire peur à...      9   \n",
       "2               2  RT @2xNON_AVS21: Démêlons le vrai du faux! Le ...      0   \n",
       "3               3  «La présentation de la situation démographique...      5   \n",
       "4               4  RT @HestiaAI: ...@ch_dandres est aussi ciblé s...      0   \n",
       "...           ...                                                ...    ...   \n",
       "21763       21763  RT @Bernard_Rappaz: À visionner sans délai. Fo...      0   \n",
       "21764       21764  Exactement, la finance doit devenir durable si...     13   \n",
       "21765       21765  RT @LesVertsSuisses: @bglaettli à propos des #...      0   \n",
       "21766       21766  RT @ffivaz: Je mets ça là, pour me souvenir d'...      0   \n",
       "21767       21767  RT @PhilippeLebe: Succès inédit pour la Banque...      0   \n",
       "\n",
       "                            time    politician_id  \n",
       "0      2022-09-02 09:33:59+00:00       ch_dandres  \n",
       "1      2022-09-02 09:33:04+00:00       ch_dandres  \n",
       "2      2022-09-01 08:10:58+00:00       ch_dandres  \n",
       "3      2022-08-29 14:23:38+00:00       ch_dandres  \n",
       "4      2022-08-29 14:17:11+00:00       ch_dandres  \n",
       "...                          ...              ...  \n",
       "21763  2020-02-13 22:57:37+00:00  PythonValentine  \n",
       "21764  2020-02-13 20:20:28+00:00  PythonValentine  \n",
       "21765  2020-02-12 19:23:51+00:00  PythonValentine  \n",
       "21766  2020-02-12 10:09:31+00:00  PythonValentine  \n",
       "21767  2020-02-11 13:29:13+00:00  PythonValentine  \n",
       "\n",
       "[21768 rows x 5 columns]"
      ]
     },
     "execution_count": 86,
     "metadata": {},
     "output_type": "execute_result"
    }
   ],
   "source": [
    "df"
   ]
  },
  {
   "cell_type": "code",
   "execution_count": null,
   "id": "1d402679",
   "metadata": {},
   "outputs": [],
   "source": [
    "for tweets in df[\"tweets\"]: \n",
    "    df[~df.tweets.str.contains(\"RT\")]"
   ]
  },
  {
   "cell_type": "markdown",
   "id": "2fbe9c44",
   "metadata": {},
   "source": [
    "### Remove Retweets"
   ]
  },
  {
   "cell_type": "code",
   "execution_count": 71,
   "id": "7e84e795",
   "metadata": {},
   "outputs": [],
   "source": [
    "df = df[~df.tweets.str.contains(\"rem\")]"
   ]
  },
  {
   "cell_type": "code",
   "execution_count": 72,
   "id": "06f3748c",
   "metadata": {},
   "outputs": [],
   "source": [
    "#reset index\n",
    "df = df.reset_index(drop=True)"
   ]
  },
  {
   "cell_type": "markdown",
   "id": "c7153641",
   "metadata": {},
   "source": [
    "### Remove URLs"
   ]
  },
  {
   "cell_type": "code",
   "execution_count": 73,
   "id": "82d23624",
   "metadata": {},
   "outputs": [
    {
     "name": "stderr",
     "output_type": "stream",
     "text": [
      "/home/ec2-user/anaconda3/envs/amazonei_pytorch_latest_p37/lib/python3.7/site-packages/ipykernel/__main__.py:1: FutureWarning: The default value of regex will change from True to False in a future version.\n",
      "  if __name__ == '__main__':\n"
     ]
    }
   ],
   "source": [
    "df[\"tweets\"] = df[\"tweets\"].str.replace(r'\\s*https?://\\S+(\\s+|$)', ' ').str.strip()\n"
   ]
  },
  {
   "cell_type": "code",
   "execution_count": 74,
   "id": "377fbbb1",
   "metadata": {},
   "outputs": [
    {
     "data": {
      "text/html": [
       "<div>\n",
       "<style scoped>\n",
       "    .dataframe tbody tr th:only-of-type {\n",
       "        vertical-align: middle;\n",
       "    }\n",
       "\n",
       "    .dataframe tbody tr th {\n",
       "        vertical-align: top;\n",
       "    }\n",
       "\n",
       "    .dataframe thead th {\n",
       "        text-align: right;\n",
       "    }\n",
       "</style>\n",
       "<table border=\"1\" class=\"dataframe\">\n",
       "  <thead>\n",
       "    <tr style=\"text-align: right;\">\n",
       "      <th></th>\n",
       "      <th>Unnamed: 0</th>\n",
       "      <th>tweets</th>\n",
       "      <th>likes</th>\n",
       "      <th>time</th>\n",
       "      <th>politician_id</th>\n",
       "    </tr>\n",
       "  </thead>\n",
       "  <tbody>\n",
       "    <tr>\n",
       "      <th>0</th>\n",
       "      <td>0</td>\n",
       "      <td>@2xNON_AVS21 Ne vous laissez pas tromper: AVS ...</td>\n",
       "      <td>2</td>\n",
       "      <td>2022-09-02 09:33:59+00:00</td>\n",
       "      <td>ch_dandres</td>\n",
       "    </tr>\n",
       "    <tr>\n",
       "      <th>1</th>\n",
       "      <td>1</td>\n",
       "      <td>Les partisans d’#AVS21 tentent de faire peur à...</td>\n",
       "      <td>9</td>\n",
       "      <td>2022-09-02 09:33:04+00:00</td>\n",
       "      <td>ch_dandres</td>\n",
       "    </tr>\n",
       "    <tr>\n",
       "      <th>2</th>\n",
       "      <td>3</td>\n",
       "      <td>«La présentation de la situation démographique...</td>\n",
       "      <td>5</td>\n",
       "      <td>2022-08-29 14:23:38+00:00</td>\n",
       "      <td>ch_dandres</td>\n",
       "    </tr>\n",
       "    <tr>\n",
       "      <th>3</th>\n",
       "      <td>6</td>\n",
       "      <td>Supprimer l’impôt anticipé coûterait 1 milliar...</td>\n",
       "      <td>4</td>\n",
       "      <td>2022-08-25 12:11:45+00:00</td>\n",
       "      <td>ch_dandres</td>\n",
       "    </tr>\n",
       "    <tr>\n",
       "      <th>4</th>\n",
       "      <td>7</td>\n",
       "      <td>par rapport au coût de la campagne internet me...</td>\n",
       "      <td>2</td>\n",
       "      <td>2022-08-24 10:45:35+00:00</td>\n",
       "      <td>ch_dandres</td>\n",
       "    </tr>\n",
       "    <tr>\n",
       "      <th>...</th>\n",
       "      <td>...</td>\n",
       "      <td>...</td>\n",
       "      <td>...</td>\n",
       "      <td>...</td>\n",
       "      <td>...</td>\n",
       "    </tr>\n",
       "    <tr>\n",
       "      <th>12732</th>\n",
       "      <td>21756</td>\n",
       "      <td>Le climat doit être la priorité lors de cette ...</td>\n",
       "      <td>22</td>\n",
       "      <td>2020-02-18 18:09:30+00:00</td>\n",
       "      <td>PythonValentine</td>\n",
       "    </tr>\n",
       "    <tr>\n",
       "      <th>12733</th>\n",
       "      <td>21757</td>\n",
       "      <td></td>\n",
       "      <td>0</td>\n",
       "      <td>2020-02-18 13:27:03+00:00</td>\n",
       "      <td>PythonValentine</td>\n",
       "    </tr>\n",
       "    <tr>\n",
       "      <th>12734</th>\n",
       "      <td>21761</td>\n",
       "      <td>@lecourrier @lematin @letemps @24heuresch</td>\n",
       "      <td>0</td>\n",
       "      <td>2020-02-14 13:45:10+00:00</td>\n",
       "      <td>PythonValentine</td>\n",
       "    </tr>\n",
       "    <tr>\n",
       "      <th>12735</th>\n",
       "      <td>21762</td>\n",
       "      <td>Les auditions sur l'initiative d'interdiction ...</td>\n",
       "      <td>7</td>\n",
       "      <td>2020-02-14 13:40:49+00:00</td>\n",
       "      <td>PythonValentine</td>\n",
       "    </tr>\n",
       "    <tr>\n",
       "      <th>12736</th>\n",
       "      <td>21764</td>\n",
       "      <td>Exactement, la finance doit devenir durable si...</td>\n",
       "      <td>13</td>\n",
       "      <td>2020-02-13 20:20:28+00:00</td>\n",
       "      <td>PythonValentine</td>\n",
       "    </tr>\n",
       "  </tbody>\n",
       "</table>\n",
       "<p>12737 rows × 5 columns</p>\n",
       "</div>"
      ],
      "text/plain": [
       "       Unnamed: 0                                             tweets  likes  \\\n",
       "0               0  @2xNON_AVS21 Ne vous laissez pas tromper: AVS ...      2   \n",
       "1               1  Les partisans d’#AVS21 tentent de faire peur à...      9   \n",
       "2               3  «La présentation de la situation démographique...      5   \n",
       "3               6  Supprimer l’impôt anticipé coûterait 1 milliar...      4   \n",
       "4               7  par rapport au coût de la campagne internet me...      2   \n",
       "...           ...                                                ...    ...   \n",
       "12732       21756  Le climat doit être la priorité lors de cette ...     22   \n",
       "12733       21757                                                         0   \n",
       "12734       21761          @lecourrier @lematin @letemps @24heuresch      0   \n",
       "12735       21762  Les auditions sur l'initiative d'interdiction ...      7   \n",
       "12736       21764  Exactement, la finance doit devenir durable si...     13   \n",
       "\n",
       "                            time    politician_id  \n",
       "0      2022-09-02 09:33:59+00:00       ch_dandres  \n",
       "1      2022-09-02 09:33:04+00:00       ch_dandres  \n",
       "2      2022-08-29 14:23:38+00:00       ch_dandres  \n",
       "3      2022-08-25 12:11:45+00:00       ch_dandres  \n",
       "4      2022-08-24 10:45:35+00:00       ch_dandres  \n",
       "...                          ...              ...  \n",
       "12732  2020-02-18 18:09:30+00:00  PythonValentine  \n",
       "12733  2020-02-18 13:27:03+00:00  PythonValentine  \n",
       "12734  2020-02-14 13:45:10+00:00  PythonValentine  \n",
       "12735  2020-02-14 13:40:49+00:00  PythonValentine  \n",
       "12736  2020-02-13 20:20:28+00:00  PythonValentine  \n",
       "\n",
       "[12737 rows x 5 columns]"
      ]
     },
     "execution_count": 74,
     "metadata": {},
     "output_type": "execute_result"
    }
   ],
   "source": [
    "df"
   ]
  },
  {
   "cell_type": "markdown",
   "id": "19f759fe",
   "metadata": {},
   "source": [
    "### \n",
    "Emojis -> need help"
   ]
  },
  {
   "cell_type": "code",
   "execution_count": 75,
   "id": "1e6ab1ac",
   "metadata": {},
   "outputs": [
    {
     "data": {
      "text/html": [
       "<div>\n",
       "<style scoped>\n",
       "    .dataframe tbody tr th:only-of-type {\n",
       "        vertical-align: middle;\n",
       "    }\n",
       "\n",
       "    .dataframe tbody tr th {\n",
       "        vertical-align: top;\n",
       "    }\n",
       "\n",
       "    .dataframe thead th {\n",
       "        text-align: right;\n",
       "    }\n",
       "</style>\n",
       "<table border=\"1\" class=\"dataframe\">\n",
       "  <thead>\n",
       "    <tr style=\"text-align: right;\">\n",
       "      <th></th>\n",
       "      <th>Unnamed: 0</th>\n",
       "      <th>tweets</th>\n",
       "      <th>likes</th>\n",
       "      <th>time</th>\n",
       "      <th>politician_id</th>\n",
       "    </tr>\n",
       "  </thead>\n",
       "  <tbody>\n",
       "    <tr>\n",
       "      <th>0</th>\n",
       "      <td>0</td>\n",
       "      <td>@2xNON_AVS21 Ne vous laissez pas tromper: AVS ...</td>\n",
       "      <td>2</td>\n",
       "      <td>2022-09-02 09:33:59+00:00</td>\n",
       "      <td>ch_dandres</td>\n",
       "    </tr>\n",
       "    <tr>\n",
       "      <th>1</th>\n",
       "      <td>1</td>\n",
       "      <td>Les partisans d#AVS21 tentent de faire peur  l...</td>\n",
       "      <td>9</td>\n",
       "      <td>2022-09-02 09:33:04+00:00</td>\n",
       "      <td>ch_dandres</td>\n",
       "    </tr>\n",
       "    <tr>\n",
       "      <th>2</th>\n",
       "      <td>3</td>\n",
       "      <td>La prsentation de la situation dmographique es...</td>\n",
       "      <td>5</td>\n",
       "      <td>2022-08-29 14:23:38+00:00</td>\n",
       "      <td>ch_dandres</td>\n",
       "    </tr>\n",
       "    <tr>\n",
       "      <th>3</th>\n",
       "      <td>6</td>\n",
       "      <td>Supprimer limpt anticip coterait 1 milliard  c...</td>\n",
       "      <td>4</td>\n",
       "      <td>2022-08-25 12:11:45+00:00</td>\n",
       "      <td>ch_dandres</td>\n",
       "    </tr>\n",
       "    <tr>\n",
       "      <th>4</th>\n",
       "      <td>7</td>\n",
       "      <td>par rapport au cot de la campagne internet men...</td>\n",
       "      <td>2</td>\n",
       "      <td>2022-08-24 10:45:35+00:00</td>\n",
       "      <td>ch_dandres</td>\n",
       "    </tr>\n",
       "    <tr>\n",
       "      <th>...</th>\n",
       "      <td>...</td>\n",
       "      <td>...</td>\n",
       "      <td>...</td>\n",
       "      <td>...</td>\n",
       "      <td>...</td>\n",
       "    </tr>\n",
       "    <tr>\n",
       "      <th>12732</th>\n",
       "      <td>21756</td>\n",
       "      <td>Le climat doit tre la priorit lors de cette lg...</td>\n",
       "      <td>22</td>\n",
       "      <td>2020-02-18 18:09:30+00:00</td>\n",
       "      <td>PythonValentine</td>\n",
       "    </tr>\n",
       "    <tr>\n",
       "      <th>12733</th>\n",
       "      <td>21757</td>\n",
       "      <td></td>\n",
       "      <td>0</td>\n",
       "      <td>2020-02-18 13:27:03+00:00</td>\n",
       "      <td>PythonValentine</td>\n",
       "    </tr>\n",
       "    <tr>\n",
       "      <th>12734</th>\n",
       "      <td>21761</td>\n",
       "      <td>@lecourrier @lematin @letemps @24heuresch</td>\n",
       "      <td>0</td>\n",
       "      <td>2020-02-14 13:45:10+00:00</td>\n",
       "      <td>PythonValentine</td>\n",
       "    </tr>\n",
       "    <tr>\n",
       "      <th>12735</th>\n",
       "      <td>21762</td>\n",
       "      <td>Les auditions sur l'initiative d'interdiction ...</td>\n",
       "      <td>7</td>\n",
       "      <td>2020-02-14 13:40:49+00:00</td>\n",
       "      <td>PythonValentine</td>\n",
       "    </tr>\n",
       "    <tr>\n",
       "      <th>12736</th>\n",
       "      <td>21764</td>\n",
       "      <td>Exactement, la finance doit devenir durable si...</td>\n",
       "      <td>13</td>\n",
       "      <td>2020-02-13 20:20:28+00:00</td>\n",
       "      <td>PythonValentine</td>\n",
       "    </tr>\n",
       "  </tbody>\n",
       "</table>\n",
       "<p>12737 rows × 5 columns</p>\n",
       "</div>"
      ],
      "text/plain": [
       "      Unnamed: 0                                             tweets likes  \\\n",
       "0              0  @2xNON_AVS21 Ne vous laissez pas tromper: AVS ...     2   \n",
       "1              1  Les partisans d#AVS21 tentent de faire peur  l...     9   \n",
       "2              3  La prsentation de la situation dmographique es...     5   \n",
       "3              6  Supprimer limpt anticip coterait 1 milliard  c...     4   \n",
       "4              7  par rapport au cot de la campagne internet men...     2   \n",
       "...          ...                                                ...   ...   \n",
       "12732      21756  Le climat doit tre la priorit lors de cette lg...    22   \n",
       "12733      21757                                                        0   \n",
       "12734      21761          @lecourrier @lematin @letemps @24heuresch     0   \n",
       "12735      21762  Les auditions sur l'initiative d'interdiction ...     7   \n",
       "12736      21764  Exactement, la finance doit devenir durable si...    13   \n",
       "\n",
       "                            time    politician_id  \n",
       "0      2022-09-02 09:33:59+00:00       ch_dandres  \n",
       "1      2022-09-02 09:33:04+00:00       ch_dandres  \n",
       "2      2022-08-29 14:23:38+00:00       ch_dandres  \n",
       "3      2022-08-25 12:11:45+00:00       ch_dandres  \n",
       "4      2022-08-24 10:45:35+00:00       ch_dandres  \n",
       "...                          ...              ...  \n",
       "12732  2020-02-18 18:09:30+00:00  PythonValentine  \n",
       "12733  2020-02-18 13:27:03+00:00  PythonValentine  \n",
       "12734  2020-02-14 13:45:10+00:00  PythonValentine  \n",
       "12735  2020-02-14 13:40:49+00:00  PythonValentine  \n",
       "12736  2020-02-13 20:20:28+00:00  PythonValentine  \n",
       "\n",
       "[12737 rows x 5 columns]"
      ]
     },
     "execution_count": 75,
     "metadata": {},
     "output_type": "execute_result"
    }
   ],
   "source": [
    "df.astype(str).apply(lambda x: x.str.encode('ascii', 'ignore').str.decode('ascii'))"
   ]
  },
  {
   "cell_type": "markdown",
   "id": "7b740543",
   "metadata": {},
   "source": [
    "### Remove mentions \"@\""
   ]
  },
  {
   "cell_type": "code",
   "execution_count": 76,
   "id": "351a37f3",
   "metadata": {},
   "outputs": [],
   "source": [
    "df['tweets'] = df['tweets'].replace(regex='(@\\w+)|#|&|!',value='')\n"
   ]
  },
  {
   "cell_type": "markdown",
   "id": "8d9bac02",
   "metadata": {},
   "source": [
    "### Remove emptly tweets --> need help "
   ]
  },
  {
   "cell_type": "code",
   "execution_count": 77,
   "id": "181a54ac",
   "metadata": {},
   "outputs": [
    {
     "data": {
      "text/plain": [
       "12737"
      ]
     },
     "execution_count": 77,
     "metadata": {},
     "output_type": "execute_result"
    }
   ],
   "source": [
    "len(df)"
   ]
  },
  {
   "cell_type": "code",
   "execution_count": 79,
   "id": "aee18d11",
   "metadata": {},
   "outputs": [],
   "source": [
    "df.dropna(subset=['tweets'], inplace=True)"
   ]
  },
  {
   "cell_type": "code",
   "execution_count": 80,
   "id": "83fe31d1",
   "metadata": {},
   "outputs": [],
   "source": [
    "#reset index\n",
    "df = df.reset_index(drop=True)"
   ]
  },
  {
   "cell_type": "code",
   "execution_count": 81,
   "id": "5efad9f3",
   "metadata": {},
   "outputs": [],
   "source": [
    "df.to_csv(\"02_clean_tweets_dataset.csv\", encoding='utf-8')"
   ]
  },
  {
   "cell_type": "code",
   "execution_count": null,
   "id": "60dfa71e",
   "metadata": {},
   "outputs": [],
   "source": [
    "# create pipeline for tweets "
   ]
  },
  {
   "cell_type": "code",
   "execution_count": null,
   "id": "34645e26",
   "metadata": {},
   "outputs": [],
   "source": [
    "\n"
   ]
  },
  {
   "cell_type": "code",
   "execution_count": null,
   "id": "a3438be5",
   "metadata": {},
   "outputs": [],
   "source": []
  },
  {
   "cell_type": "code",
   "execution_count": 89,
   "id": "383f41a2",
   "metadata": {},
   "outputs": [
    {
     "data": {
      "text/html": [
       "<div>\n",
       "<style scoped>\n",
       "    .dataframe tbody tr th:only-of-type {\n",
       "        vertical-align: middle;\n",
       "    }\n",
       "\n",
       "    .dataframe tbody tr th {\n",
       "        vertical-align: top;\n",
       "    }\n",
       "\n",
       "    .dataframe thead th {\n",
       "        text-align: right;\n",
       "    }\n",
       "</style>\n",
       "<table border=\"1\" class=\"dataframe\">\n",
       "  <thead>\n",
       "    <tr style=\"text-align: right;\">\n",
       "      <th></th>\n",
       "      <th>Unnamed: 0</th>\n",
       "      <th>tweets</th>\n",
       "      <th>likes</th>\n",
       "      <th>time</th>\n",
       "      <th>politician_id</th>\n",
       "    </tr>\n",
       "  </thead>\n",
       "  <tbody>\n",
       "    <tr>\n",
       "      <th>0</th>\n",
       "      <td>0</td>\n",
       "      <td>@2xNON_AVS21 Ne vous laissez pas tromper: AVS ...</td>\n",
       "      <td>2</td>\n",
       "      <td>2022-09-02 09:33:59+00:00</td>\n",
       "      <td>ch_dandres</td>\n",
       "    </tr>\n",
       "    <tr>\n",
       "      <th>1</th>\n",
       "      <td>1</td>\n",
       "      <td>Les partisans d’#AVS21 tentent de faire peur à...</td>\n",
       "      <td>9</td>\n",
       "      <td>2022-09-02 09:33:04+00:00</td>\n",
       "      <td>ch_dandres</td>\n",
       "    </tr>\n",
       "    <tr>\n",
       "      <th>2</th>\n",
       "      <td>2</td>\n",
       "      <td>RT @2xNON_AVS21: Démêlons le vrai du faux! Le ...</td>\n",
       "      <td>0</td>\n",
       "      <td>2022-09-01 08:10:58+00:00</td>\n",
       "      <td>ch_dandres</td>\n",
       "    </tr>\n",
       "    <tr>\n",
       "      <th>3</th>\n",
       "      <td>3</td>\n",
       "      <td>«La présentation de la situation démographique...</td>\n",
       "      <td>5</td>\n",
       "      <td>2022-08-29 14:23:38+00:00</td>\n",
       "      <td>ch_dandres</td>\n",
       "    </tr>\n",
       "    <tr>\n",
       "      <th>4</th>\n",
       "      <td>4</td>\n",
       "      <td>RT @HestiaAI: ...@ch_dandres est aussi ciblé s...</td>\n",
       "      <td>0</td>\n",
       "      <td>2022-08-29 14:17:11+00:00</td>\n",
       "      <td>ch_dandres</td>\n",
       "    </tr>\n",
       "    <tr>\n",
       "      <th>...</th>\n",
       "      <td>...</td>\n",
       "      <td>...</td>\n",
       "      <td>...</td>\n",
       "      <td>...</td>\n",
       "      <td>...</td>\n",
       "    </tr>\n",
       "    <tr>\n",
       "      <th>21763</th>\n",
       "      <td>21763</td>\n",
       "      <td>RT @Bernard_Rappaz: À visionner sans délai. Fo...</td>\n",
       "      <td>0</td>\n",
       "      <td>2020-02-13 22:57:37+00:00</td>\n",
       "      <td>PythonValentine</td>\n",
       "    </tr>\n",
       "    <tr>\n",
       "      <th>21764</th>\n",
       "      <td>21764</td>\n",
       "      <td>Exactement, la finance doit devenir durable si...</td>\n",
       "      <td>13</td>\n",
       "      <td>2020-02-13 20:20:28+00:00</td>\n",
       "      <td>PythonValentine</td>\n",
       "    </tr>\n",
       "    <tr>\n",
       "      <th>21765</th>\n",
       "      <td>21765</td>\n",
       "      <td>RT @LesVertsSuisses: @bglaettli à propos des #...</td>\n",
       "      <td>0</td>\n",
       "      <td>2020-02-12 19:23:51+00:00</td>\n",
       "      <td>PythonValentine</td>\n",
       "    </tr>\n",
       "    <tr>\n",
       "      <th>21766</th>\n",
       "      <td>21766</td>\n",
       "      <td>RT @ffivaz: Je mets ça là, pour me souvenir d'...</td>\n",
       "      <td>0</td>\n",
       "      <td>2020-02-12 10:09:31+00:00</td>\n",
       "      <td>PythonValentine</td>\n",
       "    </tr>\n",
       "    <tr>\n",
       "      <th>21767</th>\n",
       "      <td>21767</td>\n",
       "      <td>RT @PhilippeLebe: Succès inédit pour la Banque...</td>\n",
       "      <td>0</td>\n",
       "      <td>2020-02-11 13:29:13+00:00</td>\n",
       "      <td>PythonValentine</td>\n",
       "    </tr>\n",
       "  </tbody>\n",
       "</table>\n",
       "<p>21768 rows × 5 columns</p>\n",
       "</div>"
      ],
      "text/plain": [
       "       Unnamed: 0                                             tweets  likes  \\\n",
       "0               0  @2xNON_AVS21 Ne vous laissez pas tromper: AVS ...      2   \n",
       "1               1  Les partisans d’#AVS21 tentent de faire peur à...      9   \n",
       "2               2  RT @2xNON_AVS21: Démêlons le vrai du faux! Le ...      0   \n",
       "3               3  «La présentation de la situation démographique...      5   \n",
       "4               4  RT @HestiaAI: ...@ch_dandres est aussi ciblé s...      0   \n",
       "...           ...                                                ...    ...   \n",
       "21763       21763  RT @Bernard_Rappaz: À visionner sans délai. Fo...      0   \n",
       "21764       21764  Exactement, la finance doit devenir durable si...     13   \n",
       "21765       21765  RT @LesVertsSuisses: @bglaettli à propos des #...      0   \n",
       "21766       21766  RT @ffivaz: Je mets ça là, pour me souvenir d'...      0   \n",
       "21767       21767  RT @PhilippeLebe: Succès inédit pour la Banque...      0   \n",
       "\n",
       "                            time    politician_id  \n",
       "0      2022-09-02 09:33:59+00:00       ch_dandres  \n",
       "1      2022-09-02 09:33:04+00:00       ch_dandres  \n",
       "2      2022-09-01 08:10:58+00:00       ch_dandres  \n",
       "3      2022-08-29 14:23:38+00:00       ch_dandres  \n",
       "4      2022-08-29 14:17:11+00:00       ch_dandres  \n",
       "...                          ...              ...  \n",
       "21763  2020-02-13 22:57:37+00:00  PythonValentine  \n",
       "21764  2020-02-13 20:20:28+00:00  PythonValentine  \n",
       "21765  2020-02-12 19:23:51+00:00  PythonValentine  \n",
       "21766  2020-02-12 10:09:31+00:00  PythonValentine  \n",
       "21767  2020-02-11 13:29:13+00:00  PythonValentine  \n",
       "\n",
       "[21768 rows x 5 columns]"
      ]
     },
     "execution_count": 89,
     "metadata": {},
     "output_type": "execute_result"
    }
   ],
   "source": [
    "df"
   ]
  },
  {
   "cell_type": "markdown",
   "id": "5e7fc0a4",
   "metadata": {},
   "source": [
    "# Cleaning pipeline using function"
   ]
  },
  {
   "cell_type": "code",
   "execution_count": null,
   "id": "29fc593a",
   "metadata": {},
   "outputs": [],
   "source": [
    "\n",
    "#reset index\n",
    "df = df.reset_index(drop=True)\n",
    "df = df[~df.tweets.str.contains(\"RT\")]"
   ]
  },
  {
   "cell_type": "code",
   "execution_count": 164,
   "id": "a89ae2a3",
   "metadata": {},
   "outputs": [],
   "source": [
    "#remove tweets from df \n",
    "df = df[~df.tweets.str.contains(\"RT\")]\n",
    "#reset index\n",
    "df = df.reset_index(drop=True)\n",
    "\n",
    "def cleaner(tweet):\n",
    "    #remove RTs\n",
    "    #how do we incorporate this? ? and reset index\n",
    "    #tweet = [~tweet.str.contains(\"RT\")]\n",
    "        df = df[~df.tweets.str.contains(\"RT\")]\n",
    "    #reset index\n",
    "    df = df.reset_index(drop=True)\n",
    "    #remove urls\n",
    "    tweet = re.sub(r\"(?:\\@|http?\\://|https?\\://|www)\\S+\", \"\", tweet) #Remove http links\n",
    "    #remove mentions\n",
    "    tweet = re.sub(\"@[A-Za-z0-9]+\",\"\",tweet) #Remove @ sign\n",
    "    #remove hash \n",
    "    tweet = tweet.replace(\"#\", \"\").replace(\"_\", \" \") #Remove hashtag sign but keep the text\n",
    "    #remove emojis\n",
    "    EMOJI_PATTERN = re.compile(\"[\"\n",
    "                           u\"\\U0001F600-\\U0001F64F\"  # emoticons\n",
    "                           u\"\\U0001F300-\\U0001F5FF\"  # symbols & pictographs\n",
    "                           u\"\\U0001F680-\\U0001F6FF\"  # transport & map symbols\n",
    "                           u\"\\U0001F1E0-\\U0001F1FF\"  # flags (iOS)\n",
    "                           u\"\\U00002702-\\U000027B0\"\n",
    "                           u\"\\U000024C2-\\U0001F251\"\n",
    "                           u\"\\U0001f914-\\U0001f914\"\n",
    "                           \"]+\", flags=re.UNICODE)\n",
    "    tweet = EMOJI_PATTERN.sub(r'', tweet)\n",
    "    \n",
    "    #return tweet\n",
    "    return tweet\n",
    "    \n"
   ]
  },
  {
   "cell_type": "code",
   "execution_count": 167,
   "id": "05a3058e",
   "metadata": {},
   "outputs": [],
   "source": [
    "emoji_text =  \"Hi 🤔 How is your 🙈 and 😌. Have a nice weekend 💕👭👙 💋💋, @myamazingbf #lovehimsomuch https://stackoverflow.com/questions/33404752/removing-emojis-from-a-string-in-python/50602709#50602709\""
   ]
  },
  {
   "cell_type": "code",
   "execution_count": 168,
   "id": "db32da05",
   "metadata": {},
   "outputs": [
    {
     "data": {
      "text/plain": [
       "'Hi  How is your  and . Have a nice weekend  ,  lovehimsomuch '"
      ]
     },
     "execution_count": 168,
     "metadata": {},
     "output_type": "execute_result"
    }
   ],
   "source": [
    "cleaner(emoji_text)"
   ]
  },
  {
   "cell_type": "code",
   "execution_count": null,
   "id": "503ef244",
   "metadata": {},
   "outputs": [],
   "source": [
    "#knowing the emoji code \n",
    "\n",
    "import emoji\n",
    "s = '🤣'\n",
    "print(s.encode('unicode-escape').decode('ASCII'))"
   ]
  },
  {
   "cell_type": "code",
   "execution_count": 145,
   "id": "9fc1a6ab",
   "metadata": {},
   "outputs": [
    {
     "name": "stdout",
     "output_type": "stream",
     "text": [
      "This dog 😂\n",
      "This dog \n"
     ]
    }
   ],
   "source": [
    "text = u'This dog \\U0001f602'\n",
    "print(text) # with emoji\n",
    "\n",
    "emoji_pattern = re.compile(\"[\"\n",
    "        u\"\\U0001F600-\\U0001F64F\"  # emoticons\n",
    "        u\"\\U0001F300-\\U0001F5FF\"  # symbols & pictographs\n",
    "        u\"\\U0001F680-\\U0001F6FF\"  # transport & map symbols\n",
    "        u\"\\U0001F1E0-\\U0001F1FF\"  # flags (iOS)\n",
    "                           \"]+\", flags=re.UNICODE)\n",
    "print(emoji_pattern.sub(r'', text)) # no emoji"
   ]
  },
  {
   "cell_type": "code",
   "execution_count": 163,
   "id": "80c3bb7f",
   "metadata": {},
   "outputs": [
    {
     "data": {
      "text/plain": [
       "'Hi  How is your  and . Have a nice weekend  '"
      ]
     },
     "execution_count": 163,
     "metadata": {},
     "output_type": "execute_result"
    }
   ],
   "source": [
    "remove_emojis(emoji_text)"
   ]
  },
  {
   "cell_type": "code",
   "execution_count": 122,
   "id": "79b1b4e6",
   "metadata": {},
   "outputs": [
    {
     "data": {
      "text/plain": [
       "'I am   lovemylife'"
      ]
     },
     "execution_count": 122,
     "metadata": {},
     "output_type": "execute_result"
    }
   ],
   "source": [
    "cleaner(tweet_camille)"
   ]
  },
  {
   "cell_type": "code",
   "execution_count": null,
   "id": "3b81450d",
   "metadata": {},
   "outputs": [],
   "source": []
  }
 ],
 "metadata": {
  "kernelspec": {
   "display_name": "conda_amazonei_pytorch_latest_p37",
   "language": "python",
   "name": "conda_amazonei_pytorch_latest_p37"
  },
  "language_info": {
   "codemirror_mode": {
    "name": "ipython",
    "version": 3
   },
   "file_extension": ".py",
   "mimetype": "text/x-python",
   "name": "python",
   "nbconvert_exporter": "python",
   "pygments_lexer": "ipython3",
   "version": "3.7.12"
  }
 },
 "nbformat": 4,
 "nbformat_minor": 5
}
