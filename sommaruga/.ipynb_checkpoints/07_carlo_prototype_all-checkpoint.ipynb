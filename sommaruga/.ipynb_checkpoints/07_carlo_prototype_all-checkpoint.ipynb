{
 "cells": [
  {
   "cell_type": "code",
   "execution_count": null,
   "id": "0d31cf53",
   "metadata": {},
   "outputs": [],
   "source": [
    "#load df_questions\n",
    "# join all tweets and create context vector for BERT\n",
    "# use Bert QA\n",
    "# missing column in df_questions "
   ]
  },
  {
   "cell_type": "markdown",
   "id": "f025425e",
   "metadata": {},
   "source": [
    "## Import libraries"
   ]
  },
  {
   "cell_type": "code",
   "execution_count": 2,
   "id": "04418254",
   "metadata": {},
   "outputs": [],
   "source": [
    "import pandas as pd\n",
    "import math\n",
    "from transformers import pipeline"
   ]
  },
  {
   "cell_type": "markdown",
   "id": "6d1d3e75",
   "metadata": {},
   "source": [
    "## Import tweet csv"
   ]
  },
  {
   "cell_type": "code",
   "execution_count": 3,
   "id": "5bb0474f",
   "metadata": {},
   "outputs": [],
   "source": [
    "df = pd.read_csv(\"./csv/df_translated_tweets_clean.csv\")"
   ]
  },
  {
   "cell_type": "code",
   "execution_count": 4,
   "id": "d809fc13",
   "metadata": {},
   "outputs": [
    {
     "data": {
      "text/html": [
       "<div>\n",
       "<style scoped>\n",
       "    .dataframe tbody tr th:only-of-type {\n",
       "        vertical-align: middle;\n",
       "    }\n",
       "\n",
       "    .dataframe tbody tr th {\n",
       "        vertical-align: top;\n",
       "    }\n",
       "\n",
       "    .dataframe thead th {\n",
       "        text-align: right;\n",
       "    }\n",
       "</style>\n",
       "<table border=\"1\" class=\"dataframe\">\n",
       "  <thead>\n",
       "    <tr style=\"text-align: right;\">\n",
       "      <th></th>\n",
       "      <th>Unnamed: 0</th>\n",
       "      <th>tweets</th>\n",
       "      <th>likes</th>\n",
       "      <th>time</th>\n",
       "      <th>politician_id</th>\n",
       "      <th>language</th>\n",
       "      <th>translated_tweets</th>\n",
       "    </tr>\n",
       "  </thead>\n",
       "  <tbody>\n",
       "    <tr>\n",
       "      <th>0</th>\n",
       "      <td>0</td>\n",
       "      <td>Présentation aujourd’hui de l’appel de la soci...</td>\n",
       "      <td>22</td>\n",
       "      <td>2022-11-28 17:44:18+00:00</td>\n",
       "      <td>CarloSommaruga</td>\n",
       "      <td>((0, 270, 'FRENCH', 'fr'),)</td>\n",
       "      <td>Today's presentation of the appeal of civil so...</td>\n",
       "    </tr>\n",
       "    <tr>\n",
       "      <th>1</th>\n",
       "      <td>1</td>\n",
       "      <td>Solidarité avec les infirmières et infirmiers ...</td>\n",
       "      <td>9</td>\n",
       "      <td>2022-11-26 13:32:53+00:00</td>\n",
       "      <td>CarloSommaruga</td>\n",
       "      <td>((0, 139, 'FRENCH', 'fr'),)</td>\n",
       "      <td>Solidarity with nurses who in the federal squa...</td>\n",
       "    </tr>\n",
       "    <tr>\n",
       "      <th>2</th>\n",
       "      <td>2</td>\n",
       "      <td>Bravo à Elisabeth Beaune Schneider et Eva Herz...</td>\n",
       "      <td>15</td>\n",
       "      <td>2022-11-26 12:53:43+00:00</td>\n",
       "      <td>CarloSommaruga</td>\n",
       "      <td>((0, 70, 'FRENCH', 'fr'),)</td>\n",
       "      <td>Congratulations to Elisabeth Beaune Schneider ...</td>\n",
       "    </tr>\n",
       "    <tr>\n",
       "      <th>3</th>\n",
       "      <td>3</td>\n",
       "      <td>Groupe socialiste aux Chambres fédérales au co...</td>\n",
       "      <td>0</td>\n",
       "      <td>2022-11-26 12:28:54+00:00</td>\n",
       "      <td>CarloSommaruga</td>\n",
       "      <td>((0, 147, 'FRENCH', 'fr'),)</td>\n",
       "      <td>Socialist Group in the Federal Chambers during...</td>\n",
       "    </tr>\n",
       "    <tr>\n",
       "      <th>4</th>\n",
       "      <td>4</td>\n",
       "      <td>Après 12 ans au Conseil fédéral, la Conseillèr...</td>\n",
       "      <td>34</td>\n",
       "      <td>2022-11-02 14:07:45+00:00</td>\n",
       "      <td>CarloSommaruga</td>\n",
       "      <td>((0, 287, 'FRENCH', 'fr'),)</td>\n",
       "      <td>After 12 years at the Federal Council, Federal...</td>\n",
       "    </tr>\n",
       "    <tr>\n",
       "      <th>...</th>\n",
       "      <td>...</td>\n",
       "      <td>...</td>\n",
       "      <td>...</td>\n",
       "      <td>...</td>\n",
       "      <td>...</td>\n",
       "      <td>...</td>\n",
       "      <td>...</td>\n",
       "    </tr>\n",
       "    <tr>\n",
       "      <th>1617</th>\n",
       "      <td>1617</td>\n",
       "      <td>Comment le premier parti de suisse peut-il pro...</td>\n",
       "      <td>2</td>\n",
       "      <td>2015-12-08 17:13:38+00:00</td>\n",
       "      <td>CarloSommaruga</td>\n",
       "      <td>((0, 123, 'FRENCH', 'fr'),)</td>\n",
       "      <td>How can the first Swiss party propose so much ...</td>\n",
       "    </tr>\n",
       "    <tr>\n",
       "      <th>1618</th>\n",
       "      <td>1618</td>\n",
       "      <td>CH-EU:73% des entreprises craignent que résili...</td>\n",
       "      <td>0</td>\n",
       "      <td>2015-12-08 10:03:12+00:00</td>\n",
       "      <td>CarloSommaruga</td>\n",
       "      <td>((0, 120, 'FRENCH', 'fr'),)</td>\n",
       "      <td>CH-EU:73% of companies fear that termination o...</td>\n",
       "    </tr>\n",
       "    <tr>\n",
       "      <th>1619</th>\n",
       "      <td>1619</td>\n",
       "      <td>Suisse: De 2009 à 2014, le nombre de jeunes pr...</td>\n",
       "      <td>0</td>\n",
       "      <td>2015-12-07 08:51:27+00:00</td>\n",
       "      <td>CarloSommaruga</td>\n",
       "      <td>((0, 119, 'FRENCH', 'fr'),)</td>\n",
       "      <td>Switzerland: From 2009 to 2014, the number of ...</td>\n",
       "    </tr>\n",
       "    <tr>\n",
       "      <th>1620</th>\n",
       "      <td>1620</td>\n",
       "      <td>Suisse-UE: Clause de sauvegarde unilatérale: P...</td>\n",
       "      <td>1</td>\n",
       "      <td>2015-12-05 15:58:37+00:00</td>\n",
       "      <td>CarloSommaruga</td>\n",
       "      <td>((0, 118, 'FRENCH', 'fr'),)</td>\n",
       "      <td>Switzerland-EU: Unilateral safeguard clause: P...</td>\n",
       "    </tr>\n",
       "    <tr>\n",
       "      <th>1621</th>\n",
       "      <td>1621</td>\n",
       "      <td>PS Suisse - réaliste garant des libertés indiv...</td>\n",
       "      <td>1</td>\n",
       "      <td>2015-12-05 13:53:08+00:00</td>\n",
       "      <td>CarloSommaruga</td>\n",
       "      <td>((0, 142, 'FRENCH', 'fr'),)</td>\n",
       "      <td>PS Switzerland - realistic guarantor of indivi...</td>\n",
       "    </tr>\n",
       "  </tbody>\n",
       "</table>\n",
       "<p>1622 rows × 7 columns</p>\n",
       "</div>"
      ],
      "text/plain": [
       "      Unnamed: 0                                             tweets  likes  \\\n",
       "0              0  Présentation aujourd’hui de l’appel de la soci...     22   \n",
       "1              1  Solidarité avec les infirmières et infirmiers ...      9   \n",
       "2              2  Bravo à Elisabeth Beaune Schneider et Eva Herz...     15   \n",
       "3              3  Groupe socialiste aux Chambres fédérales au co...      0   \n",
       "4              4  Après 12 ans au Conseil fédéral, la Conseillèr...     34   \n",
       "...          ...                                                ...    ...   \n",
       "1617        1617  Comment le premier parti de suisse peut-il pro...      2   \n",
       "1618        1618  CH-EU:73% des entreprises craignent que résili...      0   \n",
       "1619        1619  Suisse: De 2009 à 2014, le nombre de jeunes pr...      0   \n",
       "1620        1620  Suisse-UE: Clause de sauvegarde unilatérale: P...      1   \n",
       "1621        1621  PS Suisse - réaliste garant des libertés indiv...      1   \n",
       "\n",
       "                           time   politician_id                     language  \\\n",
       "0     2022-11-28 17:44:18+00:00  CarloSommaruga  ((0, 270, 'FRENCH', 'fr'),)   \n",
       "1     2022-11-26 13:32:53+00:00  CarloSommaruga  ((0, 139, 'FRENCH', 'fr'),)   \n",
       "2     2022-11-26 12:53:43+00:00  CarloSommaruga   ((0, 70, 'FRENCH', 'fr'),)   \n",
       "3     2022-11-26 12:28:54+00:00  CarloSommaruga  ((0, 147, 'FRENCH', 'fr'),)   \n",
       "4     2022-11-02 14:07:45+00:00  CarloSommaruga  ((0, 287, 'FRENCH', 'fr'),)   \n",
       "...                         ...             ...                          ...   \n",
       "1617  2015-12-08 17:13:38+00:00  CarloSommaruga  ((0, 123, 'FRENCH', 'fr'),)   \n",
       "1618  2015-12-08 10:03:12+00:00  CarloSommaruga  ((0, 120, 'FRENCH', 'fr'),)   \n",
       "1619  2015-12-07 08:51:27+00:00  CarloSommaruga  ((0, 119, 'FRENCH', 'fr'),)   \n",
       "1620  2015-12-05 15:58:37+00:00  CarloSommaruga  ((0, 118, 'FRENCH', 'fr'),)   \n",
       "1621  2015-12-05 13:53:08+00:00  CarloSommaruga  ((0, 142, 'FRENCH', 'fr'),)   \n",
       "\n",
       "                                      translated_tweets  \n",
       "0     Today's presentation of the appeal of civil so...  \n",
       "1     Solidarity with nurses who in the federal squa...  \n",
       "2     Congratulations to Elisabeth Beaune Schneider ...  \n",
       "3     Socialist Group in the Federal Chambers during...  \n",
       "4     After 12 years at the Federal Council, Federal...  \n",
       "...                                                 ...  \n",
       "1617  How can the first Swiss party propose so much ...  \n",
       "1618  CH-EU:73% of companies fear that termination o...  \n",
       "1619  Switzerland: From 2009 to 2014, the number of ...  \n",
       "1620  Switzerland-EU: Unilateral safeguard clause: P...  \n",
       "1621  PS Switzerland - realistic guarantor of indivi...  \n",
       "\n",
       "[1622 rows x 7 columns]"
      ]
     },
     "execution_count": 4,
     "metadata": {},
     "output_type": "execute_result"
    }
   ],
   "source": [
    "df"
   ]
  },
  {
   "cell_type": "markdown",
   "id": "9d92206a",
   "metadata": {},
   "source": [
    "## Join all tweets"
   ]
  },
  {
   "cell_type": "code",
   "execution_count": 15,
   "id": "f00bd472",
   "metadata": {},
   "outputs": [],
   "source": [
    "#join all tweets\n",
    "\n",
    "context_tweets = []\n",
    "for i in range(len(df)):\n",
    "    context_tweets.append(df.iloc[i]['translated_tweets'])\n",
    "\n",
    "#join all the context tweets\n",
    "context_tweets_all = ' '.join(context_tweets)     "
   ]
  },
  {
   "cell_type": "markdown",
   "id": "8cf7df07",
   "metadata": {},
   "source": [
    "## Test on one tweet"
   ]
  },
  {
   "cell_type": "code",
   "execution_count": 17,
   "id": "5773e299",
   "metadata": {},
   "outputs": [],
   "source": [
    "question_paternity_leave = \"Would you like to introduce a paternity leave? \"\n",
    "qa_model = pipeline(\"question-answering\", model = \"srcocotero/bert-large-qa\")\n",
    "#qa_model(question = question_paternity_leave, context = context_tweets_all)"
   ]
  },
  {
   "cell_type": "code",
   "execution_count": 217,
   "id": "c9484de2",
   "metadata": {},
   "outputs": [
    {
     "data": {
      "text/plain": [
       "'eral Council ? Of course not ! Proportional opening measures to avoid '"
      ]
     },
     "execution_count": 217,
     "metadata": {},
     "output_type": "execute_result"
    }
   ],
   "source": [
    "context_tweets_all[40530:40600]"
   ]
  },
  {
   "cell_type": "markdown",
   "id": "ec565ee5",
   "metadata": {},
   "source": [
    "## Import Questions"
   ]
  },
  {
   "cell_type": "code",
   "execution_count": 18,
   "id": "702adeec",
   "metadata": {},
   "outputs": [],
   "source": [
    "df_questions = pd.read_csv('./csv/carlo_questions_keywords.csv', sep=';', encoding='latin-1')"
   ]
  },
  {
   "cell_type": "code",
   "execution_count": 19,
   "id": "e3374601",
   "metadata": {},
   "outputs": [],
   "source": [
    "df_questions[\"question\"] = df_questions['question'].str[4:-2]\n",
    "df_questions.loc[df_questions['smartvote_answers'] >= 3, 'binary_smarvote_answer'] = 0\n",
    "df_questions.loc[df_questions['smartvote_answers'] <= 2, 'binary_smarvote_answer'] = 1"
   ]
  },
  {
   "cell_type": "code",
   "execution_count": 25,
   "id": "682079e1",
   "metadata": {},
   "outputs": [
    {
     "data": {
      "text/plain": [
       "{'score': 0.43162935972213745, 'start': 136646, 'end': 136647, 'answer': '.'}"
      ]
     },
     "execution_count": 25,
     "metadata": {},
     "output_type": "execute_result"
    }
   ],
   "source": [
    "df_questions['huggingface_answers'][0]"
   ]
  },
  {
   "cell_type": "markdown",
   "id": "53cb4bec",
   "metadata": {},
   "source": [
    "## Run huggingface model"
   ]
  },
  {
   "cell_type": "code",
   "execution_count": 21,
   "id": "f118f1d9",
   "metadata": {},
   "outputs": [],
   "source": [
    "def qa(question_smartvote):\n",
    "    return qa_model(question = question_smartvote , context = context_tweets_all)"
   ]
  },
  {
   "cell_type": "code",
   "execution_count": 241,
   "id": "fbfeeff8",
   "metadata": {},
   "outputs": [],
   "source": []
  },
  {
   "cell_type": "code",
   "execution_count": 268,
   "id": "abf1750d",
   "metadata": {},
   "outputs": [],
   "source": [
    "# saved to csv\n",
    "#df_questions.to_csv(\"questions_model.csv\")"
   ]
  },
  {
   "cell_type": "code",
   "execution_count": null,
   "id": "2a081762",
   "metadata": {},
   "outputs": [
    {
     "name": "stderr",
     "output_type": "stream",
     "text": [
      "/home/ec2-user/anaconda3/envs/amazonei_mxnet_p36/lib/python3.6/site-packages/numpy/core/_asarray.py:83: VisibleDeprecationWarning: Creating an ndarray from ragged nested sequences (which is a list-or-tuple of lists-or-tuples-or ndarrays with different lengths or shapes) is deprecated. If you meant to do this, you must specify 'dtype=object' when creating the ndarray\n",
      "  return array(a, dtype, copy=False, order=order)\n"
     ]
    }
   ],
   "source": [
    "#gonna take long!!\n",
    "df_questions[\"huggingface_answers\"] = df_questions[\"Simplified question\"].apply(qa)\n"
   ]
  },
  {
   "cell_type": "code",
   "execution_count": 27,
   "id": "0db92b91",
   "metadata": {},
   "outputs": [],
   "source": [
    "df_questions.to_csv(\"./csv/questions/df_questions_context_all.csv\" )\n"
   ]
  },
  {
   "cell_type": "code",
   "execution_count": null,
   "id": "61939c3f",
   "metadata": {},
   "outputs": [],
   "source": []
  }
 ],
 "metadata": {
  "kernelspec": {
   "display_name": "conda_amazonei_mxnet_p36",
   "language": "python",
   "name": "conda_amazonei_mxnet_p36"
  },
  "language_info": {
   "codemirror_mode": {
    "name": "ipython",
    "version": 3
   },
   "file_extension": ".py",
   "mimetype": "text/x-python",
   "name": "python",
   "nbconvert_exporter": "python",
   "pygments_lexer": "ipython3",
   "version": "3.6.13"
  }
 },
 "nbformat": 4,
 "nbformat_minor": 5
}
