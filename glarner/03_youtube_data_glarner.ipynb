{
 "cells": [
  {
   "cell_type": "markdown",
   "id": "f75bc008",
   "metadata": {},
   "source": [
    "## Import libraries"
   ]
  },
  {
   "cell_type": "code",
   "execution_count": 1,
   "id": "2c83a46c",
   "metadata": {},
   "outputs": [
    {
     "name": "stdout",
     "output_type": "stream",
     "text": [
      "Looking in indexes: https://pypi.org/simple, https://pip.repos.neuron.amazonaws.com\n",
      "Requirement already satisfied: youtube-transcript-api in /home/ec2-user/anaconda3/envs/amazonei_mxnet_p36/lib/python3.6/site-packages (0.5.0)\n",
      "Requirement already satisfied: requests in /home/ec2-user/anaconda3/envs/amazonei_mxnet_p36/lib/python3.6/site-packages (from youtube-transcript-api) (2.27.1)\n",
      "Requirement already satisfied: urllib3<1.27,>=1.21.1 in /home/ec2-user/anaconda3/envs/amazonei_mxnet_p36/lib/python3.6/site-packages (from requests->youtube-transcript-api) (1.26.8)\n",
      "Requirement already satisfied: charset-normalizer~=2.0.0 in /home/ec2-user/anaconda3/envs/amazonei_mxnet_p36/lib/python3.6/site-packages (from requests->youtube-transcript-api) (2.0.12)\n",
      "Requirement already satisfied: certifi>=2017.4.17 in /home/ec2-user/anaconda3/envs/amazonei_mxnet_p36/lib/python3.6/site-packages (from requests->youtube-transcript-api) (2021.5.30)\n",
      "Requirement already satisfied: idna<4,>=2.5 in /home/ec2-user/anaconda3/envs/amazonei_mxnet_p36/lib/python3.6/site-packages (from requests->youtube-transcript-api) (3.1)\n"
     ]
    }
   ],
   "source": [
    "!pip3 install youtube-transcript-api"
   ]
  },
  {
   "cell_type": "code",
   "execution_count": 2,
   "id": "b85d1088",
   "metadata": {},
   "outputs": [],
   "source": [
    "from youtube_transcript_api import YouTubeTranscriptApi\n",
    "from transformers import pipeline\n",
    "import pickle\n",
    "import pandas as pd\n",
    "from collections import defaultdict\n",
    "from tqdm import tqdm\n",
    "import sklearn\n",
    "from sklearn.metrics import f1_score\n",
    "from matplotlib import pyplot as plt\n",
    "import scikitplot as skplt\n"
   ]
  },
  {
   "cell_type": "markdown",
   "id": "b5d8404d",
   "metadata": {},
   "source": [
    "## Get captions from videos"
   ]
  },
  {
   "cell_type": "code",
   "execution_count": 26,
   "id": "10196481",
   "metadata": {},
   "outputs": [],
   "source": [
    "video_list = ['8zQxifWGpyc', 'X33IC8eZHsw']\n",
    "language_list = ['de', 'de']\n",
    "video_trans = \"\""
   ]
  },
  {
   "cell_type": "code",
   "execution_count": 27,
   "id": "deb07248",
   "metadata": {},
   "outputs": [],
   "source": [
    "for idx, video_name in enumerate(video_list):\n",
    "    srt = YouTubeTranscriptApi.get_transcript(video_name, languages=[language_list[idx]])\n",
    "    for i in range(len(srt)):\n",
    "        s = srt[i]['text'] + ' '\n",
    "        video_trans += s\n"
   ]
  },
  {
   "cell_type": "markdown",
   "id": "680b5466",
   "metadata": {},
   "source": [
    "## Translate captions"
   ]
  },
  {
   "cell_type": "code",
   "execution_count": 31,
   "id": "d4ad84cf",
   "metadata": {},
   "outputs": [],
   "source": [
    "model_checkpoint = \"Helsinki-NLP/opus-mt-de-en\"\n",
    "translator = pipeline(\"translation\", model=model_checkpoint)\n"
   ]
  },
  {
   "cell_type": "code",
   "execution_count": 32,
   "id": "8d157e62",
   "metadata": {},
   "outputs": [],
   "source": [
    "video_trans_split =  video_trans.split(' ')"
   ]
  },
  {
   "cell_type": "code",
   "execution_count": 33,
   "id": "0cf6922e",
   "metadata": {},
   "outputs": [],
   "source": [
    "n_words = len(video_trans_split)\n",
    "batch_size = 200\n",
    "trans_text = []\n",
    "n_batches = n_words//batch_size\n",
    "for i in range(n_batches):\n",
    "    batch_text = ' '.join(video_trans_split[i*batch_size: (i+1)*batch_size])\n",
    "    trans_text.append(translator(batch_text)[0]['translation_text'])"
   ]
  },
  {
   "cell_type": "code",
   "execution_count": 34,
   "id": "bd501dee",
   "metadata": {},
   "outputs": [],
   "source": [
    "trans_text.append(translator(' '.join(video_trans_split[(n_batches * batch_size):]))[0]['translation_text'])"
   ]
  },
  {
   "cell_type": "code",
   "execution_count": 35,
   "id": "0d9e2bd5",
   "metadata": {},
   "outputs": [
    {
     "data": {
      "text/plain": [
       "['the name welcome to the svp offers online order can also be fully answered where you have mandat carriers and mandat carriers live place nothing current topic name and about the question answers questions was the laxe comments giga and wog connection your name is andreas rettig bp the svp Switzerland responsible communication and the foreign policy commission of the standard ecx connect where you can find interesting information with the participants that the commission of uno migrations practically diets what means that I rather reason to shout yes that is a reason to behave like simone thomalla brahms serve why there is agreement with those a commission then what it has it often long so which means fairly moderate or agree that it is very binding to us and its idol I interrupt because what is really to be harmonious in front of the switzer will then also be looking for anono migration path that would be absolutely devastating for this country you have to imagine about the dust thrown away so that it is very important to us and its idol is really important to understand how it will be necessary to protect me',\n",
       " 'also the contract documents mode you have to present your speech with it is if I just turn to you then that Hofmann word of the specifika so legalized before illegal day of the season paper again by software the question poses by the way information search and social institutions and migration authorities always allowed what with eleven the still must take over social assistance also some of the punishment of the emigrants especially people in the country the siren to do business at once the day is a single case where the Swiss company sold the spirit of the country then would be quite similar and your 20 violations of the ekg is written by the fact that they were competent two equal in the room the terms about the contract in the house in front of the classic software is called we commit ourselves like commit to tweet what there is for possibility now the package that you would be sure to be no one that the federal council must be given the permission the terms goes yes so the idea creates the micro wing or publicly where you are in the country is twelve and I would count the trajectory of the country',\n",
       " 'for me has created so that is yes and quieter that have imagined itself but certainly so and around has the then big four until one has stopped it the fdp is the only party like public is that a foul riethers [music] the quite violent consistent for tweet active beds the innovation factor agreeing a sequence because so that the population is voting astonished as if they were trying to be the causes for which will finally be said in mystery eye height to what his wishlessly wave through referendums would be capable of that right so that was supposed to be virtually up in ehrwald the person-free movement as if actually they were looking for what they had to do on over night really advertising for the 78 where one has to look at his body and he must earliest in the home country in the rule after dust or at least is safe third country that the area is now already known that one has to have illegal migration, that one must not pay attention to them and that with pure economic refugees the problem that I have created so much desire for their home country and at least',\n",
       " 'So if the Federal Council is now packing with the migrations so if we say to the video but the signers and who would still be economic migrants to the cemetery will at least offer me the development saving on the other side that gave a red card that is not in forks at the moment is the run of the double victory car still to kill them also say so soon team has the last 50 years about dusik billione development aid with the result that they can now put together and what as you clearly studied positive the herb is sigrid the now what really is so for example in the index year report be mentioned but that for example I am about to put a bus with art works rides somewhere in pompous and you have the so-called travel site pictures and since study never born that they give also art and culture and that would then be made like burkina faso starvation on the road and steady development are the meat that is moustling but then the atlantic would not be so much improved then the atlantic would be so much better than that the federal government would be able to work together',\n",
       " 'often the simplest and my the right fischer chief additive that the lie of microcredit that you can make my other he in the sewing machine on that you tell yourself about overwater head or what I very often do exactly so that you have the printing cloth force and the taxi animal died now also more do anyway project are probably a subject matter most important how to get fritz for the good certain really very low one has yes our guest game after the tsunami in sri lanka had itself happy so mask play itself possible doku for development aid abdieski control stair level billione always this country gives who for what you are finally put out of quiz checks but lots of money run over the businesses so development bank where it completely vsg of the world bank group the African development bank Asian development bank service girl bank is all about and since we have naturally spoken back that abuse takes place in front of place the really appreciated motion federrat or get the right page built up the very thin position is to be heard under the bead',\n",
       " \"that abuse from it through 2004 to the then edition one has indeed have overtaken we only should be now come seven percent predicted it is now good in and product is Swiss the watch only device remembering since Germany the watch outside of my nazi liiert is not the wrong expression if you awoke the Swiss one you have to say that and fall in love or hair related to it she would have to guess later that the call jumps out and finds again the cares before monitors you see the country being countless left the lead and that's just the analogy they are then I have to say trust the National Socialism massively dishonored we have some things that we bring little they attract nazi past neonazis are easy to ignore me and give me a weight naja but not just an arbitrary subordinate that the company is a cohabitation or a vision up to 20 Swiss coin be vigilant but the condition that we already make the team of the neighboring Switzerland and I never bring away somehow the guard and I never know how to live\",\n",
       " \"Criticism they could have compensated for the content, for example, as a brother klaus quote where even more Swiss and less than comparison he brings down and that what happened there and wants to be bad and wants to be bad, because the smell doesn't fit is racism and of course nobody would feel in one that doesn't fit or has it already at csi the father is to make the race in problems in this regard so the master is the fear but finger-tips in the master's project that you have to be careful you could almost say without her being done somewhere by someone actually was renter Swiss awoke say no matter if that somehow means this credit to others I never want it identical [music]\"]"
      ]
     },
     "execution_count": 35,
     "metadata": {},
     "output_type": "execute_result"
    }
   ],
   "source": [
    "trans_text"
   ]
  },
  {
   "cell_type": "markdown",
   "id": "0806c5f5",
   "metadata": {},
   "source": [
    "## Create context vector"
   ]
  },
  {
   "cell_type": "code",
   "execution_count": 36,
   "id": "b17b9f50",
   "metadata": {},
   "outputs": [],
   "source": [
    "context_vector = ' '.join(trans_text)"
   ]
  },
  {
   "cell_type": "code",
   "execution_count": 37,
   "id": "02e6f62e",
   "metadata": {},
   "outputs": [],
   "source": [
    "with open('topics.pickle', 'rb') as handle:\n",
    "    topics_to_keyword = pickle.load(handle)"
   ]
  },
  {
   "cell_type": "code",
   "execution_count": 38,
   "id": "97800ee7",
   "metadata": {},
   "outputs": [],
   "source": [
    "d = {'video_number': [1], 'context': [context_vector]}\n",
    "df = pd.DataFrame(data=d)"
   ]
  },
  {
   "cell_type": "code",
   "execution_count": 39,
   "id": "9aed6583",
   "metadata": {},
   "outputs": [],
   "source": [
    "classes = [set() for _ in range(len(df))]\n",
    "\n",
    "for i, context in enumerate(df[\"context\"]):\n",
    "    for topic in topics_to_keyword:\n",
    "        for keyword in topics_to_keyword[topic]:\n",
    "            if keyword in context:\n",
    "                classes[i].add(topic)\n",
    "        "
   ]
  },
  {
   "cell_type": "code",
   "execution_count": 40,
   "id": "bad700e1",
   "metadata": {},
   "outputs": [],
   "source": [
    "df['topic'] = classes"
   ]
  },
  {
   "cell_type": "code",
   "execution_count": 41,
   "id": "f9695a50",
   "metadata": {},
   "outputs": [
    {
     "data": {
      "text/html": [
       "<div>\n",
       "<style scoped>\n",
       "    .dataframe tbody tr th:only-of-type {\n",
       "        vertical-align: middle;\n",
       "    }\n",
       "\n",
       "    .dataframe tbody tr th {\n",
       "        vertical-align: top;\n",
       "    }\n",
       "\n",
       "    .dataframe thead th {\n",
       "        text-align: right;\n",
       "    }\n",
       "</style>\n",
       "<table border=\"1\" class=\"dataframe\">\n",
       "  <thead>\n",
       "    <tr style=\"text-align: right;\">\n",
       "      <th></th>\n",
       "      <th>video_number</th>\n",
       "      <th>context</th>\n",
       "      <th>topic</th>\n",
       "    </tr>\n",
       "  </thead>\n",
       "  <tbody>\n",
       "    <tr>\n",
       "      <th>0</th>\n",
       "      <td>1</td>\n",
       "      <td>the name welcome to the svp offers online orde...</td>\n",
       "      <td>{security, digitalisation, immigration, family}</td>\n",
       "    </tr>\n",
       "  </tbody>\n",
       "</table>\n",
       "</div>"
      ],
      "text/plain": [
       "   video_number                                            context  \\\n",
       "0             1  the name welcome to the svp offers online orde...   \n",
       "\n",
       "                                             topic  \n",
       "0  {security, digitalisation, immigration, family}  "
      ]
     },
     "execution_count": 41,
     "metadata": {},
     "output_type": "execute_result"
    }
   ],
   "source": [
    "df"
   ]
  },
  {
   "cell_type": "markdown",
   "id": "db4c0f39",
   "metadata": {},
   "source": [
    "## Import df questions"
   ]
  },
  {
   "cell_type": "code",
   "execution_count": 44,
   "id": "54996876",
   "metadata": {},
   "outputs": [],
   "source": [
    "df_questions = pd.read_csv('./csv/glarner_questions.csv', sep=';', encoding='latin-1')"
   ]
  },
  {
   "cell_type": "code",
   "execution_count": null,
   "id": "7600dcff",
   "metadata": {},
   "outputs": [],
   "source": []
  },
  {
   "cell_type": "code",
   "execution_count": 47,
   "id": "cb89f9be",
   "metadata": {},
   "outputs": [],
   "source": [
    "#convert to binary\n",
    "df_questions[\"questions\"] = df_questions['questions'].str[4:-2]\n",
    "df_questions.loc[df_questions['smartvote_answers'] >= 3, 'binary_smarvote_answer'] = 0\n",
    "df_questions.loc[df_questions['smartvote_answers'] <= 2, 'binary_smarvote_answer'] = 1"
   ]
  },
  {
   "cell_type": "code",
   "execution_count": 48,
   "id": "41423b49",
   "metadata": {},
   "outputs": [],
   "source": [
    "topics =  list(topics_to_keyword.keys())"
   ]
  },
  {
   "cell_type": "code",
   "execution_count": 49,
   "id": "faa0975c",
   "metadata": {},
   "outputs": [],
   "source": [
    "videos_with_topic = defaultdict(list)"
   ]
  },
  {
   "cell_type": "code",
   "execution_count": 50,
   "id": "e9d5d6ca",
   "metadata": {},
   "outputs": [],
   "source": [
    "for i in range(len(df)):\n",
    "    if df.iloc[i]['topic']:\n",
    "        for topic in df.iloc[i]['topic']:\n",
    "            videos_with_topic[topic].append(df.iloc[i]['context'])\n",
    "        "
   ]
  },
  {
   "cell_type": "code",
   "execution_count": 51,
   "id": "6faa7508",
   "metadata": {},
   "outputs": [],
   "source": [
    "context_videos = {}        "
   ]
  },
  {
   "cell_type": "code",
   "execution_count": 52,
   "id": "0cd5ac71",
   "metadata": {},
   "outputs": [],
   "source": [
    "#join context vidoes\n",
    "for topic in topics:\n",
    "    context_videos[topic] = ''.join(videos_with_topic[topic])"
   ]
  },
  {
   "cell_type": "code",
   "execution_count": 53,
   "id": "b8597ee9",
   "metadata": {},
   "outputs": [],
   "source": [
    "qa_model = pipeline(\"question-answering\", model = \"srcocotero/bert-large-qa\")"
   ]
  },
  {
   "cell_type": "code",
   "execution_count": 54,
   "id": "aef5b358",
   "metadata": {},
   "outputs": [
    {
     "name": "stderr",
     "output_type": "stream",
     "text": [
      "100%|██████████| 60/60 [04:24<00:00,  4.41s/it]\n"
     ]
    }
   ],
   "source": [
    "# THIS IS ONLY VALID FOR ONE VIDEO, NEED TO CHANGE CODE for MULTIPLE VIDEOS!!!!!!!\n",
    "\n",
    "huggingface_answers = []\n",
    "for i in tqdm(range(len(df_questions))):\n",
    "    question = df_questions.iloc[i]['Simplified question']\n",
    "    topic = df_questions.iloc[i]['Topic']\n",
    "    context = df['context'][0]        \n",
    "    huggingface_answers.append(qa_model(question = question, context = context))"
   ]
  },
  {
   "cell_type": "code",
   "execution_count": null,
   "id": "2e0d123a",
   "metadata": {},
   "outputs": [],
   "source": [
    "df_questions[\"huggingface_answers\"] = huggingface_answers"
   ]
  },
  {
   "cell_type": "code",
   "execution_count": null,
   "id": "f9fdd986",
   "metadata": {},
   "outputs": [],
   "source": [
    "df_questions.to_csv(\"./csv/questions/video_answers_glarner.csv\")"
   ]
  },
  {
   "cell_type": "code",
   "execution_count": null,
   "id": "fd7d8a22",
   "metadata": {},
   "outputs": [],
   "source": [
    "df_questions_videos=pd.read_csv(\"./csv/questions/videos_cami_label.csv\", delimiter = ';')"
   ]
  },
  {
   "cell_type": "code",
   "execution_count": null,
   "id": "e5eb1b3f",
   "metadata": {},
   "outputs": [],
   "source": [
    "df_questions_videos"
   ]
  },
  {
   "cell_type": "markdown",
   "id": "0c0f7f53",
   "metadata": {},
   "source": [
    "## Evaluation"
   ]
  },
  {
   "cell_type": "code",
   "execution_count": 156,
   "id": "9cf6193a",
   "metadata": {},
   "outputs": [
    {
     "data": {
      "text/plain": [
       "array([[ 1,  1, 19],\n",
       "       [ 1,  5, 33],\n",
       "       [ 0,  0,  0]])"
      ]
     },
     "execution_count": 156,
     "metadata": {},
     "output_type": "execute_result"
    }
   ],
   "source": [
    "sklearn.metrics.confusion_matrix(df_questions_videos[\"binary_smarvote_answer\"], df_questions_videos[\"cami_answers\"])"
   ]
  },
  {
   "cell_type": "code",
   "execution_count": 157,
   "id": "af8bf8aa",
   "metadata": {},
   "outputs": [
    {
     "name": "stdout",
     "output_type": "stream",
     "text": [
      "[[ 1  1 19]\n",
      " [ 1  5 33]\n",
      " [ 0  0  0]]\n"
     ]
    },
    {
     "name": "stderr",
     "output_type": "stream",
     "text": [
      "/home/ec2-user/anaconda3/envs/amazonei_mxnet_p36/lib/python3.6/site-packages/ipykernel/__main__.py:11: UserWarning: FixedFormatter should only be used together with FixedLocator\n",
      "/home/ec2-user/anaconda3/envs/amazonei_mxnet_p36/lib/python3.6/site-packages/ipykernel/__main__.py:12: UserWarning: FixedFormatter should only be used together with FixedLocator\n"
     ]
    },
    {
     "data": {
      "image/png": "[encoded data removed]",
      "text/plain": [
       "<Figure size 432x288 with 2 Axes>"
      ]
     },
     "metadata": {
      "needs_background": "light"
     },
     "output_type": "display_data"
    }
   ],
   "source": [
    "from sklearn.metrics import confusion_matrix\n",
    "\n",
    "labels = ['0', '1', '2']\n",
    "cm = confusion_matrix(df_questions_videos[\"binary_smarvote_answer\"], df_questions_videos[\"cami_answers\"])\n",
    "print(cm)\n",
    "fig = plt.figure()\n",
    "ax = fig.add_subplot(111)\n",
    "cax = ax.matshow(cm)\n",
    "plt.title('Confusion matrix for Tweets using All tweets')\n",
    "fig.colorbar(cax)\n",
    "ax.set_xticklabels([''] + labels)\n",
    "ax.set_yticklabels([''] + labels)\n",
    "plt.xlabel('Predicted')\n",
    "plt.ylabel('True')\n",
    "plt.show()"
   ]
  },
  {
   "cell_type": "markdown",
   "id": "41dba6a8",
   "metadata": {},
   "source": [
    "not very optimistic, transcription is not great\n",
    "--> and then we translate\n",
    "add more videos, create context vectors"
   ]
  },
  {
   "cell_type": "code",
   "execution_count": null,
   "id": "139b81be",
   "metadata": {},
   "outputs": [],
   "source": []
  }
 ],
 "metadata": {
  "kernelspec": {
   "display_name": "conda_amazonei_mxnet_p36",
   "language": "python",
   "name": "conda_amazonei_mxnet_p36"
  },
  "language_info": {
   "codemirror_mode": {
    "name": "ipython",
    "version": 3
   },
   "file_extension": ".py",
   "mimetype": "text/x-python",
   "name": "python",
   "nbconvert_exporter": "python",
   "pygments_lexer": "ipython3",
   "version": "3.6.13"
  }
 },
 "nbformat": 4,
 "nbformat_minor": 5
}
