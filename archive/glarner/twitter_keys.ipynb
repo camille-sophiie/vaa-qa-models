{
 "cells": [
  {
   "cell_type": "code",
   "execution_count": 1,
   "id": "6f9621a4",
   "metadata": {},
   "outputs": [],
   "source": [
    "consumer_key = \"\"\n",
    "consumer_secret= \"\"\n",
    "access_token= \"\"\n",
    "access_token_secret= \"\""
   ]
  },
  {
   "cell_type": "code",
   "execution_count": null,
   "id": "ebc8e10b",
   "metadata": {},
   "outputs": [],
   "source": []
  }
 ],
 "metadata": {
  "kernelspec": {
   "display_name": "conda_amazonei_mxnet_p36",
   "language": "python",
   "name": "conda_amazonei_mxnet_p36"
  },
  "language_info": {
   "codemirror_mode": {
    "name": "ipython",
    "version": 3
   },
   "file_extension": ".py",
   "mimetype": "text/x-python",
   "name": "python",
   "nbconvert_exporter": "python",
   "pygments_lexer": "ipython3",
   "version": "3.6.13"
  }
 },
 "nbformat": 4,
 "nbformat_minor": 5
}
