{
 "cells": [
  {
   "cell_type": "markdown",
   "id": "46103083",
   "metadata": {},
   "source": [
    "## Import libraries"
   ]
  },
  {
   "cell_type": "code",
   "execution_count": 2,
   "id": "816a61dd",
   "metadata": {},
   "outputs": [
    {
     "name": "stdout",
     "output_type": "stream",
     "text": [
      "Looking in indexes: https://pypi.org/simple, https://pip.repos.neuron.amazonaws.com\n",
      "Collecting youtube-transcript-api\n",
      "  Downloading youtube_transcript_api-0.5.0-py3-none-any.whl (23 kB)\n",
      "Requirement already satisfied: requests in /home/ec2-user/anaconda3/envs/amazonei_mxnet_p36/lib/python3.6/site-packages (from youtube-transcript-api) (2.27.1)\n",
      "Requirement already satisfied: urllib3<1.27,>=1.21.1 in /home/ec2-user/anaconda3/envs/amazonei_mxnet_p36/lib/python3.6/site-packages (from requests->youtube-transcript-api) (1.26.8)\n",
      "Requirement already satisfied: charset-normalizer~=2.0.0 in /home/ec2-user/anaconda3/envs/amazonei_mxnet_p36/lib/python3.6/site-packages (from requests->youtube-transcript-api) (2.0.12)\n",
      "Requirement already satisfied: certifi>=2017.4.17 in /home/ec2-user/anaconda3/envs/amazonei_mxnet_p36/lib/python3.6/site-packages (from requests->youtube-transcript-api) (2021.5.30)\n",
      "Requirement already satisfied: idna<4,>=2.5 in /home/ec2-user/anaconda3/envs/amazonei_mxnet_p36/lib/python3.6/site-packages (from requests->youtube-transcript-api) (3.1)\n",
      "Installing collected packages: youtube-transcript-api\n",
      "Successfully installed youtube-transcript-api-0.5.0\n"
     ]
    }
   ],
   "source": [
    "!pip3 install youtube-transcript-api"
   ]
  },
  {
   "cell_type": "code",
   "execution_count": 3,
   "id": "25ae3e1c",
   "metadata": {},
   "outputs": [],
   "source": [
    "from youtube_transcript_api import YouTubeTranscriptApi\n",
    "from transformers import pipeline\n",
    "import pickle\n",
    "import pandas as pd\n",
    "from collections import defaultdict\n",
    "from tqdm import tqdm\n",
    "import sklearn\n",
    "from sklearn.metrics import f1_score\n",
    "from matplotlib import pyplot as plt\n",
    "import scikitplot as skplt\n"
   ]
  },
  {
   "cell_type": "markdown",
   "id": "02c52eff",
   "metadata": {},
   "source": [
    "## Get captions from one video"
   ]
  },
  {
   "cell_type": "code",
   "execution_count": 20,
   "id": "9c4f99b9",
   "metadata": {},
   "outputs": [],
   "source": [
    "srt = YouTubeTranscriptApi.get_transcript(\"fyXmnsX1Rr4\", languages=['fr'])"
   ]
  },
  {
   "cell_type": "code",
   "execution_count": 21,
   "id": "36f698cb",
   "metadata": {},
   "outputs": [
    {
     "data": {
      "text/plain": [
       "[{'text': '[Musique]', 'start': 1.87, 'duration': 4.52},\n",
       " {'text': \"votre invité aujourd'hui béatrice rule\",\n",
       "  'start': 3.92,\n",
       "  'duration': 5.25},\n",
       " {'text': \"carlo sommaruga président de l'asloca\",\n",
       "  'start': 6.39,\n",
       "  'duration': 5.16},\n",
       " {'text': 'bonjour carlo sommaruga avant de vous',\n",
       "  'start': 9.17,\n",
       "  'duration': 3.58},\n",
       " {'text': 'entendre spécifiquement sur la situation',\n",
       "  'start': 11.55,\n",
       "  'duration': 3.629},\n",
       " {'text': \"des locateurs on a pris l'habitude ce\",\n",
       "  'start': 12.75,\n",
       "  'duration': 4.109},\n",
       " {'text': 'radio lac aussi de prendre un petit peu',\n",
       "  'start': 15.179,\n",
       "  'duration': 3.241},\n",
       " {'text': 'le pouls de nos invités comment est ce',\n",
       "  'start': 16.859,\n",
       "  'duration': 3.241},\n",
       " {'text': \"qu'ils vivent ce confinement on le sait\",\n",
       "  'start': 18.42,\n",
       "  'duration': 4.08},\n",
       " {'text': 'vous est également conseillé aux états',\n",
       "  'start': 20.1,\n",
       "  'duration': 3.39},\n",
       " {'text': 'vous êtes habitué à vous rendre', 'start': 22.5, 'duration': 2.369},\n",
       " {'text': \"régulièrement à berne est ce que c'est\",\n",
       "  'start': 23.49,\n",
       "  'duration': 3.449},\n",
       " {'text': 'pas déjà un peu compliqué de rester le',\n",
       "  'start': 24.869,\n",
       "  'duration': 4.58},\n",
       " {'text': 'plus possible ses choix actuellement',\n",
       "  'start': 26.939,\n",
       "  'duration': 4.951},\n",
       " {'text': \"pour écouter il est vrai qu'on a été\",\n",
       "  'start': 29.449,\n",
       "  'duration': 4.901},\n",
       " {'text': 'surpris avec la suspension des travaux',\n",
       "  'start': 31.89,\n",
       "  'duration': 4.259},\n",
       " {'text': 'parlementaires lors de la dernière',\n",
       "  'start': 34.35,\n",
       "  'duration': 4.35},\n",
       " {'text': 'session et le fait que la troisième',\n",
       "  'start': 36.149,\n",
       "  'duration': 4.891},\n",
       " {'text': \"semaine n'avait pas eu lieu depuis lors\",\n",
       "  'start': 38.7,\n",
       "  'duration': 4.62},\n",
       " {'text': 'on nous avons des contacts en', 'start': 41.04, 'duration': 4.109},\n",
       " {'text': 'vidéoconférence avec nos collègues',\n",
       "  'start': 43.32,\n",
       "  'duration': 4.2},\n",
       " {'text': 'différents partis et avec notre propre',\n",
       "  'start': 45.149,\n",
       "  'duration': 6.09},\n",
       " {'text': 'parti les bureaux des chambres décidé',\n",
       "  'start': 47.52,\n",
       "  'duration': 6.0},\n",
       " {'text': 'que la session aurait lieu médiation',\n",
       "  'start': 51.239,\n",
       "  'duration': 4.561},\n",
       " {'text': 'spéciale dédiée question croit les',\n",
       "  'start': 53.52,\n",
       "  'duration': 4.41},\n",
       " {'text': \"russes au début du mois n'est donc vous\",\n",
       "  'start': 55.8,\n",
       "  'duration': 4.739},\n",
       " {'text': 'préparons maintenant cette session qui',\n",
       "  'start': 57.93,\n",
       "  'duration': 3.99},\n",
       " {'text': 'doit aborder à différentes questions',\n",
       "  'start': 60.539,\n",
       "  'duration': 3.781},\n",
       " {'text': \"financières et probablement d'autres\",\n",
       "  'start': 61.92,\n",
       "  'duration': 5.64},\n",
       " {'text': 'volets de la politique nationale de',\n",
       "  'start': 64.32,\n",
       "  'duration': 5.6},\n",
       " {'text': 'prévention et de lutte contre le virus',\n",
       "  'start': 67.56,\n",
       "  'duration': 4.11},\n",
       " {'text': \"d'un mot tout de même aider la\", 'start': 69.92, 'duration': 3.73},\n",
       " {'text': 'population de rester confinés puis va y',\n",
       "  'start': 71.67,\n",
       "  'duration': 4.41},\n",
       " {'text': 'avoir plus de 200 parlementaires qui',\n",
       "  'start': 73.65,\n",
       "  'duration': 4.62},\n",
       " {'text': \"vont être ensemble c'est pas un peu\",\n",
       "  'start': 76.08,\n",
       "  'duration': 4.829},\n",
       " {'text': 'contradictoire tout de même nom comme ce',\n",
       "  'start': 78.27,\n",
       "  'duration': 4.44},\n",
       " {'text': \"n'est pas contradictoire que le conseil\",\n",
       "  'start': 80.909,\n",
       "  'duration': 4.171},\n",
       " {'text': 'fédéral continue à se réunir que les',\n",
       "  'start': 82.71,\n",
       "  'duration': 3.74},\n",
       " {'text': \"hauts fonctionnaires de l'autre pays\",\n",
       "  'start': 85.08,\n",
       "  'duration': 4.23},\n",
       " {'text': 'soit présent pour pouvoir préparer les',\n",
       "  'start': 86.45,\n",
       "  'duration': 4.3},\n",
       " {'text': 'dossiers et faire en sorte que le pays',\n",
       "  'start': 89.31,\n",
       "  'duration': 3.69},\n",
       " {'text': 'soit gouverné le parlement suisse un',\n",
       "  'start': 90.75,\n",
       "  'duration': 4.95},\n",
       " {'text': \"rôle essentiel c'est celui de vérifier\",\n",
       "  'start': 93.0,\n",
       "  'duration': 5.79},\n",
       " {'text': 'le travail est surveillé de travail du',\n",
       "  'start': 95.7,\n",
       "  'duration': 5.07},\n",
       " {'text': \"conseil fédéral et de l'administration\",\n",
       "  'start': 98.79,\n",
       "  'duration': 4.59},\n",
       " {'text': 'et donc il nous appartient également de',\n",
       "  'start': 100.77,\n",
       "  'duration': 5.55},\n",
       " {'text': \"valider différentes décisions c'était\",\n",
       "  'start': 103.38,\n",
       "  'duration': 4.62},\n",
       " {'text': \"décisions financières puisqu'il ya\",\n",
       "  'start': 106.32,\n",
       "  'duration': 4.35},\n",
       " {'text': \"beaucoup d'argent qui a été lire sur la\",\n",
       "  'start': 108.0,\n",
       "  'duration': 5.46},\n",
       " {'text': 'table et il y a également la', 'start': 110.67, 'duration': 4.769},\n",
       " {'text': 'problématique de la mobilisation de',\n",
       "  'start': 113.46,\n",
       "  'duration': 4.65},\n",
       " {'text': \"l'armée doit selon la constitution être\",\n",
       "  'start': 115.439,\n",
       "  'duration': 4.86},\n",
       " {'text': 'validé par le parlement sinon il faut',\n",
       "  'start': 118.11,\n",
       "  'duration': 5.7},\n",
       " {'text': \"que la mesure soit il n'est pas possible\",\n",
       "  'start': 120.299,\n",
       "  'duration': 6.651},\n",
       " {'text': \"aujourd'hui le contexte sanitaire\",\n",
       "  'start': 123.81,\n",
       "  'duration': 5.6},\n",
       " {'text': 'venons en à la situation des locataires',\n",
       "  'start': 126.95,\n",
       "  'duration': 4.96},\n",
       " {'text': 'nombreux sont ceux qui sont au chômage',\n",
       "  'start': 129.41,\n",
       "  'duration': 3.7},\n",
       " {'text': 'technique', 'start': 131.91, 'duration': 2.58},\n",
       " {'text': 'qui se retrouve donc avec des', 'start': 133.11, 'duration': 3.15},\n",
       " {'text': 'difficultés pour payer leur loyer le',\n",
       "  'start': 134.49,\n",
       "  'duration': 3.48},\n",
       " {'text': 'conseil fédéral a annoncé vendredi',\n",
       "  'start': 136.26,\n",
       "  'duration': 4.17},\n",
       " {'text': \"l'extension du délai de paiement de 30 à\",\n",
       "  'start': 137.97,\n",
       "  'duration': 3.12},\n",
       " {'text': '90 jours', 'start': 140.43, 'duration': 2.4},\n",
       " {'text': \"ça c'est une vraie bouffée d'oxygène\",\n",
       "  'start': 141.09,\n",
       "  'duration': 5.43},\n",
       " {'text': \"pour tous non je pense que c'est plutôt\",\n",
       "  'start': 142.83,\n",
       "  'duration': 6.72},\n",
       " {'text': 'une mesure cosmétique dans la mesure où',\n",
       "  'start': 146.52,\n",
       "  'duration': 5.76},\n",
       " {'text': \"s'il est vrai que les locataires d'un\",\n",
       "  'start': 149.55,\n",
       "  'duration': 5.64},\n",
       " {'text': \"logement d'ailleurs comme de surfaces\",\n",
       "  'start': 152.28,\n",
       "  'duration': 5.04},\n",
       " {'text': 'commerciales ont des difficultés puisque',\n",
       "  'start': 155.19,\n",
       "  'duration': 3.75},\n",
       " {'text': 'soit le revenu', 'start': 157.32, 'duration': 5.48},\n",
       " {'text': 'le salarié à battre soit le revenu',\n",
       "  'start': 158.94,\n",
       "  'duration': 7.53},\n",
       " {'text': \"d'indépendants on n'est plus là il est\",\n",
       "  'start': 162.8,\n",
       "  'duration': 5.77},\n",
       " {'text': \"clair que ce n'est pas en donnant you\",\n",
       "  'start': 166.47,\n",
       "  'duration': 4.29},\n",
       " {'text': \"sad et rentre en trois mois que l'on va\",\n",
       "  'start': 168.57,\n",
       "  'duration': 4.86},\n",
       " {'text': 'pouvoir se refaire une santé financière',\n",
       "  'start': 170.76,\n",
       "  'duration': 5.31},\n",
       " {'text': 'et ensuite pouvoir payer les retards de',\n",
       "  'start': 173.43,\n",
       "  'duration': 4.23},\n",
       " {'text': \"loyer parce que si l'on ne respecte pas\",\n",
       "  'start': 176.07,\n",
       "  'duration': 4.47},\n",
       " {'text': 'ces 90 jours pour payer le loyer cours',\n",
       "  'start': 177.66,\n",
       "  'duration': 4.38},\n",
       " {'text': 'ont plus le retard de loyer', 'start': 180.54, 'duration': 4.919},\n",
       " {'text': 'on risque le congé or nous le demandions',\n",
       "  'start': 182.04,\n",
       "  'duration': 5.16},\n",
       " {'text': 'à des mesures beaucoup plus importantes',\n",
       "  'start': 185.459,\n",
       "  'duration': 3.631},\n",
       " {'text': 'à savoir la suspension de la possibilité',\n",
       "  'start': 187.2,\n",
       "  'duration': 5.13},\n",
       " {'text': 'de donner le congé sur des retards de',\n",
       "  'start': 189.09,\n",
       "  'duration': 6.54},\n",
       " {'text': 'loyer commercial ou de logement il',\n",
       "  'start': 192.33,\n",
       "  'duration': 4.92},\n",
       " {'text': 'adulte est de la crise colora de pouce',\n",
       "  'start': 195.63,\n",
       "  'duration': 4.05},\n",
       " {'text': 'on est encore loin de cette situation là',\n",
       "  'start': 197.25,\n",
       "  'duration': 3.69},\n",
       " {'text': 'il faudra bien que le conseil fédéral',\n",
       "  'start': 199.68,\n",
       "  'duration': 3.66},\n",
       " {'text': 'aborde le problème de manière plus',\n",
       "  'start': 200.94,\n",
       "  'duration': 3.9},\n",
       " {'text': \"sérieuse qu'elle n'avait jusqu'à\",\n",
       "  'start': 203.34,\n",
       "  'duration': 3.78},\n",
       " {'text': 'maintenant vous vous proposé la création',\n",
       "  'start': 204.84,\n",
       "  'duration': 4.649},\n",
       " {'text': \"d'un fonds pour payer le loyer des\",\n",
       "  'start': 207.12,\n",
       "  'duration': 3.36},\n",
       " {'text': 'locataires comment est-ce que ça',\n",
       "  'start': 209.489,\n",
       "  'duration': 3.871},\n",
       " {'text': 'fonctionnerait très concrètement nous',\n",
       "  'start': 210.48,\n",
       "  'duration': 5.069},\n",
       " {'text': \"demandons tout d'abord qu' il y ait la\",\n",
       "  'start': 213.36,\n",
       "  'duration': 5.28},\n",
       " {'text': 'gratuité des loyers pour tous les',\n",
       "  'start': 215.549,\n",
       "  'duration': 6.031},\n",
       " {'text': 'commerçants qui ont dû fermer les locaux',\n",
       "  'start': 218.64,\n",
       "  'duration': 5.43},\n",
       " {'text': 'en raison des décisions du conseil',\n",
       "  'start': 221.58,\n",
       "  'duration': 5.73},\n",
       " {'text': \"fédéral ou du canton il n'est pas\",\n",
       "  'start': 224.07,\n",
       "  'duration': 6.12},\n",
       " {'text': 'imaginable que des commerçants doivent',\n",
       "  'start': 227.31,\n",
       "  'duration': 4.98},\n",
       " {'text': 'assumer le paiement du loyer ou que la',\n",
       "  'start': 230.19,\n",
       "  'duration': 4.41},\n",
       " {'text': 'confédération voit le canton sinon ce',\n",
       "  'start': 232.29,\n",
       "  'duration': 5.55},\n",
       " {'text': 'paiement du loyer pour le bien de',\n",
       "  'start': 234.6,\n",
       "  'duration': 6.24},\n",
       " {'text': 'propriétaires qui percevrait les loyers',\n",
       "  'start': 237.84,\n",
       "  'duration': 4.35},\n",
       " {'text': \"comme si rien n'était qu' il n'est pas\",\n",
       "  'start': 240.84,\n",
       "  'duration': 2.429},\n",
       " {'text': 'cuite il faut que les riches soient',\n",
       "  'start': 242.19,\n",
       "  'duration': 3.78},\n",
       " {'text': 'partagées il faut qu en sorte que les',\n",
       "  'start': 243.269,\n",
       "  'duration': 4.861},\n",
       " {'text': 'commerçants subissent la perte de',\n",
       "  'start': 245.97,\n",
       "  'duration': 5.46},\n",
       " {'text': 'revenus parce que leurs affaires ne',\n",
       "  'start': 248.13,\n",
       "  'duration': 5.1},\n",
       " {'text': 'fonctionne pas elle est bloquée et il',\n",
       "  'start': 251.43,\n",
       "  'duration': 4.5},\n",
       " {'text': 'faut que le propriétaire y subissent la',\n",
       "  'start': 253.23,\n",
       "  'duration': 5.189},\n",
       " {'text': 'perte du du loyer et chacun ensuite',\n",
       "  'start': 255.93,\n",
       "  'duration': 4.92},\n",
       " {'text': \"s'adresse selon les instruments à\",\n",
       "  'start': 258.419,\n",
       "  'duration': 4.56},\n",
       " {'text': 'disposition au conseil fédéral ou aux',\n",
       "  'start': 260.85,\n",
       "  'duration': 2.55},\n",
       " {'text': 'comptes', 'start': 262.979, 'duration': 2.581},\n",
       " {'text': 'nous pensons par ailleurs que', 'start': 263.4, 'duration': 4.019},\n",
       " {'text': \"au niveau cantonal il faut qu'il y ait\",\n",
       "  'start': 265.56,\n",
       "  'duration': 4.32},\n",
       " {'text': 'un fonds qui viennent en aide à au',\n",
       "  'start': 267.419,\n",
       "  'duration': 5.521},\n",
       " {'text': 'locataire de logements ou aux locataires',\n",
       "  'start': 269.88,\n",
       "  'duration': 4.71},\n",
       " {'text': 'commerciaux mais pas ceux qui ont dû',\n",
       "  'start': 272.94,\n",
       "  'duration': 3.39},\n",
       " {'text': 'fermer à cause des décisions du conseil',\n",
       "  'start': 274.59,\n",
       "  'duration': 4.14},\n",
       " {'text': 'fédéral pour faire face aux difficultés',\n",
       "  'start': 276.33,\n",
       "  'duration': 4.77},\n",
       " {'text': 'parce que nombre de locataires auront',\n",
       "  'start': 278.73,\n",
       "  'duration': 4.8},\n",
       " {'text': 'beaucoup de peine à pouvoir financer',\n",
       "  'start': 281.1,\n",
       "  'duration': 6.09},\n",
       " {'text': 'leur le loyer à court et moyen terme',\n",
       "  'start': 283.53,\n",
       "  'duration': 6.3},\n",
       " {'text': \"il s'agit là donc de penser à cette\",\n",
       "  'start': 287.19,\n",
       "  'duration': 4.8},\n",
       " {'text': 'catégorie de la population qui est',\n",
       "  'start': 289.83,\n",
       "  'duration': 3.99},\n",
       " {'text': 'actuellement la plus nombreuse celle des',\n",
       "  'start': 291.99,\n",
       "  'duration': 4.86},\n",
       " {'text': 'locateurs on va se projeter un tout',\n",
       "  'start': 293.82,\n",
       "  'duration': 4.38},\n",
       " {'text': 'petit peu pour terminer vers vers',\n",
       "  'start': 296.85,\n",
       "  'duration': 3.9},\n",
       " {'text': \"l'avenir sans être alarmiste on sait que\",\n",
       "  'start': 298.2,\n",
       "  'duration': 5.1},\n",
       " {'text': 'cette crise sanitaire vente ventre et',\n",
       "  'start': 300.75,\n",
       "  'duration': 4.08},\n",
       " {'text': 'une crise économique que cela va être',\n",
       "  'start': 303.3,\n",
       "  'duration': 4.05},\n",
       " {'text': 'très compliqué pour certains voire même',\n",
       "  'start': 304.83,\n",
       "  'duration': 3.899},\n",
       " {'text': 'peut-être perdre leur emploi à cause du',\n",
       "  'start': 307.35,\n",
       "  'duration': 3.96},\n",
       " {'text': 'que 8,19 vous réfléchissez un mécanisme',\n",
       "  'start': 308.729,\n",
       "  'duration': 4.5},\n",
       " {'text': 'pour la prêt pour peut-être dont six',\n",
       "  'start': 311.31,\n",
       "  'duration': 3.66},\n",
       " {'text': 'mois un an contre les conséquences',\n",
       "  'start': 313.229,\n",
       "  'duration': 3.361},\n",
       " {'text': 'économiques vont vraiment se faire',\n",
       "  'start': 314.97,\n",
       "  'duration': 4.8},\n",
       " {'text': 'sentir pour écouter je crois que le',\n",
       "  'start': 316.59,\n",
       "  'duration': 5.49},\n",
       " {'text': \"conseil fédéral fait tout pour qu'il n'y\",\n",
       "  'start': 319.77,\n",
       "  'duration': 3.72},\n",
       " {'text': 'ait pas cette crise économique', 'start': 322.08, 'duration': 4.95},\n",
       " {'text': \"il y a d'abord le système de la\", 'start': 323.49, 'duration': 5.1},\n",
       " {'text': \"réduction de l'horaire de travail qui\",\n",
       "  'start': 327.03,\n",
       "  'duration': 3.78},\n",
       " {'text': 'est largement à cliquer et qui permet en',\n",
       "  'start': 328.59,\n",
       "  'duration': 5.4},\n",
       " {'text': 'fait de maintenir les salariés dans les',\n",
       "  'start': 330.81,\n",
       "  'duration': 5.58},\n",
       " {'text': 'entreprises on espère que cela puisse',\n",
       "  'start': 333.99,\n",
       "  'duration': 4.44},\n",
       " {'text': \"fonctionner à moyen terme jusqu'au\",\n",
       "  'start': 336.39,\n",
       "  'duration': 4.589},\n",
       " {'text': 'moment où la crise est passé il y a',\n",
       "  'start': 338.43,\n",
       "  'duration': 4.739},\n",
       " {'text': \"énormément d'argent qui est donné sous\",\n",
       "  'start': 340.979,\n",
       "  'duration': 4.981},\n",
       " {'text': 'forme de prêt relais aux entreprises',\n",
       "  'start': 343.169,\n",
       "  'duration': 4.531},\n",
       " {'text': \"pour qu'elles puissent faire face aux\",\n",
       "  'start': 345.96,\n",
       "  'duration': 3.6},\n",
       " {'text': 'obligations haute que les salaires pris',\n",
       "  'start': 347.7,\n",
       "  'duration': 5.16},\n",
       " {'text': \"en charge par l'assurance chômage\",\n",
       "  'start': 349.56,\n",
       "  'duration': 5.51},\n",
       " {'text': 'et puis nous attendons également cette',\n",
       "  'start': 352.86,\n",
       "  'duration': 5.4},\n",
       " {'text': 'décision du conseil fédéral qui libère',\n",
       "  'start': 355.07,\n",
       "  'duration': 4.719},\n",
       " {'text': 'du paiement du loyer', 'start': 358.26, 'duration': 5.3},\n",
       " {'text': \"les locataires qui n'ont pas de surfaces\",\n",
       "  'start': 359.789,\n",
       "  'duration': 6.271},\n",
       " {'text': 'commerciales exploitables puisque',\n",
       "  'start': 363.56,\n",
       "  'duration': 5.41},\n",
       " {'text': 'interdit et je pense que cette la crise',\n",
       "  'start': 366.06,\n",
       "  'duration': 5.82},\n",
       " {'text': 'économique sera cette lamelle là soit',\n",
       "  'start': 368.97,\n",
       "  'duration': 4.89},\n",
       " {'text': \"pas de l'ampleur que l'on pourra\",\n",
       "  'start': 371.88,\n",
       "  'duration': 3.9},\n",
       " {'text': 'connaître dans certains pays voisins',\n",
       "  'start': 373.86,\n",
       "  'duration': 5.88},\n",
       " {'text': \"nous espérons bien que l'ensemble de la\",\n",
       "  'start': 375.78,\n",
       "  'duration': 7.4},\n",
       " {'text': 'population la sortie de crise puissent',\n",
       "  'start': 379.74,\n",
       "  'duration': 8.489},\n",
       " {'text': 'reprendre avec une relance économique la',\n",
       "  'start': 383.18,\n",
       "  'duration': 7.06},\n",
       " {'text': 'mesure où il ya des moyens financiers',\n",
       "  'start': 388.229,\n",
       "  'duration': 4.621},\n",
       " {'text': 'qui sont bien des missions je suis pas',\n",
       "  'start': 390.24,\n",
       "  'duration': 4.98},\n",
       " {'text': 'économiste donc et surtout pas devant',\n",
       "  'start': 392.85,\n",
       "  'duration': 5.129},\n",
       " {'text': \"veut pas dire qu'il sera plus tard mais\",\n",
       "  'start': 395.22,\n",
       "  'duration': 3.59},\n",
       " {'text': \"il faut aujourd'hui\", 'start': 397.979, 'duration': 3.111},\n",
       " {'text': 'ces options aux petits commerçants',\n",
       "  'start': 398.81,\n",
       "  'duration': 4.079},\n",
       " {'text': 'seront ils sont ceux qui souffrent le',\n",
       "  'start': 401.09,\n",
       "  'duration': 3.93},\n",
       " {'text': \"plus aujourd'hui puisque c'est pas la\",\n",
       "  'start': 402.889,\n",
       "  'duration': 4.231},\n",
       " {'text': 'crise des grands prix des grosses bottes',\n",
       "  'start': 405.02,\n",
       "  'duration': 3.72},\n",
       " {'text': 'lacées grosses multinationales', 'start': 407.12, 'duration': 3.75},\n",
       " {'text': \"aujourd'hui mais c'est la crise des\",\n",
       "  'start': 408.74,\n",
       "  'duration': 3.87},\n",
       " {'text': 'petites gens des petits locataires des',\n",
       "  'start': 410.87,\n",
       "  'duration': 3.12},\n",
       " {'text': 'petits salariés des petits indépendants',\n",
       "  'start': 412.61,\n",
       "  'duration': 3.96},\n",
       " {'text': \"et c'est pour eux il faut s'engager et\",\n",
       "  'start': 413.99,\n",
       "  'duration': 4.26},\n",
       " {'text': 'que le conseil fédéral comme le conseil',\n",
       "  'start': 416.57,\n",
       "  'duration': 3.75},\n",
       " {'text': \"d'état doit le faire merci beaucoup\",\n",
       "  'start': 418.25,\n",
       "  'duration': 4.26},\n",
       " {'text': 'carlo sommaruga président laisse le cas',\n",
       "  'start': 420.32,\n",
       "  'duration': 4.83},\n",
       " {'text': 'merci à très bientôt en studio sur radio',\n",
       "  'start': 422.51,\n",
       "  'duration': 5.67},\n",
       " {'text': 'nac excellente journée la firme journée',\n",
       "  'start': 425.15,\n",
       "  'duration': 5.33},\n",
       " {'text': 'à tous', 'start': 428.18, 'duration': 2.3}]"
      ]
     },
     "execution_count": 21,
     "metadata": {},
     "output_type": "execute_result"
    }
   ],
   "source": [
    "srt"
   ]
  },
  {
   "cell_type": "code",
   "execution_count": 24,
   "id": "85ecda6b",
   "metadata": {},
   "outputs": [],
   "source": [
    "video_trans = \"\""
   ]
  },
  {
   "cell_type": "code",
   "execution_count": 25,
   "id": "ebf6a0c2",
   "metadata": {},
   "outputs": [],
   "source": [
    "for i in range(len(srt)):\n",
    "    s = srt[i]['text'] + ' '\n",
    "    video_trans += s"
   ]
  },
  {
   "cell_type": "code",
   "execution_count": 26,
   "id": "6f83e2a5",
   "metadata": {},
   "outputs": [
    {
     "data": {
      "text/plain": [
       "\"[Musique] votre invité aujourd'hui béatrice rule carlo sommaruga président de l'asloca bonjour carlo sommaruga avant de vous entendre spécifiquement sur la situation des locateurs on a pris l'habitude ce radio lac aussi de prendre un petit peu le pouls de nos invités comment est ce qu'ils vivent ce confinement on le sait vous est également conseillé aux états vous êtes habitué à vous rendre régulièrement à berne est ce que c'est pas déjà un peu compliqué de rester le plus possible ses choix actuellement pour écouter il est vrai qu'on a été surpris avec la suspension des travaux parlementaires lors de la dernière session et le fait que la troisième semaine n'avait pas eu lieu depuis lors on nous avons des contacts en vidéoconférence avec nos collègues différents partis et avec notre propre parti les bureaux des chambres décidé que la session aurait lieu médiation spéciale dédiée question croit les russes au début du mois n'est donc vous préparons maintenant cette session qui doit aborder à différentes questions financières et probablement d'autres volets de la politique nationale de prévention et de lutte contre le virus d'un mot tout de même aider la population de rester confinés puis va y avoir plus de 200 parlementaires qui vont être ensemble c'est pas un peu contradictoire tout de même nom comme ce n'est pas contradictoire que le conseil fédéral continue à se réunir que les hauts fonctionnaires de l'autre pays soit présent pour pouvoir préparer les dossiers et faire en sorte que le pays soit gouverné le parlement suisse un rôle essentiel c'est celui de vérifier le travail est surveillé de travail du conseil fédéral et de l'administration et donc il nous appartient également de valider différentes décisions c'était décisions financières puisqu'il ya beaucoup d'argent qui a été lire sur la table et il y a également la problématique de la mobilisation de l'armée doit selon la constitution être validé par le parlement sinon il faut que la mesure soit il n'est pas possible aujourd'hui le contexte sanitaire venons en à la situation des locataires nombreux sont ceux qui sont au chômage technique qui se retrouve donc avec des difficultés pour payer leur loyer le conseil fédéral a annoncé vendredi l'extension du délai de paiement de 30 à 90 jours ça c'est une vraie bouffée d'oxygène pour tous non je pense que c'est plutôt une mesure cosmétique dans la mesure où s'il est vrai que les locataires d'un logement d'ailleurs comme de surfaces commerciales ont des difficultés puisque soit le revenu le salarié à battre soit le revenu d'indépendants on n'est plus là il est clair que ce n'est pas en donnant you sad et rentre en trois mois que l'on va pouvoir se refaire une santé financière et ensuite pouvoir payer les retards de loyer parce que si l'on ne respecte pas ces 90 jours pour payer le loyer cours ont plus le retard de loyer on risque le congé or nous le demandions à des mesures beaucoup plus importantes à savoir la suspension de la possibilité de donner le congé sur des retards de loyer commercial ou de logement il adulte est de la crise colora de pouce on est encore loin de cette situation là il faudra bien que le conseil fédéral aborde le problème de manière plus sérieuse qu'elle n'avait jusqu'à maintenant vous vous proposé la création d'un fonds pour payer le loyer des locataires comment est-ce que ça fonctionnerait très concrètement nous demandons tout d'abord qu' il y ait la gratuité des loyers pour tous les commerçants qui ont dû fermer les locaux en raison des décisions du conseil fédéral ou du canton il n'est pas imaginable que des commerçants doivent assumer le paiement du loyer ou que la confédération voit le canton sinon ce paiement du loyer pour le bien de propriétaires qui percevrait les loyers comme si rien n'était qu' il n'est pas cuite il faut que les riches soient partagées il faut qu en sorte que les commerçants subissent la perte de revenus parce que leurs affaires ne fonctionne pas elle est bloquée et il faut que le propriétaire y subissent la perte du du loyer et chacun ensuite s'adresse selon les instruments à disposition au conseil fédéral ou aux comptes nous pensons par ailleurs que au niveau cantonal il faut qu'il y ait un fonds qui viennent en aide à au locataire de logements ou aux locataires commerciaux mais pas ceux qui ont dû fermer à cause des décisions du conseil fédéral pour faire face aux difficultés parce que nombre de locataires auront beaucoup de peine à pouvoir financer leur le loyer à court et moyen terme il s'agit là donc de penser à cette catégorie de la population qui est actuellement la plus nombreuse celle des locateurs on va se projeter un tout petit peu pour terminer vers vers l'avenir sans être alarmiste on sait que cette crise sanitaire vente ventre et une crise économique que cela va être très compliqué pour certains voire même peut-être perdre leur emploi à cause du que 8,19 vous réfléchissez un mécanisme pour la prêt pour peut-être dont six mois un an contre les conséquences économiques vont vraiment se faire sentir pour écouter je crois que le conseil fédéral fait tout pour qu'il n'y ait pas cette crise économique il y a d'abord le système de la réduction de l'horaire de travail qui est largement à cliquer et qui permet en fait de maintenir les salariés dans les entreprises on espère que cela puisse fonctionner à moyen terme jusqu'au moment où la crise est passé il y a énormément d'argent qui est donné sous forme de prêt relais aux entreprises pour qu'elles puissent faire face aux obligations haute que les salaires pris en charge par l'assurance chômage et puis nous attendons également cette décision du conseil fédéral qui libère du paiement du loyer les locataires qui n'ont pas de surfaces commerciales exploitables puisque interdit et je pense que cette la crise économique sera cette lamelle là soit pas de l'ampleur que l'on pourra connaître dans certains pays voisins nous espérons bien que l'ensemble de la population la sortie de crise puissent reprendre avec une relance économique la mesure où il ya des moyens financiers qui sont bien des missions je suis pas économiste donc et surtout pas devant veut pas dire qu'il sera plus tard mais il faut aujourd'hui ces options aux petits commerçants seront ils sont ceux qui souffrent le plus aujourd'hui puisque c'est pas la crise des grands prix des grosses bottes lacées grosses multinationales aujourd'hui mais c'est la crise des petites gens des petits locataires des petits salariés des petits indépendants et c'est pour eux il faut s'engager et que le conseil fédéral comme le conseil d'état doit le faire merci beaucoup carlo sommaruga président laisse le cas merci à très bientôt en studio sur radio nac excellente journée la firme journée à tous \""
      ]
     },
     "execution_count": 26,
     "metadata": {},
     "output_type": "execute_result"
    }
   ],
   "source": [
    "video_trans"
   ]
  },
  {
   "cell_type": "markdown",
   "id": "72051c5b",
   "metadata": {},
   "source": [
    "## Translate captions"
   ]
  },
  {
   "cell_type": "code",
   "execution_count": 22,
   "id": "3470fedb",
   "metadata": {},
   "outputs": [],
   "source": [
    "model_checkpoint = \"Helsinki-NLP/opus-mt-fr-en\"\n",
    "translator = pipeline(\"translation\", model=model_checkpoint)\n"
   ]
  },
  {
   "cell_type": "code",
   "execution_count": 27,
   "id": "da82d138",
   "metadata": {},
   "outputs": [],
   "source": [
    "video_trans_split =  video_trans.split(' ')"
   ]
  },
  {
   "cell_type": "code",
   "execution_count": 28,
   "id": "02d35719",
   "metadata": {},
   "outputs": [],
   "source": [
    "n_words = len(video_trans_split)\n",
    "batch_size = 200\n",
    "trans_text = []\n",
    "n_batches = n_words//batch_size\n",
    "for i in range(n_batches):\n",
    "    batch_text = ' '.join(video_trans_split[i*batch_size: (i+1)*batch_size])\n",
    "    trans_text.append(translator(batch_text)[0]['translation_text'])"
   ]
  },
  {
   "cell_type": "code",
   "execution_count": 29,
   "id": "e7ba0b30",
   "metadata": {},
   "outputs": [],
   "source": [
    "trans_text.append(translator(' '.join(video_trans_split[(n_batches * batch_size):]))[0]['translation_text'])"
   ]
  },
  {
   "cell_type": "code",
   "execution_count": 30,
   "id": "65c899ce",
   "metadata": {},
   "outputs": [
    {
     "data": {
      "text/plain": [
       "[\"[Music] your guest today beatrice rule carlo sommaruga president of the asloca hello carlo sommaruga before hearing you specifically about the situation of landlords we have taken the habit this radio lake also to take a little bit of the pulse of our guests how is what they are experiencing this confinement we know you are also advised to the states you are accustomed to regularly going to be at half-mast is what it's not already a bit complicated to stay as much as possible his choices currently to listen it is true that we were surprised with the suspension of parliamentary work at the last session and the fact that the third week had not taken place since then we have contacts in videoconference with our colleagues different parties and with our own party the offices of the chambers decided that the session would take place special mediation dedicated question believe the Russians at the beginning of the month is now you are not preparing this session that must address different financial issues and probably other aspects of the national policy of prevention and fight against the virus still helping the population to remain confined then will have\",\n",
       " 'More than 200 parliamentarians who are going to be together is not a little contradictory all the same name as it is not contradictory that the Federal Council continues to meet that the senior officials of the other country are present to be able to prepare the files and to ensure that the country is governed the Swiss Parliament an essential role is that of verifying the work is monitored by the Federal Council and the Administration and therefore it is also up to us to validate various decisions it was financial decisions since there is a lot of money that has been read on the table and there is also the problem of the mobilization of the army must according to the constitution be validated by the parliament otherwise the measure is not possible today the health context come into the situation of the many tenants are those who are technically unemployed that find themselves with difficulties to pay their rent the Federal Council announced Friday the extension of the payment period from 30 to 90 days that is a real breath of oxygen for all I think it is rather a cosmetic measure to the extent that if it is',\n",
       " 'It is clear that it is not by giving you sad and returning in three months that we will be able to restore our financial health and then to be able to pay the rent delays because if we do not respect these 90 days to pay the rent, we are not going to be able to pay the rent late, but we were asking for much more important measures, namely the suspension of the possibility of giving the leave on delays in commercial rent or housing, the adult is from the colora crisis of the inch one is still far from this situation, but it will be necessary for the Federal Council to address the problem more seriously than it had so far proposed to you the creation of a fund to pay the rent of the tenants how would it work very concretely first we ask that there be the free rent for all the traders who have had to close the premises because of the decisions of the',\n",
       " 'It is not conceivable that traders will have to pay the rent or that the confederation will see the canton otherwise this payment of rent for the property of owners who would receive the rents as if nothing was that it was not cooked it must be shared that the merchants will suffer the loss of income because their affairs do not work it is blocked and the owner must suffer the loss of rent there and then each one will address according to the instruments available to the federal council or to the accounts we also think that at the cantonal level there must be a fund that will help the tenants of housing or commercial tenants but not those that have had to close because of the decisions of the federal council to face the difficulties because many tenants will find it very difficult to finance their rent in the short and medium term so this is to think of this category of the population which is currently the largest that of the landlords one will project a whole',\n",
       " 'little to conclude towards the future without being alarmist we know that this health crisis sale belly and an economic crisis that it will be very complicated for some or even perhaps even lose their job because 8,19 you are thinking about a mechanism for the loan for perhaps six months a year against the economic consequences will really be felt to listen I believe that the Federal Council is doing everything to ensure that there is not this economic crisis there is first of all the system of the reduction of the working hours which is largely to be clicked and which allows in fact to keep the employees in the enterprises it is hoped that this can work in the medium term until the time when the crisis has passed there is a huge amount of money which is given in the form of a loan relay to the companies so that they can face the high obligations that the wages taken over by the unemployment insurance and then we also await this decision of the Federal Council which releases from the rent the tenants who do not have exploitable commercial surfaces since forbidden and I think that this economic crisis will be this lamella here be that',\n",
       " 'not of the magnitude that one will be able to know in some neighbouring countries we hope well that the entire population the exit from crisis can resume with an economic revival the extent that there are financial means that are well missions I am not economist therefore and especially not to say that it will be later but it needs these options to the small traders will be they are the ones who suffer most today since it is not the crisis of the great prices of big laced boots big multinationals today but it is the crisis of the small people of the small tenants of the small wage earners of the small independents and it is for them it is necessary to commit and that the federal council as the state council must do thank you many carlo sommaruga president leaves the case thank to very soon in studio on radio nac excellent day the firm day to all']"
      ]
     },
     "execution_count": 30,
     "metadata": {},
     "output_type": "execute_result"
    }
   ],
   "source": [
    "trans_text"
   ]
  },
  {
   "cell_type": "markdown",
   "id": "fc3a58a9",
   "metadata": {},
   "source": [
    "## Create context vector"
   ]
  },
  {
   "cell_type": "code",
   "execution_count": 31,
   "id": "3e7c5cfe",
   "metadata": {},
   "outputs": [],
   "source": [
    "context_vector = ' '.join(trans_text)"
   ]
  },
  {
   "cell_type": "code",
   "execution_count": 32,
   "id": "a8e36bb8",
   "metadata": {},
   "outputs": [],
   "source": [
    "with open('topics.pickle', 'rb') as handle:\n",
    "    topics_to_keyword = pickle.load(handle)"
   ]
  },
  {
   "cell_type": "code",
   "execution_count": 33,
   "id": "045745bf",
   "metadata": {},
   "outputs": [],
   "source": [
    "d = {'video_number': [1], 'context': [context_vector]}\n",
    "df = pd.DataFrame(data=d)"
   ]
  },
  {
   "cell_type": "code",
   "execution_count": 34,
   "id": "a73f61ad",
   "metadata": {},
   "outputs": [],
   "source": [
    "classes = [set() for _ in range(len(df))]\n",
    "\n",
    "for i, context in enumerate(df[\"context\"]):\n",
    "    for topic in topics_to_keyword:\n",
    "        for keyword in topics_to_keyword[topic]:\n",
    "            if keyword in context:\n",
    "                classes[i].add(topic)\n",
    "        "
   ]
  },
  {
   "cell_type": "code",
   "execution_count": 35,
   "id": "230d0daa",
   "metadata": {},
   "outputs": [],
   "source": [
    "df['topic'] = classes"
   ]
  },
  {
   "cell_type": "code",
   "execution_count": 36,
   "id": "d77c7bfd",
   "metadata": {},
   "outputs": [
    {
     "data": {
      "text/html": [
       "<div>\n",
       "<style scoped>\n",
       "    .dataframe tbody tr th:only-of-type {\n",
       "        vertical-align: middle;\n",
       "    }\n",
       "\n",
       "    .dataframe tbody tr th {\n",
       "        vertical-align: top;\n",
       "    }\n",
       "\n",
       "    .dataframe thead th {\n",
       "        text-align: right;\n",
       "    }\n",
       "</style>\n",
       "<table border=\"1\" class=\"dataframe\">\n",
       "  <thead>\n",
       "    <tr style=\"text-align: right;\">\n",
       "      <th></th>\n",
       "      <th>video_number</th>\n",
       "      <th>context</th>\n",
       "      <th>topic</th>\n",
       "    </tr>\n",
       "  </thead>\n",
       "  <tbody>\n",
       "    <tr>\n",
       "      <th>0</th>\n",
       "      <td>1</td>\n",
       "      <td>[Music] your guest today beatrice rule carlo s...</td>\n",
       "      <td>{immigration, health, external_relations, fami...</td>\n",
       "    </tr>\n",
       "  </tbody>\n",
       "</table>\n",
       "</div>"
      ],
      "text/plain": [
       "   video_number                                            context  \\\n",
       "0             1  [Music] your guest today beatrice rule carlo s...   \n",
       "\n",
       "                                               topic  \n",
       "0  {immigration, health, external_relations, fami...  "
      ]
     },
     "execution_count": 36,
     "metadata": {},
     "output_type": "execute_result"
    }
   ],
   "source": [
    "df"
   ]
  },
  {
   "cell_type": "markdown",
   "id": "37a4977d",
   "metadata": {},
   "source": [
    "## Import df questions"
   ]
  },
  {
   "cell_type": "code",
   "execution_count": 37,
   "id": "173e7c8b",
   "metadata": {},
   "outputs": [],
   "source": [
    "df_questions = pd.read_csv('./csv/carlo_questions_keywords.csv', sep=';', encoding='latin-1')"
   ]
  },
  {
   "cell_type": "code",
   "execution_count": 38,
   "id": "36395819",
   "metadata": {},
   "outputs": [],
   "source": [
    "#convert to binary\n",
    "df_questions[\"question\"] = df_questions['question'].str[4:-2]\n",
    "df_questions.loc[df_questions['smartvote_answers'] >= 3, 'binary_smarvote_answer'] = 0\n",
    "df_questions.loc[df_questions['smartvote_answers'] <= 2, 'binary_smarvote_answer'] = 1"
   ]
  },
  {
   "cell_type": "code",
   "execution_count": 39,
   "id": "23dd2d4a",
   "metadata": {},
   "outputs": [],
   "source": [
    "topics =  list(topics_to_keyword.keys())"
   ]
  },
  {
   "cell_type": "code",
   "execution_count": 40,
   "id": "3d681432",
   "metadata": {},
   "outputs": [],
   "source": [
    "videos_with_topic = defaultdict(list)"
   ]
  },
  {
   "cell_type": "code",
   "execution_count": 41,
   "id": "8fc80974",
   "metadata": {},
   "outputs": [],
   "source": [
    "for i in range(len(df)):\n",
    "    if df.iloc[i]['topic']:\n",
    "        for topic in df.iloc[i]['topic']:\n",
    "            videos_with_topic[topic].append(df.iloc[i]['context'])\n",
    "        "
   ]
  },
  {
   "cell_type": "code",
   "execution_count": 42,
   "id": "51f26bb7",
   "metadata": {},
   "outputs": [],
   "source": [
    "context_videos = {}        "
   ]
  },
  {
   "cell_type": "code",
   "execution_count": 43,
   "id": "c5e310c6",
   "metadata": {},
   "outputs": [],
   "source": [
    "#join context vidoes\n",
    "for topic in topics:\n",
    "    context_videos[topic] = ''.join(videos_with_topic[topic])"
   ]
  },
  {
   "cell_type": "code",
   "execution_count": 44,
   "id": "dd1ddf13",
   "metadata": {},
   "outputs": [],
   "source": [
    "qa_model = pipeline(\"question-answering\", model = \"srcocotero/bert-large-qa\")"
   ]
  },
  {
   "cell_type": "code",
   "execution_count": null,
   "id": "348c8b31",
   "metadata": {},
   "outputs": [
    {
     "name": "stderr",
     "output_type": "stream",
     "text": [
      " 72%|███████▏  | 43/60 [02:39<00:59,  3.48s/it]"
     ]
    }
   ],
   "source": [
    "# THIS IS ONLY VALID FOR ONE VIDEO, NEED TO CHANGE CODE for MULTIPLE VIDEOS!!!!!!!\n",
    "\n",
    "huggingface_answers = []\n",
    "for i in tqdm(range(len(df_questions))):\n",
    "    question = df_questions.iloc[i]['Simplified question']\n",
    "    topic = df_questions.iloc[i]['Topic']\n",
    "    context = df['context'][0]        \n",
    "    huggingface_answers.append(qa_model(question = question, context = context))"
   ]
  },
  {
   "cell_type": "code",
   "execution_count": null,
   "id": "32f19b3d",
   "metadata": {},
   "outputs": [],
   "source": [
    "df_questions[\"huggingface_answers\"] = huggingface_answers"
   ]
  },
  {
   "cell_type": "code",
   "execution_count": null,
   "id": "b068ef63",
   "metadata": {},
   "outputs": [],
   "source": [
    "df_questions.to_csv(\"./csv/questions/video_answers.csv\")"
   ]
  },
  {
   "cell_type": "code",
   "execution_count": null,
   "id": "d09b183c",
   "metadata": {},
   "outputs": [],
   "source": [
    "df_questions_videos=pd.read_csv(\"./csv/questions/videos_cami_label.csv\", delimiter = ';')"
   ]
  },
  {
   "cell_type": "code",
   "execution_count": null,
   "id": "2da6a851",
   "metadata": {},
   "outputs": [],
   "source": [
    "df_questions_videos"
   ]
  },
  {
   "cell_type": "markdown",
   "id": "497e2977",
   "metadata": {},
   "source": [
    "## Evaluation"
   ]
  },
  {
   "cell_type": "code",
   "execution_count": 156,
   "id": "552a2a30",
   "metadata": {},
   "outputs": [
    {
     "data": {
      "text/plain": [
       "array([[ 1,  1, 19],\n",
       "       [ 1,  5, 33],\n",
       "       [ 0,  0,  0]])"
      ]
     },
     "execution_count": 156,
     "metadata": {},
     "output_type": "execute_result"
    }
   ],
   "source": [
    "sklearn.metrics.confusion_matrix(df_questions_videos[\"binary_smarvote_answer\"], df_questions_videos[\"cami_answers\"])"
   ]
  },
  {
   "cell_type": "code",
   "execution_count": 157,
   "id": "949af521",
   "metadata": {},
   "outputs": [
    {
     "name": "stdout",
     "output_type": "stream",
     "text": [
      "[[ 1  1 19]\n",
      " [ 1  5 33]\n",
      " [ 0  0  0]]\n"
     ]
    },
    {
     "name": "stderr",
     "output_type": "stream",
     "text": [
      "/home/ec2-user/anaconda3/envs/amazonei_mxnet_p36/lib/python3.6/site-packages/ipykernel/__main__.py:11: UserWarning: FixedFormatter should only be used together with FixedLocator\n",
      "/home/ec2-user/anaconda3/envs/amazonei_mxnet_p36/lib/python3.6/site-packages/ipykernel/__main__.py:12: UserWarning: FixedFormatter should only be used together with FixedLocator\n"
     ]
    },
    {
     "data": {
      "image/png": "[encoded data removed]",
      "text/plain": [
       "<Figure size 432x288 with 2 Axes>"
      ]
     },
     "metadata": {
      "needs_background": "light"
     },
     "output_type": "display_data"
    }
   ],
   "source": [
    "from sklearn.metrics import confusion_matrix\n",
    "\n",
    "labels = ['0', '1', '2']\n",
    "cm = confusion_matrix(df_questions_videos[\"binary_smarvote_answer\"], df_questions_videos[\"cami_answers\"])\n",
    "print(cm)\n",
    "fig = plt.figure()\n",
    "ax = fig.add_subplot(111)\n",
    "cax = ax.matshow(cm)\n",
    "plt.title('Confusion matrix for Tweets using All tweets')\n",
    "fig.colorbar(cax)\n",
    "ax.set_xticklabels([''] + labels)\n",
    "ax.set_yticklabels([''] + labels)\n",
    "plt.xlabel('Predicted')\n",
    "plt.ylabel('True')\n",
    "plt.show()"
   ]
  },
  {
   "cell_type": "markdown",
   "id": "2ebbdad2",
   "metadata": {},
   "source": [
    "not very optimistic, transcription is not great\n",
    "--> and then we translate\n",
    "add more videos, create context vectors"
   ]
  },
  {
   "cell_type": "code",
   "execution_count": null,
   "id": "90459dc0",
   "metadata": {},
   "outputs": [],
   "source": []
  }
 ],
 "metadata": {
  "kernelspec": {
   "display_name": "conda_amazonei_mxnet_p36",
   "language": "python",
   "name": "conda_amazonei_mxnet_p36"
  },
  "language_info": {
   "codemirror_mode": {
    "name": "ipython",
    "version": 3
   },
   "file_extension": ".py",
   "mimetype": "text/x-python",
   "name": "python",
   "nbconvert_exporter": "python",
   "pygments_lexer": "ipython3",
   "version": "3.6.13"
  }
 },
 "nbformat": 4,
 "nbformat_minor": 5
}
