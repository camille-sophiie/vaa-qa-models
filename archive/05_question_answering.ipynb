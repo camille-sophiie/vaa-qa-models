{
 "cells": [
  {
   "cell_type": "code",
   "execution_count": 1,
   "id": "64b0e6f5",
   "metadata": {},
   "outputs": [
    {
     "name": "stderr",
     "output_type": "stream",
     "text": [
      "No model was supplied, defaulted to distilbert-base-cased-distilled-squad (https://huggingface.co/distilbert-base-cased-distilled-squad)\n"
     ]
    },
    {
     "data": {
      "application/vnd.jupyter.widget-view+json": {
       "model_id": "9068476bcd3945f6bb5980378abf8f43",
       "version_major": 2,
       "version_minor": 0
      },
      "text/plain": [
       "Downloading:   0%|          | 0.00/473 [00:00<?, ?B/s]"
      ]
     },
     "metadata": {},
     "output_type": "display_data"
    },
    {
     "data": {
      "application/vnd.jupyter.widget-view+json": {
       "model_id": "a75686734c194acdbc4bdd1257881c9b",
       "version_major": 2,
       "version_minor": 0
      },
      "text/plain": [
       "Downloading:   0%|          | 0.00/249M [00:00<?, ?B/s]"
      ]
     },
     "metadata": {},
     "output_type": "display_data"
    },
    {
     "data": {
      "application/vnd.jupyter.widget-view+json": {
       "model_id": "3ab6ad129a5d4d15ad5029ca843f9a50",
       "version_major": 2,
       "version_minor": 0
      },
      "text/plain": [
       "Downloading:   0%|          | 0.00/29.0 [00:00<?, ?B/s]"
      ]
     },
     "metadata": {},
     "output_type": "display_data"
    },
    {
     "data": {
      "application/vnd.jupyter.widget-view+json": {
       "model_id": "4c77a62f88a24757aa714d6a471755c4",
       "version_major": 2,
       "version_minor": 0
      },
      "text/plain": [
       "Downloading:   0%|          | 0.00/208k [00:00<?, ?B/s]"
      ]
     },
     "metadata": {},
     "output_type": "display_data"
    },
    {
     "data": {
      "application/vnd.jupyter.widget-view+json": {
       "model_id": "ec860b4e734b4529b0f118c03e2e8b92",
       "version_major": 2,
       "version_minor": 0
      },
      "text/plain": [
       "Downloading:   0%|          | 0.00/426k [00:00<?, ?B/s]"
      ]
     },
     "metadata": {},
     "output_type": "display_data"
    },
    {
     "data": {
      "text/plain": [
       "{'score': 0.95381098985672, 'start': 31, 'end': 39, 'answer': 'İstanbul'}"
      ]
     },
     "execution_count": 1,
     "metadata": {},
     "output_type": "execute_result"
    }
   ],
   "source": [
    "from transformers import pipeline\n",
    "\n",
    "qa_model = pipeline(\"question-answering\")\n",
    "question = \"Where do I live?\"\n",
    "context = \"My name is Merve and I live in İstanbul.\"\n",
    "qa_model(question = question, context = context)"
   ]
  },
  {
   "cell_type": "code",
   "execution_count": 2,
   "id": "0a882d69",
   "metadata": {},
   "outputs": [],
   "source": [
    "#test 1, source: https://www.luzernerzeitung.ch/schweiz/ahv-aus-taktischen-gruenden-berset-wendet-im-bundesrat-ein-rentenalter-66-ab-ld.2218867?reduced=true"
   ]
  },
  {
   "cell_type": "code",
   "execution_count": 13,
   "id": "82f6bca5",
   "metadata": {},
   "outputs": [],
   "source": [
    "context = \"For tactical reasons: Berset averts a retirement age of 66 in the Federal Council. The initiative of the Young Freisinners enjoys a lot of sympathy in the Federal Council. Nevertheless, he managed to say no - for tactical reasons. How this about-turn came about.\"\n",
    "question =  \"are you in favour of raising the retirement age (e.g. to 67) for women and men? \""
   ]
  },
  {
   "cell_type": "code",
   "execution_count": 5,
   "id": "bd27c62e",
   "metadata": {},
   "outputs": [
    {
     "data": {
      "text/plain": [
       "{'score': 0.0854032039642334,\n",
       " 'start': 22,\n",
       " 'end': 81,\n",
       " 'answer': 'Berset averts a retirement age of 66 in the Federal Council'}"
      ]
     },
     "execution_count": 5,
     "metadata": {},
     "output_type": "execute_result"
    }
   ],
   "source": [
    "qa_model(question = question, context = context)"
   ]
  },
  {
   "cell_type": "code",
   "execution_count": 14,
   "id": "71993dc5",
   "metadata": {},
   "outputs": [],
   "source": [
    "#test 2 AHV reform,  alain berset twitter sep 5\n",
    "context = \"In Lausanne for the #AHV21 reform, which we will vote on in just under 3 weeks. A compromise that secures our most important social security system for the future - with additional revenues and savings. The two proposals are linked: we need two Yes votes for the reform to succeed.\"\n",
    "question = \"Would you like to increase spending?\""
   ]
  },
  {
   "cell_type": "code",
   "execution_count": 15,
   "id": "11d26ae1",
   "metadata": {},
   "outputs": [
    {
     "data": {
      "text/plain": [
       "{'score': 0.022849639877676964, 'start': 194, 'end': 201, 'answer': 'savings'}"
      ]
     },
     "execution_count": 15,
     "metadata": {},
     "output_type": "execute_result"
    }
   ],
   "source": [
    "qa_model(question = question, context = context)"
   ]
  },
  {
   "cell_type": "code",
   "execution_count": null,
   "id": "1e1b6c3a",
   "metadata": {},
   "outputs": [],
   "source": []
  }
 ],
 "metadata": {
  "kernelspec": {
   "display_name": "conda_amazonei_mxnet_p36",
   "language": "python",
   "name": "conda_amazonei_mxnet_p36"
  },
  "language_info": {
   "codemirror_mode": {
    "name": "ipython",
    "version": 3
   },
   "file_extension": ".py",
   "mimetype": "text/x-python",
   "name": "python",
   "nbconvert_exporter": "python",
   "pygments_lexer": "ipython3",
   "version": "3.6.13"
  }
 },
 "nbformat": 4,
 "nbformat_minor": 5
}
